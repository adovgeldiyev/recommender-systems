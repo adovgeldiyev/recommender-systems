{
 "cells": [
  {
   "cell_type": "markdown",
   "metadata": {},
   "source": [
    "### CSC 577 Recommender Systems <br>Azat Dovgeldiyev <br> Assignment 1"
   ]
  },
  {
   "cell_type": "markdown",
   "metadata": {},
   "source": [
    "### Part 1. [25 pts] Basic Data Processing, Analysis, and Visualization"
   ]
  },
  {
   "cell_type": "code",
   "execution_count": 1,
   "metadata": {},
   "outputs": [],
   "source": [
    "import pandas as pd\n",
    "import numpy as np\n",
    "import matplotlib.pyplot as plt\n",
    "import json\n",
    "%matplotlib inline"
   ]
  },
  {
   "cell_type": "code",
   "execution_count": 2,
   "metadata": {
    "scrolled": true
   },
   "outputs": [],
   "source": [
    "df = pd.read_json('http://facweb.cs.depaul.edu/mobasher/classes/csc577/data/fantasy_10000.json', lines=True)\n",
    "#df.head()"
   ]
  },
  {
   "cell_type": "markdown",
   "metadata": {},
   "source": [
    "After reading in the data, add a new variable \"rev_length\" to the data frame containing the length of each review text in terms of the number of characters. Then remove the \"review_text\" variable as well as variables containing dates to create a new working data frame for the rest of this assignment. Display the top 10 entries in the data frame."
   ]
  },
  {
   "cell_type": "code",
   "execution_count": 3,
   "metadata": {},
   "outputs": [],
   "source": [
    "df['rev_length'] = df.review_text.apply(lambda x: len(x.split()))"
   ]
  },
  {
   "cell_type": "code",
   "execution_count": 4,
   "metadata": {},
   "outputs": [
    {
     "data": {
      "text/html": [
       "<div>\n",
       "<style scoped>\n",
       "    .dataframe tbody tr th:only-of-type {\n",
       "        vertical-align: middle;\n",
       "    }\n",
       "\n",
       "    .dataframe tbody tr th {\n",
       "        vertical-align: top;\n",
       "    }\n",
       "\n",
       "    .dataframe thead th {\n",
       "        text-align: right;\n",
       "    }\n",
       "</style>\n",
       "<table border=\"1\" class=\"dataframe\">\n",
       "  <thead>\n",
       "    <tr style=\"text-align: right;\">\n",
       "      <th></th>\n",
       "      <th>user_id</th>\n",
       "      <th>book_id</th>\n",
       "      <th>review_id</th>\n",
       "      <th>rating</th>\n",
       "      <th>n_votes</th>\n",
       "      <th>n_comments</th>\n",
       "      <th>rev_length</th>\n",
       "    </tr>\n",
       "  </thead>\n",
       "  <tbody>\n",
       "    <tr>\n",
       "      <th>0</th>\n",
       "      <td>8842281e1d1347389f2ab93d60773d4d</td>\n",
       "      <td>18245960</td>\n",
       "      <td>dfdbb7b0eb5a7e4c26d59a937e2e5feb</td>\n",
       "      <td>5</td>\n",
       "      <td>28</td>\n",
       "      <td>1</td>\n",
       "      <td>365</td>\n",
       "    </tr>\n",
       "    <tr>\n",
       "      <th>1</th>\n",
       "      <td>8842281e1d1347389f2ab93d60773d4d</td>\n",
       "      <td>5577844</td>\n",
       "      <td>52c8ac49496c153e4a97161e36b2db55</td>\n",
       "      <td>5</td>\n",
       "      <td>5</td>\n",
       "      <td>1</td>\n",
       "      <td>282</td>\n",
       "    </tr>\n",
       "    <tr>\n",
       "      <th>2</th>\n",
       "      <td>8842281e1d1347389f2ab93d60773d4d</td>\n",
       "      <td>17315048</td>\n",
       "      <td>885c772fb033b041f42d57cef5be0a43</td>\n",
       "      <td>5</td>\n",
       "      <td>25</td>\n",
       "      <td>5</td>\n",
       "      <td>275</td>\n",
       "    </tr>\n",
       "    <tr>\n",
       "      <th>3</th>\n",
       "      <td>8842281e1d1347389f2ab93d60773d4d</td>\n",
       "      <td>13453029</td>\n",
       "      <td>46a6e1a14e8afc82d221fec0a2bd3dd0</td>\n",
       "      <td>4</td>\n",
       "      <td>5</td>\n",
       "      <td>1</td>\n",
       "      <td>324</td>\n",
       "    </tr>\n",
       "    <tr>\n",
       "      <th>4</th>\n",
       "      <td>8842281e1d1347389f2ab93d60773d4d</td>\n",
       "      <td>13239822</td>\n",
       "      <td>a582bfa8efd69d453a5a21a678046b36</td>\n",
       "      <td>3</td>\n",
       "      <td>7</td>\n",
       "      <td>0</td>\n",
       "      <td>314</td>\n",
       "    </tr>\n",
       "    <tr>\n",
       "      <th>5</th>\n",
       "      <td>8842281e1d1347389f2ab93d60773d4d</td>\n",
       "      <td>62291</td>\n",
       "      <td>e23965adda7ce7e7e415a1339e169065</td>\n",
       "      <td>5</td>\n",
       "      <td>5</td>\n",
       "      <td>1</td>\n",
       "      <td>88</td>\n",
       "    </tr>\n",
       "    <tr>\n",
       "      <th>6</th>\n",
       "      <td>8842281e1d1347389f2ab93d60773d4d</td>\n",
       "      <td>41804</td>\n",
       "      <td>2bcbe2300fe1801197f9bfe1f1c883ba</td>\n",
       "      <td>5</td>\n",
       "      <td>12</td>\n",
       "      <td>2</td>\n",
       "      <td>152</td>\n",
       "    </tr>\n",
       "    <tr>\n",
       "      <th>7</th>\n",
       "      <td>8842281e1d1347389f2ab93d60773d4d</td>\n",
       "      <td>136251</td>\n",
       "      <td>132eab4c9a3724493204cc083e0e2ecc</td>\n",
       "      <td>5</td>\n",
       "      <td>6</td>\n",
       "      <td>3</td>\n",
       "      <td>97</td>\n",
       "    </tr>\n",
       "    <tr>\n",
       "      <th>8</th>\n",
       "      <td>8842281e1d1347389f2ab93d60773d4d</td>\n",
       "      <td>142296</td>\n",
       "      <td>400f536181a8ccf3a0f6b37d3fec14eb</td>\n",
       "      <td>4</td>\n",
       "      <td>6</td>\n",
       "      <td>2</td>\n",
       "      <td>110</td>\n",
       "    </tr>\n",
       "    <tr>\n",
       "      <th>9</th>\n",
       "      <td>8842281e1d1347389f2ab93d60773d4d</td>\n",
       "      <td>76620</td>\n",
       "      <td>9206654986a733bd753753aa0c882813</td>\n",
       "      <td>5</td>\n",
       "      <td>30</td>\n",
       "      <td>2</td>\n",
       "      <td>103</td>\n",
       "    </tr>\n",
       "  </tbody>\n",
       "</table>\n",
       "</div>"
      ],
      "text/plain": [
       "                            user_id   book_id  \\\n",
       "0  8842281e1d1347389f2ab93d60773d4d  18245960   \n",
       "1  8842281e1d1347389f2ab93d60773d4d   5577844   \n",
       "2  8842281e1d1347389f2ab93d60773d4d  17315048   \n",
       "3  8842281e1d1347389f2ab93d60773d4d  13453029   \n",
       "4  8842281e1d1347389f2ab93d60773d4d  13239822   \n",
       "5  8842281e1d1347389f2ab93d60773d4d     62291   \n",
       "6  8842281e1d1347389f2ab93d60773d4d     41804   \n",
       "7  8842281e1d1347389f2ab93d60773d4d    136251   \n",
       "8  8842281e1d1347389f2ab93d60773d4d    142296   \n",
       "9  8842281e1d1347389f2ab93d60773d4d     76620   \n",
       "\n",
       "                          review_id  rating  n_votes  n_comments  rev_length  \n",
       "0  dfdbb7b0eb5a7e4c26d59a937e2e5feb       5       28           1         365  \n",
       "1  52c8ac49496c153e4a97161e36b2db55       5        5           1         282  \n",
       "2  885c772fb033b041f42d57cef5be0a43       5       25           5         275  \n",
       "3  46a6e1a14e8afc82d221fec0a2bd3dd0       4        5           1         324  \n",
       "4  a582bfa8efd69d453a5a21a678046b36       3        7           0         314  \n",
       "5  e23965adda7ce7e7e415a1339e169065       5        5           1          88  \n",
       "6  2bcbe2300fe1801197f9bfe1f1c883ba       5       12           2         152  \n",
       "7  132eab4c9a3724493204cc083e0e2ecc       5        6           3          97  \n",
       "8  400f536181a8ccf3a0f6b37d3fec14eb       4        6           2         110  \n",
       "9  9206654986a733bd753753aa0c882813       5       30           2         103  "
      ]
     },
     "execution_count": 4,
     "metadata": {},
     "output_type": "execute_result"
    }
   ],
   "source": [
    "df.drop(['review_text','date_added', 'date_updated','read_at','started_at'], axis=1,inplace =True)\n",
    "df.head(10)"
   ]
  },
  {
   "cell_type": "markdown",
   "metadata": {},
   "source": [
    "Use Pandas to display basic summary statistics (such as mean, min, max) for the numeric variables. Then, compute the total number of unique users and unique items (books) in the data. Also determine if there are any null values in the data."
   ]
  },
  {
   "cell_type": "code",
   "execution_count": 5,
   "metadata": {},
   "outputs": [
    {
     "data": {
      "text/html": [
       "<div>\n",
       "<style scoped>\n",
       "    .dataframe tbody tr th:only-of-type {\n",
       "        vertical-align: middle;\n",
       "    }\n",
       "\n",
       "    .dataframe tbody tr th {\n",
       "        vertical-align: top;\n",
       "    }\n",
       "\n",
       "    .dataframe thead th {\n",
       "        text-align: right;\n",
       "    }\n",
       "</style>\n",
       "<table border=\"1\" class=\"dataframe\">\n",
       "  <thead>\n",
       "    <tr style=\"text-align: right;\">\n",
       "      <th></th>\n",
       "      <th>book_id</th>\n",
       "      <th>rating</th>\n",
       "      <th>n_votes</th>\n",
       "      <th>n_comments</th>\n",
       "      <th>rev_length</th>\n",
       "    </tr>\n",
       "  </thead>\n",
       "  <tbody>\n",
       "    <tr>\n",
       "      <th>count</th>\n",
       "      <td>1.000000e+04</td>\n",
       "      <td>10000.000000</td>\n",
       "      <td>10000.000000</td>\n",
       "      <td>10000.000000</td>\n",
       "      <td>10000.000000</td>\n",
       "    </tr>\n",
       "    <tr>\n",
       "      <th>mean</th>\n",
       "      <td>1.225775e+07</td>\n",
       "      <td>3.740100</td>\n",
       "      <td>1.587600</td>\n",
       "      <td>0.277800</td>\n",
       "      <td>141.840200</td>\n",
       "    </tr>\n",
       "    <tr>\n",
       "      <th>std</th>\n",
       "      <td>9.452557e+06</td>\n",
       "      <td>1.247921</td>\n",
       "      <td>11.348075</td>\n",
       "      <td>1.502149</td>\n",
       "      <td>180.330789</td>\n",
       "    </tr>\n",
       "    <tr>\n",
       "      <th>min</th>\n",
       "      <td>1.000000e+00</td>\n",
       "      <td>0.000000</td>\n",
       "      <td>0.000000</td>\n",
       "      <td>0.000000</td>\n",
       "      <td>0.000000</td>\n",
       "    </tr>\n",
       "    <tr>\n",
       "      <th>25%</th>\n",
       "      <td>3.072832e+06</td>\n",
       "      <td>3.000000</td>\n",
       "      <td>0.000000</td>\n",
       "      <td>0.000000</td>\n",
       "      <td>29.000000</td>\n",
       "    </tr>\n",
       "    <tr>\n",
       "      <th>50%</th>\n",
       "      <td>1.200049e+07</td>\n",
       "      <td>4.000000</td>\n",
       "      <td>0.000000</td>\n",
       "      <td>0.000000</td>\n",
       "      <td>78.000000</td>\n",
       "    </tr>\n",
       "    <tr>\n",
       "      <th>75%</th>\n",
       "      <td>1.858486e+07</td>\n",
       "      <td>5.000000</td>\n",
       "      <td>1.000000</td>\n",
       "      <td>0.000000</td>\n",
       "      <td>179.000000</td>\n",
       "    </tr>\n",
       "    <tr>\n",
       "      <th>max</th>\n",
       "      <td>3.630763e+07</td>\n",
       "      <td>5.000000</td>\n",
       "      <td>355.000000</td>\n",
       "      <td>45.000000</td>\n",
       "      <td>2570.000000</td>\n",
       "    </tr>\n",
       "  </tbody>\n",
       "</table>\n",
       "</div>"
      ],
      "text/plain": [
       "            book_id        rating       n_votes    n_comments    rev_length\n",
       "count  1.000000e+04  10000.000000  10000.000000  10000.000000  10000.000000\n",
       "mean   1.225775e+07      3.740100      1.587600      0.277800    141.840200\n",
       "std    9.452557e+06      1.247921     11.348075      1.502149    180.330789\n",
       "min    1.000000e+00      0.000000      0.000000      0.000000      0.000000\n",
       "25%    3.072832e+06      3.000000      0.000000      0.000000     29.000000\n",
       "50%    1.200049e+07      4.000000      0.000000      0.000000     78.000000\n",
       "75%    1.858486e+07      5.000000      1.000000      0.000000    179.000000\n",
       "max    3.630763e+07      5.000000    355.000000     45.000000   2570.000000"
      ]
     },
     "execution_count": 5,
     "metadata": {},
     "output_type": "execute_result"
    }
   ],
   "source": [
    "#five-number summaries generates for numerical attributes\n",
    "df.describe()"
   ]
  },
  {
   "cell_type": "code",
   "execution_count": 6,
   "metadata": {},
   "outputs": [
    {
     "name": "stdout",
     "output_type": "stream",
     "text": [
      "Number of unique users:  649\n",
      "Number of unique items (books):  6465\n"
     ]
    }
   ],
   "source": [
    "print(\"Number of unique users: \", len(set(df.user_id)))\n",
    "print(\"Number of unique items (books): \", len(set(df.book_id)))"
   ]
  },
  {
   "cell_type": "code",
   "execution_count": 7,
   "metadata": {},
   "outputs": [
    {
     "data": {
      "text/plain": [
       "user_id       0\n",
       "book_id       0\n",
       "review_id     0\n",
       "rating        0\n",
       "n_votes       0\n",
       "n_comments    0\n",
       "rev_length    0\n",
       "dtype: int64"
      ]
     },
     "execution_count": 7,
     "metadata": {},
     "output_type": "execute_result"
    }
   ],
   "source": [
    "#Check if there are any null values\n",
    "df.isnull().sum()"
   ]
  },
  {
   "cell_type": "markdown",
   "metadata": {},
   "source": [
    "Use Pandas, Matplotlib, or other appropriate Python tools to visualize the distributions of variables \"n_votes\", \"n_comments\" and \"rev_length\". Also, compute and display the distribution of the counts of rating values."
   ]
  },
  {
   "cell_type": "code",
   "execution_count": 8,
   "metadata": {},
   "outputs": [
    {
     "data": {
      "image/png": "[encoded data removed]",
      "text/plain": [
       "<Figure size 432x288 with 1 Axes>"
      ]
     },
     "metadata": {
      "needs_background": "light"
     },
     "output_type": "display_data"
    }
   ],
   "source": [
    "#used log scale to reduce wide range to a manageable size\n",
    "df['n_votes'].plot(kind=\"hist\", bins=20, title='Frequency of number of votes')\n",
    "plt.yscale('log')"
   ]
  },
  {
   "cell_type": "code",
   "execution_count": 9,
   "metadata": {},
   "outputs": [
    {
     "data": {
      "image/png": "[encoded data removed]",
      "text/plain": [
       "<Figure size 432x288 with 1 Axes>"
      ]
     },
     "metadata": {
      "needs_background": "light"
     },
     "output_type": "display_data"
    }
   ],
   "source": [
    "df['n_comments'].plot(kind=\"hist\", bins=20, title='Frequency of number of comments')\n",
    "plt.yscale('log')"
   ]
  },
  {
   "cell_type": "code",
   "execution_count": 10,
   "metadata": {},
   "outputs": [
    {
     "name": "stdout",
     "output_type": "stream",
     "text": [
      "4    3265\n",
      "5    3232\n",
      "3    2113\n",
      "2     778\n",
      "0     326\n",
      "1     286\n",
      "Name: rating, dtype: int64\n"
     ]
    }
   ],
   "source": [
    "print(df['rating'].value_counts())"
   ]
  },
  {
   "cell_type": "code",
   "execution_count": 11,
   "metadata": {},
   "outputs": [
    {
     "data": {
      "text/plain": [
       "(array([0, 1, 2, 3, 4, 5]), <a list of 6 Text xticklabel objects>)"
      ]
     },
     "execution_count": 11,
     "metadata": {},
     "output_type": "execute_result"
    },
    {
     "data": {
      "image/png": "[encoded data removed]",
      "text/plain": [
       "<Figure size 432x288 with 1 Axes>"
      ]
     },
     "metadata": {
      "needs_background": "light"
     },
     "output_type": "display_data"
    }
   ],
   "source": [
    "df[\"rating\"].value_counts(sort=False).plot(kind='bar')\n",
    "plt.xticks(rotation=45)"
   ]
  },
  {
   "cell_type": "markdown",
   "metadata": {},
   "source": [
    "Using a line plot, display the distribution of user rating frequncy (the combined number of ratings given by each user across all items). Your line plot should have users, sorted by rating frequency, in the x_axis and the number of ratings per user in the y-axis (Your graph should look something like this example from the Movielens data set). Create a similar plot for the book rating frequency (total number of ratings received by each book)."
   ]
  },
  {
   "cell_type": "code",
   "execution_count": 12,
   "metadata": {},
   "outputs": [],
   "source": [
    "from collections import Counter\n",
    "\n",
    "u_count = Counter(df.user_id)"
   ]
  },
  {
   "cell_type": "code",
   "execution_count": 13,
   "metadata": {},
   "outputs": [],
   "source": [
    "user_freqs = np.array(list(u_count.values()))"
   ]
  },
  {
   "cell_type": "code",
   "execution_count": 14,
   "metadata": {},
   "outputs": [
    {
     "data": {
      "image/png": "[encoded data removed]",
      "text/plain": [
       "<Figure size 432x288 with 1 Axes>"
      ]
     },
     "metadata": {
      "needs_background": "light"
     },
     "output_type": "display_data"
    }
   ],
   "source": [
    "plt.plot(sorted(user_freqs, reverse = True))\n",
    "plt.ylabel('rating frequency')\n",
    "plt.xlabel('users')\n",
    "plt.show()"
   ]
  },
  {
   "cell_type": "markdown",
   "metadata": {},
   "source": [
    "From the above plot we can see that only few users rated books."
   ]
  },
  {
   "cell_type": "code",
   "execution_count": 15,
   "metadata": {},
   "outputs": [
    {
     "data": {
      "image/png": "[encoded data removed]",
      "text/plain": [
       "<Figure size 432x288 with 1 Axes>"
      ]
     },
     "metadata": {
      "needs_background": "light"
     },
     "output_type": "display_data"
    }
   ],
   "source": [
    "b_count = Counter(df.book_id)\n",
    "book_freqs = np.array(list(b_count.values()))\n",
    "plt.plot(sorted(book_freqs, reverse = True))\n",
    "plt.ylabel('rating frequency')\n",
    "plt.xlabel('books')\n",
    "plt.show()"
   ]
  },
  {
   "cell_type": "markdown",
   "metadata": {},
   "source": [
    "Finally, create a correlation matrix showing pairwise Pearson correlation coefficients among the four numeric variables (\"rating\", \"n_votes\", \"n_comments\", and \"rev_length\")."
   ]
  },
  {
   "cell_type": "code",
   "execution_count": 16,
   "metadata": {},
   "outputs": [
    {
     "data": {
      "text/html": [
       "<div>\n",
       "<style scoped>\n",
       "    .dataframe tbody tr th:only-of-type {\n",
       "        vertical-align: middle;\n",
       "    }\n",
       "\n",
       "    .dataframe tbody tr th {\n",
       "        vertical-align: top;\n",
       "    }\n",
       "\n",
       "    .dataframe thead th {\n",
       "        text-align: right;\n",
       "    }\n",
       "</style>\n",
       "<table border=\"1\" class=\"dataframe\">\n",
       "  <thead>\n",
       "    <tr style=\"text-align: right;\">\n",
       "      <th></th>\n",
       "      <th>rating</th>\n",
       "      <th>n_votes</th>\n",
       "      <th>n_comments</th>\n",
       "      <th>rev_length</th>\n",
       "    </tr>\n",
       "  </thead>\n",
       "  <tbody>\n",
       "    <tr>\n",
       "      <th>rating</th>\n",
       "      <td>1.000000</td>\n",
       "      <td>0.009662</td>\n",
       "      <td>-0.030303</td>\n",
       "      <td>0.056451</td>\n",
       "    </tr>\n",
       "    <tr>\n",
       "      <th>n_votes</th>\n",
       "      <td>0.009662</td>\n",
       "      <td>1.000000</td>\n",
       "      <td>0.334845</td>\n",
       "      <td>0.025064</td>\n",
       "    </tr>\n",
       "    <tr>\n",
       "      <th>n_comments</th>\n",
       "      <td>-0.030303</td>\n",
       "      <td>0.334845</td>\n",
       "      <td>1.000000</td>\n",
       "      <td>0.140396</td>\n",
       "    </tr>\n",
       "    <tr>\n",
       "      <th>rev_length</th>\n",
       "      <td>0.056451</td>\n",
       "      <td>0.025064</td>\n",
       "      <td>0.140396</td>\n",
       "      <td>1.000000</td>\n",
       "    </tr>\n",
       "  </tbody>\n",
       "</table>\n",
       "</div>"
      ],
      "text/plain": [
       "              rating   n_votes  n_comments  rev_length\n",
       "rating      1.000000  0.009662   -0.030303    0.056451\n",
       "n_votes     0.009662  1.000000    0.334845    0.025064\n",
       "n_comments -0.030303  0.334845    1.000000    0.140396\n",
       "rev_length  0.056451  0.025064    0.140396    1.000000"
      ]
     },
     "execution_count": 16,
     "metadata": {},
     "output_type": "execute_result"
    }
   ],
   "source": [
    "corr_mat = df[['rating','n_votes','n_comments','rev_length']].corr()\n",
    "corr_mat"
   ]
  },
  {
   "cell_type": "markdown",
   "metadata": {},
   "source": [
    "Correlation between variables seem to be weak, also there is a negative relationship between n_comments and rating."
   ]
  },
  {
   "cell_type": "markdown",
   "metadata": {},
   "source": [
    "### Part 2. [35 pts] Regression-Based Prediction Models"
   ]
  },
  {
   "cell_type": "markdown",
   "metadata": {},
   "source": [
    "Construct and evaluate a basic regression models to predict the \"rating\" value (the target variable) based on the other 3 numeric values (\"n_votes\", \"n_comments\", and \"rev_length\"). You may use Scikit-learn's sklearn.linear_model package for this purpose. Begin by separating the \"rating\" target variable from the rest of the data to be used for training. Next, split the data into 80%-20% training-test partitions. You can use the train_test_split function from sklearn.model_selection package to do this (use a fixed random_state parameter so that results remain the same in different runs). Create a simple linear regression model to predict \"rating\". Fit your model to the 80% training data and compute the RMSE score on the 20% test data.\n",
    "\n"
   ]
  },
  {
   "cell_type": "code",
   "execution_count": 17,
   "metadata": {},
   "outputs": [],
   "source": [
    "X=df[['n_votes','n_comments','rev_length']]\n",
    "y = df['rating']"
   ]
  },
  {
   "cell_type": "code",
   "execution_count": 18,
   "metadata": {},
   "outputs": [
    {
     "data": {
      "text/html": [
       "<div>\n",
       "<style scoped>\n",
       "    .dataframe tbody tr th:only-of-type {\n",
       "        vertical-align: middle;\n",
       "    }\n",
       "\n",
       "    .dataframe tbody tr th {\n",
       "        vertical-align: top;\n",
       "    }\n",
       "\n",
       "    .dataframe thead th {\n",
       "        text-align: right;\n",
       "    }\n",
       "</style>\n",
       "<table border=\"1\" class=\"dataframe\">\n",
       "  <thead>\n",
       "    <tr style=\"text-align: right;\">\n",
       "      <th></th>\n",
       "      <th>n_votes</th>\n",
       "      <th>n_comments</th>\n",
       "      <th>rev_length</th>\n",
       "    </tr>\n",
       "  </thead>\n",
       "  <tbody>\n",
       "    <tr>\n",
       "      <th>0</th>\n",
       "      <td>28</td>\n",
       "      <td>1</td>\n",
       "      <td>365</td>\n",
       "    </tr>\n",
       "    <tr>\n",
       "      <th>1</th>\n",
       "      <td>5</td>\n",
       "      <td>1</td>\n",
       "      <td>282</td>\n",
       "    </tr>\n",
       "    <tr>\n",
       "      <th>2</th>\n",
       "      <td>25</td>\n",
       "      <td>5</td>\n",
       "      <td>275</td>\n",
       "    </tr>\n",
       "    <tr>\n",
       "      <th>3</th>\n",
       "      <td>5</td>\n",
       "      <td>1</td>\n",
       "      <td>324</td>\n",
       "    </tr>\n",
       "    <tr>\n",
       "      <th>4</th>\n",
       "      <td>7</td>\n",
       "      <td>0</td>\n",
       "      <td>314</td>\n",
       "    </tr>\n",
       "  </tbody>\n",
       "</table>\n",
       "</div>"
      ],
      "text/plain": [
       "   n_votes  n_comments  rev_length\n",
       "0       28           1         365\n",
       "1        5           1         282\n",
       "2       25           5         275\n",
       "3        5           1         324\n",
       "4        7           0         314"
      ]
     },
     "execution_count": 18,
     "metadata": {},
     "output_type": "execute_result"
    }
   ],
   "source": [
    "X.head()"
   ]
  },
  {
   "cell_type": "code",
   "execution_count": 19,
   "metadata": {},
   "outputs": [],
   "source": [
    "from sklearn.model_selection import train_test_split\n",
    "X_train, X_test, y_train, y_test = train_test_split(X, y, test_size = 0.2, random_state = 33)"
   ]
  },
  {
   "cell_type": "code",
   "execution_count": 20,
   "metadata": {},
   "outputs": [],
   "source": [
    "#next normalize data\n",
    "\n",
    "from sklearn.preprocessing import MinMaxScaler\n",
    "\n",
    "scaler = MinMaxScaler()\n",
    "scaler.fit(X_train)\n",
    "X_train_scaled = scaler.transform(X_train)\n",
    "X_test_scaled = scaler.transform(X_test)"
   ]
  },
  {
   "cell_type": "code",
   "execution_count": 21,
   "metadata": {},
   "outputs": [],
   "source": [
    "#Let's begin by building and testing a simple linear regression model\n",
    "from sklearn.linear_model import LinearRegression"
   ]
  },
  {
   "cell_type": "code",
   "execution_count": 22,
   "metadata": {},
   "outputs": [
    {
     "data": {
      "text/plain": [
       "LinearRegression(copy_X=True, fit_intercept=True, n_jobs=None, normalize=False)"
      ]
     },
     "execution_count": 22,
     "metadata": {},
     "output_type": "execute_result"
    }
   ],
   "source": [
    "# Create linear regression object\n",
    "linreg = LinearRegression()\n",
    "\n",
    "# Train the model using the training set\n",
    "linreg.fit(X_train_scaled, y_train)"
   ]
  },
  {
   "cell_type": "code",
   "execution_count": 23,
   "metadata": {},
   "outputs": [
    {
     "data": {
      "text/plain": [
       "array([3.7100695 , 3.739996  , 3.72831737, 3.71444899, 3.73780626,\n",
       "       3.70605497, 3.70860967, 3.77101737, 3.78306097, 3.79875413])"
      ]
     },
     "execution_count": 23,
     "metadata": {},
     "output_type": "execute_result"
    }
   ],
   "source": [
    "preds = linreg.predict(X_train_scaled)\n",
    "preds[0:10]"
   ]
  },
  {
   "cell_type": "code",
   "execution_count": 24,
   "metadata": {},
   "outputs": [
    {
     "name": "stdout",
     "output_type": "stream",
     "text": [
      " 0 \t 3.71 \t 5.00\n",
      " 1 \t 3.74 \t 4.00\n",
      " 2 \t 3.73 \t 5.00\n",
      " 3 \t 3.71 \t 3.00\n",
      " 4 \t 3.74 \t 2.00\n",
      " 5 \t 3.71 \t 5.00\n",
      " 6 \t 3.71 \t 3.00\n",
      " 7 \t 3.77 \t 3.00\n",
      " 8 \t 3.78 \t 5.00\n",
      " 9 \t 3.80 \t 4.00\n",
      "10 \t 3.70 \t 4.00\n",
      "11 \t 3.72 \t 5.00\n",
      "12 \t 3.74 \t 2.00\n",
      "13 \t 3.71 \t 3.00\n",
      "14 \t 3.83 \t 5.00\n",
      "15 \t 3.74 \t 4.00\n",
      "16 \t 3.72 \t 3.00\n",
      "17 \t 3.54 \t 3.00\n",
      "18 \t 3.86 \t 3.00\n",
      "19 \t 3.72 \t 5.00\n"
     ]
    }
   ],
   "source": [
    "#Codes from class notebook\n",
    "# Let's see predictions for the first 10 instances and compare to actual rating values\n",
    "for i in range(20):\n",
    "    print(\"%2d \\t %2.2f \\t %2.2f\" % (i, preds[i], y_train.iloc[i]))"
   ]
  },
  {
   "cell_type": "code",
   "execution_count": 25,
   "metadata": {},
   "outputs": [
    {
     "name": "stdout",
     "output_type": "stream",
     "text": [
      "Final RMSE on Test Set: 1.2369875234590586\n"
     ]
    }
   ],
   "source": [
    "#Fit your model to the 80% training data and compute the RMSE score on the 20% test data.\n",
    "test_preds = linreg.predict(X_test_scaled)\n",
    "\n",
    "from sklearn import metrics\n",
    "\n",
    "linreg_rmse = np.sqrt(metrics.mean_squared_error(y_test, test_preds))\n",
    "print(\"Final RMSE on Test Set:\", linreg_rmse.mean())"
   ]
  },
  {
   "cell_type": "markdown",
   "metadata": {},
   "source": [
    "1.2369 error the system typically makes in its prediction."
   ]
  },
  {
   "cell_type": "markdown",
   "metadata": {},
   "source": [
    "Next, train and optimize a regularized regression model using Ridge regression (regression with Ridge or L2 regularization) in Scikit-learn. You'll use the same train-test split as before. Perform cross-validation for the following range of \"alpha\" parameter values (this is the regularization coefficient): alpha = [0.0, 0.01, 0.1, 0.5, 1.0, 5.0, 10.0, 50.0, 100.0, 300.0, 500.0, 700.0, 1000.0, 1500.0, 2000.0, 2500.0, 3000.0]. For each alpha value you should perform 5-fold cross-validation on the training data and compute the mean RMSE score across the 5 folds for that alpha value. record the mean RMSE values for each alpha value. Create a chart that depicts the mean RMSE values against the alpha values. Your final graph might be something similar to this example. Now, use the best alpha value (one with the lowest RMSE) and train a final Ridge regression model on the full 80% rain data. Then use the predictions from this model to compute the final RMSE score on the 20% test data. Compare this result on the final RMSE obtained from simple linear regression."
   ]
  },
  {
   "cell_type": "code",
   "execution_count": 26,
   "metadata": {},
   "outputs": [
    {
     "name": "stdout",
     "output_type": "stream",
     "text": [
      "0.000\t1.2472\n",
      "0.010\t1.2472\n",
      "0.100\t1.2472\n",
      "0.500\t1.2472\n",
      "1.000\t1.2472\n",
      "5.000\t1.2474\n",
      "10.000\t1.2476\n",
      "50.000\t1.2484\n",
      "100.000\t1.2488\n",
      "300.000\t1.2492\n",
      "500.000\t1.2493\n",
      "700.000\t1.2494\n",
      "1000.000\t1.2494\n",
      "1500.000\t1.2495\n",
      "2000.000\t1.2495\n",
      "2500.000\t1.2495\n",
      "3000.000\t1.2495\n"
     ]
    }
   ],
   "source": [
    "from sklearn.linear_model import Ridge\n",
    "from sklearn.model_selection import cross_val_score\n",
    "\n",
    "alpha = [0.0, 0.01, 0.1, 0.5, 1.0, 5.0, 10.0, 50.0, 100.0, 300.0, 500.0, 700.0, 1000.0, 1500.0, 2000.0, 2500.0, 3000.0]\n",
    "\n",
    "rmse = np.array([])\n",
    "for a in alpha:\n",
    "    ridge_regression = Ridge(alpha = a)\n",
    "    scores = cross_val_score(ridge_regression, X_train_scaled, y_train, cv = 5, scoring ='neg_mean_squared_error')\n",
    "    scores = np.sqrt(abs(scores))\n",
    "    rmse = np.append(rmse,[scores.mean()])\n",
    "    print('{:.3f}\\t{:.4f}'.format(a,scores.mean()))"
   ]
  },
  {
   "cell_type": "code",
   "execution_count": 27,
   "metadata": {},
   "outputs": [
    {
     "data": {
      "text/plain": [
       "Text(0, 0.5, 'RMSE')"
      ]
     },
     "execution_count": 27,
     "metadata": {},
     "output_type": "execute_result"
    },
    {
     "data": {
      "image/png": "[encoded data removed]",
      "text/plain": [
       "<Figure size 432x288 with 1 Axes>"
      ]
     },
     "metadata": {
      "needs_background": "light"
     },
     "output_type": "display_data"
    }
   ],
   "source": [
    "plt.plot(alpha, rmse, label='Ridge Regression X-Validation', lw=2, c='b')\n",
    "plt.legend(loc=0)\n",
    "plt.xlabel(\"Regularization Coefficient\")\n",
    "plt.ylabel(\"RMSE\")"
   ]
  },
  {
   "cell_type": "markdown",
   "metadata": {},
   "source": [
    "Value around 0 is the lowest."
   ]
  },
  {
   "cell_type": "code",
   "execution_count": 28,
   "metadata": {},
   "outputs": [
    {
     "data": {
      "text/plain": [
       "Ridge(alpha=0.0, copy_X=True, fit_intercept=True, max_iter=None,\n",
       "      normalize=False, random_state=None, solver='auto', tol=0.001)"
      ]
     },
     "execution_count": 28,
     "metadata": {},
     "output_type": "execute_result"
    }
   ],
   "source": [
    "ridge_regression =Ridge(alpha=0.0)\n",
    "ridge_regression.fit(X_train_scaled, y_train)"
   ]
  },
  {
   "cell_type": "code",
   "execution_count": 29,
   "metadata": {},
   "outputs": [
    {
     "name": "stdout",
     "output_type": "stream",
     "text": [
      "[3.72211309 4.00314111 3.71955839 3.72576267 3.76025657 3.71208221\n",
      " 3.73525156 3.72941224 3.89900565 3.15243072]\n"
     ]
    }
   ],
   "source": [
    "ridge_preds = ridge_regression.predict(X_test_scaled)\n",
    "print(ridge_preds[0:10])"
   ]
  },
  {
   "cell_type": "code",
   "execution_count": 30,
   "metadata": {},
   "outputs": [
    {
     "name": "stdout",
     "output_type": "stream",
     "text": [
      "Final RMSE on Test Set: 3.7467299377755334\n"
     ]
    }
   ],
   "source": [
    "from sklearn import metrics\n",
    "\n",
    "lasso_rmse = np.sqrt(metrics.mean_squared_error(y_test, ridge_preds))\n",
    "print(\"Final RMSE on Test Set:\", ridge_preds.mean())"
   ]
  },
  {
   "cell_type": "markdown",
   "metadata": {},
   "source": [
    "RMSE obtained from Ridge Regression (3.7467) is higher than RMSE obtained from Linear Regression (1.2368). Linear Regression makes lower error in predicting target variable."
   ]
  },
  {
   "cell_type": "markdown",
   "metadata": {},
   "source": [
    "### Part 3. [20 pts] Simple Popularity Based Prediction Model"
   ]
  },
  {
   "cell_type": "markdown",
   "metadata": {},
   "source": [
    "Based on what we learned in previous classes, to my knowledge and also useful website helped to build prediction model. Reference(https://blog.cambridgespark.com/nowadays-recommender-systems-are-used-to-personalize-your-experience-on-the-web-telling-you-what-120f39b89c3c)"
   ]
  },
  {
   "cell_type": "code",
   "execution_count": 31,
   "metadata": {},
   "outputs": [],
   "source": [
    "#Number of unique users and items.\n",
    "n_users = df.user_id.unique().shape[0]\n",
    "n_items = df.book_id.unique().shape[0]"
   ]
  },
  {
   "cell_type": "markdown",
   "metadata": {},
   "source": [
    "First step was to create user-item matrix for training and testing sets"
   ]
  },
  {
   "cell_type": "code",
   "execution_count": 32,
   "metadata": {},
   "outputs": [],
   "source": [
    "train_data_matrix = np.zeros((n_users,n_items))\n",
    "for line in X_train.itertuples():\n",
    "    train_data_matrix[line[1]-1, line[2]-1]=line[3]\n",
    "    \n",
    "test_data_matrix = np.zeros((n_users,n_items))\n",
    "for line in X_test.itertuples():\n",
    "    test_data_matrix[line[1]-1, line[2]-1]=line[3]"
   ]
  },
  {
   "cell_type": "markdown",
   "metadata": {},
   "source": [
    "We can use the pairwise_distance function from sklearn to calculate the cosine similarity."
   ]
  },
  {
   "cell_type": "code",
   "execution_count": 33,
   "metadata": {},
   "outputs": [],
   "source": [
    "from sklearn.metrics.pairwise import pairwise_distances\n",
    "\n",
    "user_similarity = pairwise_distances(train_data_matrix, metric = 'cosine')"
   ]
  },
  {
   "cell_type": "code",
   "execution_count": 34,
   "metadata": {},
   "outputs": [],
   "source": [
    "#predict function takes ratings and similarities \n",
    "def predict(ratings, similarity):\n",
    "    mean_user_rating = ratings.mean(axis=1)\n",
    "    ratings_diff = (ratings - mean_user_rating[:, np.newaxis])\n",
    "    pred = mean_user_rating[:, np.newaxis] + similarity.dot(ratings_diff) / np.array([np.abs(similarity).sum(axis=1)]).T\n",
    "    return pred"
   ]
  },
  {
   "cell_type": "code",
   "execution_count": 35,
   "metadata": {},
   "outputs": [],
   "source": [
    "user_prediction = predict(train_data_matrix, user_similarity)\n",
    "user_prediction_test = predict(test_data_matrix, user_similarity)"
   ]
  },
  {
   "cell_type": "code",
   "execution_count": 36,
   "metadata": {},
   "outputs": [
    {
     "name": "stdout",
     "output_type": "stream",
     "text": [
      "Final RMSE on Test Set: 1.4520277104464658\n"
     ]
    }
   ],
   "source": [
    "custom_rmse = np.sqrt(metrics.mean_squared_error(user_prediction_test, test_data_matrix))\n",
    "print(\"Final RMSE on Test Set:\", custom_rmse.mean())"
   ]
  },
  {
   "cell_type": "markdown",
   "metadata": {},
   "source": [
    "Custom RMSE shows only 1.4541 which is smaller than what we found on Ridge regression."
   ]
  },
  {
   "cell_type": "markdown",
   "metadata": {},
   "source": [
    "### Part 4. [20 pts] Trying out the Scikit Surpise Package for Recommendation"
   ]
  },
  {
   "cell_type": "markdown",
   "metadata": {},
   "source": [
    "Let's now use the Scikit Surprise package to train and evaluate a more personalized recommendation model based on one of the built-in Surprise algorithms. For this problem we will follow an example similar to the one given in the Getting Started page of Surprise documentation, but we will use our book rating data set. First, create a ratings data frame with only the columns for user_id, Item_id and rating. Define a \"reader\" for this data set (note that you need to specify a rating_scale). Next, load the ratings data into a Surprise rating data structure (using the Dataset.load_from_df function)."
   ]
  },
  {
   "cell_type": "code",
   "execution_count": 37,
   "metadata": {},
   "outputs": [],
   "source": [
    "from surprise import Dataset\n",
    "from surprise import Reader"
   ]
  },
  {
   "cell_type": "code",
   "execution_count": 38,
   "metadata": {},
   "outputs": [
    {
     "data": {
      "text/html": [
       "<div>\n",
       "<style scoped>\n",
       "    .dataframe tbody tr th:only-of-type {\n",
       "        vertical-align: middle;\n",
       "    }\n",
       "\n",
       "    .dataframe tbody tr th {\n",
       "        vertical-align: top;\n",
       "    }\n",
       "\n",
       "    .dataframe thead th {\n",
       "        text-align: right;\n",
       "    }\n",
       "</style>\n",
       "<table border=\"1\" class=\"dataframe\">\n",
       "  <thead>\n",
       "    <tr style=\"text-align: right;\">\n",
       "      <th></th>\n",
       "      <th>user_id</th>\n",
       "      <th>book_id</th>\n",
       "      <th>rating</th>\n",
       "    </tr>\n",
       "  </thead>\n",
       "  <tbody>\n",
       "    <tr>\n",
       "      <th>0</th>\n",
       "      <td>8842281e1d1347389f2ab93d60773d4d</td>\n",
       "      <td>18245960</td>\n",
       "      <td>5</td>\n",
       "    </tr>\n",
       "    <tr>\n",
       "      <th>1</th>\n",
       "      <td>8842281e1d1347389f2ab93d60773d4d</td>\n",
       "      <td>5577844</td>\n",
       "      <td>5</td>\n",
       "    </tr>\n",
       "    <tr>\n",
       "      <th>2</th>\n",
       "      <td>8842281e1d1347389f2ab93d60773d4d</td>\n",
       "      <td>17315048</td>\n",
       "      <td>5</td>\n",
       "    </tr>\n",
       "    <tr>\n",
       "      <th>3</th>\n",
       "      <td>8842281e1d1347389f2ab93d60773d4d</td>\n",
       "      <td>13453029</td>\n",
       "      <td>4</td>\n",
       "    </tr>\n",
       "    <tr>\n",
       "      <th>4</th>\n",
       "      <td>8842281e1d1347389f2ab93d60773d4d</td>\n",
       "      <td>13239822</td>\n",
       "      <td>3</td>\n",
       "    </tr>\n",
       "  </tbody>\n",
       "</table>\n",
       "</div>"
      ],
      "text/plain": [
       "                            user_id   book_id  rating\n",
       "0  8842281e1d1347389f2ab93d60773d4d  18245960       5\n",
       "1  8842281e1d1347389f2ab93d60773d4d   5577844       5\n",
       "2  8842281e1d1347389f2ab93d60773d4d  17315048       5\n",
       "3  8842281e1d1347389f2ab93d60773d4d  13453029       4\n",
       "4  8842281e1d1347389f2ab93d60773d4d  13239822       3"
      ]
     },
     "execution_count": 38,
     "metadata": {},
     "output_type": "execute_result"
    }
   ],
   "source": [
    "ratings = df[['user_id', 'book_id', 'rating']]\n",
    "ratings.head()"
   ]
  },
  {
   "cell_type": "code",
   "execution_count": 39,
   "metadata": {},
   "outputs": [],
   "source": [
    "reader = Reader(rating_scale=(1,5))\n",
    "rateData = Dataset.load_from_df(ratings[['user_id', 'book_id', 'rating']], reader)"
   ]
  },
  {
   "cell_type": "markdown",
   "metadata": {},
   "source": [
    "From surprise load the SVD module. This module contains the implementation of a well-known collaborative filtering model based on matrix factorization (as used in the Netflix Challenge, for example). For now, you need not understand the details of the algorithm, but you can use surprise to train the model and evaluate it. Create an instance of the SVD() recommender and the perform cross-validation on rating data with RMSE as the evaluation measure (use the cross_validate function from surprise.model_selection)."
   ]
  },
  {
   "cell_type": "code",
   "execution_count": 40,
   "metadata": {},
   "outputs": [
    {
     "name": "stdout",
     "output_type": "stream",
     "text": [
      "Evaluating RMSE, MAE of algorithm SVD on 5 split(s).\n",
      "\n",
      "                  Fold 1  Fold 2  Fold 3  Fold 4  Fold 5  Mean    Std     \n",
      "RMSE (testset)    1.1382  1.1412  1.1130  1.1192  1.1033  1.1230  0.0146  \n",
      "MAE (testset)     0.8750  0.8777  0.8554  0.8687  0.8400  0.8633  0.0140  \n",
      "Fit time          1.08    1.06    1.08    1.07    1.08    1.07    0.01    \n",
      "Test time         0.02    0.03    0.03    0.03    0.03    0.03    0.00    \n"
     ]
    }
   ],
   "source": [
    "from surprise import SVD\n",
    "from surprise.model_selection import cross_validate\n",
    "\n",
    "alg = SVD()\n",
    "cv_results_SVD = cross_validate(alg, rateData, measures = ['RMSE', 'MAE'], cv =5, verbose = True)"
   ]
  },
  {
   "cell_type": "code",
   "execution_count": 41,
   "metadata": {},
   "outputs": [
    {
     "data": {
      "text/plain": [
       "{'test_rmse': array([1.13823928, 1.14122168, 1.11296008, 1.11917338, 1.10327348]),\n",
       " 'test_mae': array([0.87497226, 0.87766128, 0.85539696, 0.86869612, 0.8399927 ]),\n",
       " 'fit_time': (1.0789401531219482,\n",
       "  1.0638115406036377,\n",
       "  1.077411413192749,\n",
       "  1.0660138130187988,\n",
       "  1.0791091918945312),\n",
       " 'test_time': (0.024892568588256836,\n",
       "  0.025923728942871094,\n",
       "  0.026887178421020508,\n",
       "  0.026928186416625977,\n",
       "  0.025931119918823242)}"
      ]
     },
     "execution_count": 41,
     "metadata": {},
     "output_type": "execute_result"
    }
   ],
   "source": [
    "cv_results_SVD"
   ]
  },
  {
   "cell_type": "markdown",
   "metadata": {},
   "source": [
    "Next, use the Surprise's (not Scikit-learn's) train_test_split function (again from surprise.model_selection) with test_size=0.2. Now, create an instance of SVD predictor with 50 as the number of latent factors (i.e., SVD(n_factors=50)). Train the model on the 80% training set and then compute predictions for the 20% test set. Using the \"accuracy\" module in surprise, compute the RMSE on the test set prediction. Finally, create a bar chart comparing the RMSE values for the two regression models, the popularity-based average rating model, and the SVD-based model."
   ]
  },
  {
   "cell_type": "code",
   "execution_count": 42,
   "metadata": {},
   "outputs": [],
   "source": [
    "from surprise.model_selection import train_test_split\n",
    "from surprise import accuracy\n",
    "\n",
    "trainset, testset = train_test_split(rateData, test_size=0.2, random_state=44)"
   ]
  },
  {
   "cell_type": "code",
   "execution_count": 43,
   "metadata": {},
   "outputs": [],
   "source": [
    "alg = SVD(n_factors=50)\n",
    "alg.fit(trainset)\n",
    "\n",
    "predictions = alg.test(testset)"
   ]
  },
  {
   "cell_type": "code",
   "execution_count": 44,
   "metadata": {},
   "outputs": [
    {
     "name": "stdout",
     "output_type": "stream",
     "text": [
      "RMSE: 1.1276\n"
     ]
    },
    {
     "data": {
      "text/plain": [
       "1.1276022976006452"
      ]
     },
     "execution_count": 44,
     "metadata": {},
     "output_type": "execute_result"
    }
   ],
   "source": [
    "SVD_rmse = accuracy.rmse(predictions)\n",
    "SVD_rmse"
   ]
  },
  {
   "cell_type": "code",
   "execution_count": 45,
   "metadata": {},
   "outputs": [
    {
     "name": "stdout",
     "output_type": "stream",
     "text": [
      "MAE:  0.8623\n"
     ]
    },
    {
     "data": {
      "text/plain": [
       "0.8622803283684738"
      ]
     },
     "execution_count": 45,
     "metadata": {},
     "output_type": "execute_result"
    }
   ],
   "source": [
    "accuracy.mae(predictions)"
   ]
  },
  {
   "cell_type": "code",
   "execution_count": 46,
   "metadata": {},
   "outputs": [
    {
     "data": {
      "text/plain": [
       "Text(0, 0.5, 'Error scores')"
      ]
     },
     "execution_count": 46,
     "metadata": {},
     "output_type": "execute_result"
    },
    {
     "data": {
      "image/png": "[encoded data removed]",
      "text/plain": [
       "<Figure size 432x288 with 1 Axes>"
      ]
     },
     "metadata": {
      "needs_background": "light"
     },
     "output_type": "display_data"
    }
   ],
   "source": [
    "error_scores = ['Popularity_based', 'SVD_based']\n",
    "rmse_error = [custom_rmse, SVD_rmse]\n",
    "plt.bar(error_scores,rmse_error)\n",
    "plt.title('Comparison of two RMSE values')\n",
    "plt.ylabel('Error scores')"
   ]
  },
  {
   "cell_type": "markdown",
   "metadata": {},
   "source": [
    "SVD based model gives the lowest RMSE values overall."
   ]
  },
  {
   "cell_type": "code",
   "execution_count": null,
   "metadata": {},
   "outputs": [],
   "source": []
  },
  {
   "cell_type": "code",
   "execution_count": null,
   "metadata": {},
   "outputs": [],
   "source": []
  }
 ],
 "metadata": {
  "kernelspec": {
   "display_name": "Python 3.7.3 64-bit ('14023': virtualenv)",
   "language": "python",
   "name": "python37364bit14023virtualenv43d760947b1c41cea019d510c4f98b52"
  },
  "language_info": {
   "codemirror_mode": {
    "name": "ipython",
    "version": 3
   },
   "file_extension": ".py",
   "mimetype": "text/x-python",
   "name": "python",
   "nbconvert_exporter": "python",
   "pygments_lexer": "ipython3",
   "version": "3.7.3"
  }
 },
 "nbformat": 4,
 "nbformat_minor": 4
}
