{
 "cells": [
  {
   "cell_type": "markdown",
   "metadata": {},
   "source": [
    "## CSC 577 - Assignment 2\n",
    "### Azat Dovgeldiyev"
   ]
  },
  {
   "cell_type": "markdown",
   "metadata": {},
   "source": [
    "#### Global imports"
   ]
  },
  {
   "cell_type": "code",
   "execution_count": 1,
   "metadata": {
    "scrolled": true
   },
   "outputs": [],
   "source": [
    "import numpy as np\n",
    "import pandas as pd\n",
    "import matplotlib.pyplot as plt\n",
    "%matplotlib inline\n",
    "from scipy.spatial.distance import cosine, correlation\n",
    "\n",
    "pd.options.display.float_format='{:,.3f}'.format"
   ]
  },
  {
   "cell_type": "markdown",
   "metadata": {},
   "source": [
    "#### Import from Surprise"
   ]
  },
  {
   "cell_type": "code",
   "execution_count": 2,
   "metadata": {},
   "outputs": [],
   "source": [
    "from surprise import Dataset, Reader\n",
    "from surprise import SVD, KNNWithMeans, SlopeOne\n",
    "from surprise.model_selection import cross_validate\n",
    "from surprise.model_selection import train_test_split\n",
    "from surprise import accuracy"
   ]
  },
  {
   "cell_type": "markdown",
   "metadata": {},
   "source": [
    "#### Import from local module"
   ]
  },
  {
   "cell_type": "code",
   "execution_count": 3,
   "metadata": {},
   "outputs": [],
   "source": [
    "%load_ext autoreload\n",
    "%autoreload\n",
    "from KNNRecommender import pearsonSim, cosineSim, knn_search, knn_predict, test, recommend"
   ]
  },
  {
   "cell_type": "code",
   "execution_count": 4,
   "metadata": {
    "scrolled": true
   },
   "outputs": [
    {
     "data": {
      "text/html": [
       "<div>\n",
       "<style scoped>\n",
       "    .dataframe tbody tr th:only-of-type {\n",
       "        vertical-align: middle;\n",
       "    }\n",
       "\n",
       "    .dataframe tbody tr th {\n",
       "        vertical-align: top;\n",
       "    }\n",
       "\n",
       "    .dataframe thead th {\n",
       "        text-align: right;\n",
       "    }\n",
       "</style>\n",
       "<table border=\"1\" class=\"dataframe\">\n",
       "  <thead>\n",
       "    <tr style=\"text-align: right;\">\n",
       "      <th></th>\n",
       "      <th>0</th>\n",
       "      <th>1</th>\n",
       "      <th>2</th>\n",
       "      <th>3</th>\n",
       "      <th>4</th>\n",
       "      <th>5</th>\n",
       "      <th>6</th>\n",
       "      <th>7</th>\n",
       "      <th>8</th>\n",
       "      <th>9</th>\n",
       "      <th>...</th>\n",
       "      <th>90</th>\n",
       "      <th>91</th>\n",
       "      <th>92</th>\n",
       "      <th>93</th>\n",
       "      <th>94</th>\n",
       "      <th>95</th>\n",
       "      <th>96</th>\n",
       "      <th>97</th>\n",
       "      <th>98</th>\n",
       "      <th>99</th>\n",
       "    </tr>\n",
       "  </thead>\n",
       "  <tbody>\n",
       "    <tr>\n",
       "      <th>0</th>\n",
       "      <td>3</td>\n",
       "      <td>19</td>\n",
       "      <td>1</td>\n",
       "      <td>2</td>\n",
       "      <td>3</td>\n",
       "      <td>2</td>\n",
       "      <td>1</td>\n",
       "      <td>15</td>\n",
       "      <td>2</td>\n",
       "      <td>6</td>\n",
       "      <td>...</td>\n",
       "      <td>13</td>\n",
       "      <td>0</td>\n",
       "      <td>0</td>\n",
       "      <td>0</td>\n",
       "      <td>0</td>\n",
       "      <td>0</td>\n",
       "      <td>5</td>\n",
       "      <td>0</td>\n",
       "      <td>0</td>\n",
       "      <td>0</td>\n",
       "    </tr>\n",
       "    <tr>\n",
       "      <th>1</th>\n",
       "      <td>15</td>\n",
       "      <td>10</td>\n",
       "      <td>17</td>\n",
       "      <td>15</td>\n",
       "      <td>8</td>\n",
       "      <td>1</td>\n",
       "      <td>10</td>\n",
       "      <td>5</td>\n",
       "      <td>19</td>\n",
       "      <td>20</td>\n",
       "      <td>...</td>\n",
       "      <td>13</td>\n",
       "      <td>6</td>\n",
       "      <td>10</td>\n",
       "      <td>18</td>\n",
       "      <td>10</td>\n",
       "      <td>8</td>\n",
       "      <td>14</td>\n",
       "      <td>11</td>\n",
       "      <td>6</td>\n",
       "      <td>12</td>\n",
       "    </tr>\n",
       "    <tr>\n",
       "      <th>2</th>\n",
       "      <td>0</td>\n",
       "      <td>0</td>\n",
       "      <td>0</td>\n",
       "      <td>0</td>\n",
       "      <td>20</td>\n",
       "      <td>20</td>\n",
       "      <td>20</td>\n",
       "      <td>20</td>\n",
       "      <td>0</td>\n",
       "      <td>0</td>\n",
       "      <td>...</td>\n",
       "      <td>0</td>\n",
       "      <td>0</td>\n",
       "      <td>0</td>\n",
       "      <td>20</td>\n",
       "      <td>0</td>\n",
       "      <td>0</td>\n",
       "      <td>0</td>\n",
       "      <td>0</td>\n",
       "      <td>0</td>\n",
       "      <td>0</td>\n",
       "    </tr>\n",
       "    <tr>\n",
       "      <th>3</th>\n",
       "      <td>0</td>\n",
       "      <td>19</td>\n",
       "      <td>0</td>\n",
       "      <td>0</td>\n",
       "      <td>12</td>\n",
       "      <td>19</td>\n",
       "      <td>8</td>\n",
       "      <td>17</td>\n",
       "      <td>0</td>\n",
       "      <td>12</td>\n",
       "      <td>...</td>\n",
       "      <td>0</td>\n",
       "      <td>0</td>\n",
       "      <td>0</td>\n",
       "      <td>11</td>\n",
       "      <td>0</td>\n",
       "      <td>0</td>\n",
       "      <td>0</td>\n",
       "      <td>0</td>\n",
       "      <td>0</td>\n",
       "      <td>0</td>\n",
       "    </tr>\n",
       "    <tr>\n",
       "      <th>4</th>\n",
       "      <td>19</td>\n",
       "      <td>15</td>\n",
       "      <td>6</td>\n",
       "      <td>5</td>\n",
       "      <td>12</td>\n",
       "      <td>12</td>\n",
       "      <td>18</td>\n",
       "      <td>15</td>\n",
       "      <td>10</td>\n",
       "      <td>16</td>\n",
       "      <td>...</td>\n",
       "      <td>16</td>\n",
       "      <td>16</td>\n",
       "      <td>15</td>\n",
       "      <td>16</td>\n",
       "      <td>16</td>\n",
       "      <td>12</td>\n",
       "      <td>14</td>\n",
       "      <td>17</td>\n",
       "      <td>12</td>\n",
       "      <td>12</td>\n",
       "    </tr>\n",
       "    <tr>\n",
       "      <th>...</th>\n",
       "      <td>...</td>\n",
       "      <td>...</td>\n",
       "      <td>...</td>\n",
       "      <td>...</td>\n",
       "      <td>...</td>\n",
       "      <td>...</td>\n",
       "      <td>...</td>\n",
       "      <td>...</td>\n",
       "      <td>...</td>\n",
       "      <td>...</td>\n",
       "      <td>...</td>\n",
       "      <td>...</td>\n",
       "      <td>...</td>\n",
       "      <td>...</td>\n",
       "      <td>...</td>\n",
       "      <td>...</td>\n",
       "      <td>...</td>\n",
       "      <td>...</td>\n",
       "      <td>...</td>\n",
       "      <td>...</td>\n",
       "      <td>...</td>\n",
       "    </tr>\n",
       "    <tr>\n",
       "      <th>995</th>\n",
       "      <td>12</td>\n",
       "      <td>5</td>\n",
       "      <td>16</td>\n",
       "      <td>5</td>\n",
       "      <td>6</td>\n",
       "      <td>8</td>\n",
       "      <td>14</td>\n",
       "      <td>14</td>\n",
       "      <td>4</td>\n",
       "      <td>13</td>\n",
       "      <td>...</td>\n",
       "      <td>6</td>\n",
       "      <td>9</td>\n",
       "      <td>15</td>\n",
       "      <td>7</td>\n",
       "      <td>13</td>\n",
       "      <td>6</td>\n",
       "      <td>13</td>\n",
       "      <td>5</td>\n",
       "      <td>14</td>\n",
       "      <td>13</td>\n",
       "    </tr>\n",
       "    <tr>\n",
       "      <th>996</th>\n",
       "      <td>15</td>\n",
       "      <td>11</td>\n",
       "      <td>16</td>\n",
       "      <td>5</td>\n",
       "      <td>7</td>\n",
       "      <td>16</td>\n",
       "      <td>12</td>\n",
       "      <td>2</td>\n",
       "      <td>5</td>\n",
       "      <td>4</td>\n",
       "      <td>...</td>\n",
       "      <td>0</td>\n",
       "      <td>0</td>\n",
       "      <td>0</td>\n",
       "      <td>0</td>\n",
       "      <td>6</td>\n",
       "      <td>0</td>\n",
       "      <td>0</td>\n",
       "      <td>0</td>\n",
       "      <td>0</td>\n",
       "      <td>0</td>\n",
       "    </tr>\n",
       "    <tr>\n",
       "      <th>997</th>\n",
       "      <td>16</td>\n",
       "      <td>16</td>\n",
       "      <td>15</td>\n",
       "      <td>7</td>\n",
       "      <td>14</td>\n",
       "      <td>9</td>\n",
       "      <td>14</td>\n",
       "      <td>13</td>\n",
       "      <td>6</td>\n",
       "      <td>11</td>\n",
       "      <td>...</td>\n",
       "      <td>0</td>\n",
       "      <td>0</td>\n",
       "      <td>0</td>\n",
       "      <td>0</td>\n",
       "      <td>0</td>\n",
       "      <td>0</td>\n",
       "      <td>0</td>\n",
       "      <td>0</td>\n",
       "      <td>0</td>\n",
       "      <td>0</td>\n",
       "    </tr>\n",
       "    <tr>\n",
       "      <th>998</th>\n",
       "      <td>3</td>\n",
       "      <td>4</td>\n",
       "      <td>3</td>\n",
       "      <td>3</td>\n",
       "      <td>9</td>\n",
       "      <td>7</td>\n",
       "      <td>3</td>\n",
       "      <td>4</td>\n",
       "      <td>3</td>\n",
       "      <td>4</td>\n",
       "      <td>...</td>\n",
       "      <td>3</td>\n",
       "      <td>6</td>\n",
       "      <td>6</td>\n",
       "      <td>3</td>\n",
       "      <td>3</td>\n",
       "      <td>3</td>\n",
       "      <td>3</td>\n",
       "      <td>3</td>\n",
       "      <td>3</td>\n",
       "      <td>3</td>\n",
       "    </tr>\n",
       "    <tr>\n",
       "      <th>999</th>\n",
       "      <td>9</td>\n",
       "      <td>11</td>\n",
       "      <td>9</td>\n",
       "      <td>9</td>\n",
       "      <td>13</td>\n",
       "      <td>12</td>\n",
       "      <td>14</td>\n",
       "      <td>11</td>\n",
       "      <td>13</td>\n",
       "      <td>11</td>\n",
       "      <td>...</td>\n",
       "      <td>0</td>\n",
       "      <td>0</td>\n",
       "      <td>0</td>\n",
       "      <td>0</td>\n",
       "      <td>12</td>\n",
       "      <td>0</td>\n",
       "      <td>0</td>\n",
       "      <td>0</td>\n",
       "      <td>0</td>\n",
       "      <td>0</td>\n",
       "    </tr>\n",
       "  </tbody>\n",
       "</table>\n",
       "<p>1000 rows × 100 columns</p>\n",
       "</div>"
      ],
      "text/plain": [
       "     0   1   2   3   4   5   6   7   8   9   ...  90  91  92  93  94  95  96  \\\n",
       "0     3  19   1   2   3   2   1  15   2   6  ...  13   0   0   0   0   0   5   \n",
       "1    15  10  17  15   8   1  10   5  19  20  ...  13   6  10  18  10   8  14   \n",
       "2     0   0   0   0  20  20  20  20   0   0  ...   0   0   0  20   0   0   0   \n",
       "3     0  19   0   0  12  19   8  17   0  12  ...   0   0   0  11   0   0   0   \n",
       "4    19  15   6   5  12  12  18  15  10  16  ...  16  16  15  16  16  12  14   \n",
       "..   ..  ..  ..  ..  ..  ..  ..  ..  ..  ..  ...  ..  ..  ..  ..  ..  ..  ..   \n",
       "995  12   5  16   5   6   8  14  14   4  13  ...   6   9  15   7  13   6  13   \n",
       "996  15  11  16   5   7  16  12   2   5   4  ...   0   0   0   0   6   0   0   \n",
       "997  16  16  15   7  14   9  14  13   6  11  ...   0   0   0   0   0   0   0   \n",
       "998   3   4   3   3   9   7   3   4   3   4  ...   3   6   6   3   3   3   3   \n",
       "999   9  11   9   9  13  12  14  11  13  11  ...   0   0   0   0  12   0   0   \n",
       "\n",
       "     97  98  99  \n",
       "0     0   0   0  \n",
       "1    11   6  12  \n",
       "2     0   0   0  \n",
       "3     0   0   0  \n",
       "4    17  12  12  \n",
       "..   ..  ..  ..  \n",
       "995   5  14  13  \n",
       "996   0   0   0  \n",
       "997   0   0   0  \n",
       "998   3   3   3  \n",
       "999   0   0   0  \n",
       "\n",
       "[1000 rows x 100 columns]"
      ]
     },
     "execution_count": 4,
     "metadata": {},
     "output_type": "execute_result"
    }
   ],
   "source": [
    "### Load the joke ratings matrix into a dataframe\n",
    "\n",
    "jokeDF=pd.read_csv('http://facweb.cs.depaul.edu/mobasher/classes/csc577/data/Jokes/joke-ratings.csv', header=None)\n",
    "jokeDF"
   ]
  },
  {
   "cell_type": "code",
   "execution_count": 5,
   "metadata": {},
   "outputs": [
    {
     "data": {
      "text/html": [
       "<div>\n",
       "<style scoped>\n",
       "    .dataframe tbody tr th:only-of-type {\n",
       "        vertical-align: middle;\n",
       "    }\n",
       "\n",
       "    .dataframe tbody tr th {\n",
       "        vertical-align: top;\n",
       "    }\n",
       "\n",
       "    .dataframe thead th {\n",
       "        text-align: right;\n",
       "    }\n",
       "</style>\n",
       "<table border=\"1\" class=\"dataframe\">\n",
       "  <thead>\n",
       "    <tr style=\"text-align: right;\">\n",
       "      <th></th>\n",
       "      <th>Joke Text</th>\n",
       "    </tr>\n",
       "  </thead>\n",
       "  <tbody>\n",
       "    <tr>\n",
       "      <th>0</th>\n",
       "      <td>A man visits the doctor. The doctor says \"I ha...</td>\n",
       "    </tr>\n",
       "    <tr>\n",
       "      <th>1</th>\n",
       "      <td>This couple had an excellent relationship goin...</td>\n",
       "    </tr>\n",
       "    <tr>\n",
       "      <th>2</th>\n",
       "      <td>Q. What's 200 feet long and has 4 teeth? A. Th...</td>\n",
       "    </tr>\n",
       "    <tr>\n",
       "      <th>3</th>\n",
       "      <td>Q. What's the difference between a man and a t...</td>\n",
       "    </tr>\n",
       "    <tr>\n",
       "      <th>4</th>\n",
       "      <td>Q. What's O. J. Simpson's Internet address? A....</td>\n",
       "    </tr>\n",
       "    <tr>\n",
       "      <th>...</th>\n",
       "      <td>...</td>\n",
       "    </tr>\n",
       "    <tr>\n",
       "      <th>95</th>\n",
       "      <td>Two attorneys went into a diner and ordered tw...</td>\n",
       "    </tr>\n",
       "    <tr>\n",
       "      <th>96</th>\n",
       "      <td>A teacher is explaining to her class how diffe...</td>\n",
       "    </tr>\n",
       "    <tr>\n",
       "      <th>97</th>\n",
       "      <td>Age and Womanhood1. Between the ages of 13 and...</td>\n",
       "    </tr>\n",
       "    <tr>\n",
       "      <th>98</th>\n",
       "      <td>A bus station is where a bus stops.A train sta...</td>\n",
       "    </tr>\n",
       "    <tr>\n",
       "      <th>99</th>\n",
       "      <td>Q: What's the difference between greeting a Qu...</td>\n",
       "    </tr>\n",
       "  </tbody>\n",
       "</table>\n",
       "<p>100 rows × 1 columns</p>\n",
       "</div>"
      ],
      "text/plain": [
       "                                            Joke Text\n",
       "0   A man visits the doctor. The doctor says \"I ha...\n",
       "1   This couple had an excellent relationship goin...\n",
       "2   Q. What's 200 feet long and has 4 teeth? A. Th...\n",
       "3   Q. What's the difference between a man and a t...\n",
       "4   Q. What's O. J. Simpson's Internet address? A....\n",
       "..                                                ...\n",
       "95  Two attorneys went into a diner and ordered tw...\n",
       "96  A teacher is explaining to her class how diffe...\n",
       "97  Age and Womanhood1. Between the ages of 13 and...\n",
       "98  A bus station is where a bus stops.A train sta...\n",
       "99  Q: What's the difference between greeting a Qu...\n",
       "\n",
       "[100 rows x 1 columns]"
      ]
     },
     "execution_count": 5,
     "metadata": {},
     "output_type": "execute_result"
    }
   ],
   "source": [
    "### Load the joke text data\n",
    "\n",
    "jokes=pd.read_csv('http://facweb.cs.depaul.edu/mobasher/classes/csc577/data/Jokes/jokes.csv', header=None, dtype=str, index_col=0, names=[\"Joke Text\"])\n",
    "jokes"
   ]
  },
  {
   "cell_type": "code",
   "execution_count": 6,
   "metadata": {},
   "outputs": [],
   "source": [
    "### Convert to a Numpy array which is used as input to functions in the KNNRecommender module\n",
    "jokeMat = np.array(jokeDF)"
   ]
  },
  {
   "cell_type": "code",
   "execution_count": 7,
   "metadata": {},
   "outputs": [
    {
     "data": {
      "text/plain": [
       "array([[ 3, 19,  1, ...,  0,  0,  0],\n",
       "       [15, 10, 17, ..., 11,  6, 12],\n",
       "       [ 0,  0,  0, ...,  0,  0,  0],\n",
       "       ...,\n",
       "       [16, 16, 15, ...,  0,  0,  0],\n",
       "       [ 3,  4,  3, ...,  3,  3,  3],\n",
       "       [ 9, 11,  9, ...,  0,  0,  0]], dtype=int64)"
      ]
     },
     "execution_count": 7,
     "metadata": {},
     "output_type": "execute_result"
    }
   ],
   "source": [
    "jokeMat"
   ]
  },
  {
   "cell_type": "code",
   "execution_count": 8,
   "metadata": {},
   "outputs": [],
   "source": [
    "user1 = jokeMat[0]\n",
    "user2 = jokeMat[1]"
   ]
  },
  {
   "cell_type": "code",
   "execution_count": 9,
   "metadata": {},
   "outputs": [
    {
     "data": {
      "text/html": [
       "<div>\n",
       "<style scoped>\n",
       "    .dataframe tbody tr th:only-of-type {\n",
       "        vertical-align: middle;\n",
       "    }\n",
       "\n",
       "    .dataframe tbody tr th {\n",
       "        vertical-align: top;\n",
       "    }\n",
       "\n",
       "    .dataframe thead th {\n",
       "        text-align: right;\n",
       "    }\n",
       "</style>\n",
       "<table border=\"1\" class=\"dataframe\">\n",
       "  <thead>\n",
       "    <tr style=\"text-align: right;\">\n",
       "      <th></th>\n",
       "      <th>user1</th>\n",
       "      <th>sim</th>\n",
       "    </tr>\n",
       "  </thead>\n",
       "  <tbody>\n",
       "    <tr>\n",
       "      <th>0</th>\n",
       "      <td>0</td>\n",
       "      <td>1.000</td>\n",
       "    </tr>\n",
       "    <tr>\n",
       "      <th>1</th>\n",
       "      <td>755</td>\n",
       "      <td>0.830</td>\n",
       "    </tr>\n",
       "    <tr>\n",
       "      <th>2</th>\n",
       "      <td>267</td>\n",
       "      <td>0.830</td>\n",
       "    </tr>\n",
       "    <tr>\n",
       "      <th>3</th>\n",
       "      <td>509</td>\n",
       "      <td>0.809</td>\n",
       "    </tr>\n",
       "    <tr>\n",
       "      <th>4</th>\n",
       "      <td>982</td>\n",
       "      <td>0.807</td>\n",
       "    </tr>\n",
       "    <tr>\n",
       "      <th>5</th>\n",
       "      <td>850</td>\n",
       "      <td>0.802</td>\n",
       "    </tr>\n",
       "    <tr>\n",
       "      <th>6</th>\n",
       "      <td>924</td>\n",
       "      <td>0.801</td>\n",
       "    </tr>\n",
       "    <tr>\n",
       "      <th>7</th>\n",
       "      <td>593</td>\n",
       "      <td>0.801</td>\n",
       "    </tr>\n",
       "    <tr>\n",
       "      <th>8</th>\n",
       "      <td>955</td>\n",
       "      <td>0.791</td>\n",
       "    </tr>\n",
       "    <tr>\n",
       "      <th>9</th>\n",
       "      <td>470</td>\n",
       "      <td>0.788</td>\n",
       "    </tr>\n",
       "  </tbody>\n",
       "</table>\n",
       "</div>"
      ],
      "text/plain": [
       "   user1   sim\n",
       "0      0 1.000\n",
       "1    755 0.830\n",
       "2    267 0.830\n",
       "3    509 0.809\n",
       "4    982 0.807\n",
       "5    850 0.802\n",
       "6    924 0.801\n",
       "7    593 0.801\n",
       "8    955 0.791\n",
       "9    470 0.788"
      ]
     },
     "execution_count": 9,
     "metadata": {},
     "output_type": "execute_result"
    }
   ],
   "source": [
    "idx, sims = knn_search(user1, jokeMat, metric=pearsonSim)\n",
    "\n",
    "# Create a dataframe to display most similar users and their similarities to \"user\"\n",
    "neighbors1 = pd.DataFrame(idx, columns = ['user1'])\n",
    "neighbors1['sim'] = sims[idx]\n",
    "neighbors1.head(10)"
   ]
  },
  {
   "cell_type": "code",
   "execution_count": 10,
   "metadata": {},
   "outputs": [
    {
     "data": {
      "text/html": [
       "<div>\n",
       "<style scoped>\n",
       "    .dataframe tbody tr th:only-of-type {\n",
       "        vertical-align: middle;\n",
       "    }\n",
       "\n",
       "    .dataframe tbody tr th {\n",
       "        vertical-align: top;\n",
       "    }\n",
       "\n",
       "    .dataframe thead th {\n",
       "        text-align: right;\n",
       "    }\n",
       "</style>\n",
       "<table border=\"1\" class=\"dataframe\">\n",
       "  <thead>\n",
       "    <tr style=\"text-align: right;\">\n",
       "      <th></th>\n",
       "      <th>user2</th>\n",
       "      <th>sim</th>\n",
       "    </tr>\n",
       "  </thead>\n",
       "  <tbody>\n",
       "    <tr>\n",
       "      <th>0</th>\n",
       "      <td>1</td>\n",
       "      <td>1.000</td>\n",
       "    </tr>\n",
       "    <tr>\n",
       "      <th>1</th>\n",
       "      <td>173</td>\n",
       "      <td>0.695</td>\n",
       "    </tr>\n",
       "    <tr>\n",
       "      <th>2</th>\n",
       "      <td>609</td>\n",
       "      <td>0.686</td>\n",
       "    </tr>\n",
       "    <tr>\n",
       "      <th>3</th>\n",
       "      <td>227</td>\n",
       "      <td>0.679</td>\n",
       "    </tr>\n",
       "    <tr>\n",
       "      <th>4</th>\n",
       "      <td>170</td>\n",
       "      <td>0.679</td>\n",
       "    </tr>\n",
       "    <tr>\n",
       "      <th>5</th>\n",
       "      <td>705</td>\n",
       "      <td>0.669</td>\n",
       "    </tr>\n",
       "    <tr>\n",
       "      <th>6</th>\n",
       "      <td>239</td>\n",
       "      <td>0.649</td>\n",
       "    </tr>\n",
       "    <tr>\n",
       "      <th>7</th>\n",
       "      <td>13</td>\n",
       "      <td>0.639</td>\n",
       "    </tr>\n",
       "    <tr>\n",
       "      <th>8</th>\n",
       "      <td>198</td>\n",
       "      <td>0.638</td>\n",
       "    </tr>\n",
       "    <tr>\n",
       "      <th>9</th>\n",
       "      <td>635</td>\n",
       "      <td>0.631</td>\n",
       "    </tr>\n",
       "  </tbody>\n",
       "</table>\n",
       "</div>"
      ],
      "text/plain": [
       "   user2   sim\n",
       "0      1 1.000\n",
       "1    173 0.695\n",
       "2    609 0.686\n",
       "3    227 0.679\n",
       "4    170 0.679\n",
       "5    705 0.669\n",
       "6    239 0.649\n",
       "7     13 0.639\n",
       "8    198 0.638\n",
       "9    635 0.631"
      ]
     },
     "execution_count": 10,
     "metadata": {},
     "output_type": "execute_result"
    }
   ],
   "source": [
    "idx, sims = knn_search(user2, jokeMat, metric=pearsonSim)\n",
    "\n",
    "# Create a dataframe to display most similar users and their similarities to \"user\"\n",
    "neighbors2 = pd.DataFrame(idx, columns = ['user2'])\n",
    "neighbors2['sim'] = sims[idx]\n",
    "neighbors2.head(10)"
   ]
  },
  {
   "cell_type": "code",
   "execution_count": 11,
   "metadata": {},
   "outputs": [
    {
     "name": "stdout",
     "output_type": "stream",
     "text": [
      "User: [ 3 19  1  2  3  2  1 15  2  6  2  4  3 19  3  3  3  1  1  1  1 12  6  1\n",
      "  2 12 18 13 20  3 13  6  1 18 16 15  1  2  2  2  2  1  1  1  3  4 14 10\n",
      " 14 15  2  3 14 19  6 11  1  1 13  2 19 14  4  1 13  9  1 19 16  6  0  0\n",
      "  0  0  0  0  0  1  0  0  0  3  0  0  0  0  0  0  0  0 13  0  0  0  0  0\n",
      "  5  0  0  0]\n",
      "\n",
      "Neighbors:\n"
     ]
    },
    {
     "data": {
      "text/html": [
       "<div>\n",
       "<style scoped>\n",
       "    .dataframe tbody tr th:only-of-type {\n",
       "        vertical-align: middle;\n",
       "    }\n",
       "\n",
       "    .dataframe tbody tr th {\n",
       "        vertical-align: top;\n",
       "    }\n",
       "\n",
       "    .dataframe thead th {\n",
       "        text-align: right;\n",
       "    }\n",
       "</style>\n",
       "<table border=\"1\" class=\"dataframe\">\n",
       "  <thead>\n",
       "    <tr style=\"text-align: right;\">\n",
       "      <th></th>\n",
       "      <th>0</th>\n",
       "      <th>1</th>\n",
       "      <th>2</th>\n",
       "      <th>3</th>\n",
       "      <th>4</th>\n",
       "      <th>5</th>\n",
       "      <th>6</th>\n",
       "      <th>7</th>\n",
       "      <th>8</th>\n",
       "      <th>9</th>\n",
       "      <th>...</th>\n",
       "      <th>90</th>\n",
       "      <th>91</th>\n",
       "      <th>92</th>\n",
       "      <th>93</th>\n",
       "      <th>94</th>\n",
       "      <th>95</th>\n",
       "      <th>96</th>\n",
       "      <th>97</th>\n",
       "      <th>98</th>\n",
       "      <th>99</th>\n",
       "    </tr>\n",
       "  </thead>\n",
       "  <tbody>\n",
       "    <tr>\n",
       "      <th>1</th>\n",
       "      <td>15</td>\n",
       "      <td>10</td>\n",
       "      <td>17</td>\n",
       "      <td>15</td>\n",
       "      <td>8</td>\n",
       "      <td>1</td>\n",
       "      <td>10</td>\n",
       "      <td>5</td>\n",
       "      <td>19</td>\n",
       "      <td>20</td>\n",
       "      <td>...</td>\n",
       "      <td>13</td>\n",
       "      <td>6</td>\n",
       "      <td>10</td>\n",
       "      <td>18</td>\n",
       "      <td>10</td>\n",
       "      <td>8</td>\n",
       "      <td>14</td>\n",
       "      <td>11</td>\n",
       "      <td>6</td>\n",
       "      <td>12</td>\n",
       "    </tr>\n",
       "    <tr>\n",
       "      <th>173</th>\n",
       "      <td>0</td>\n",
       "      <td>0</td>\n",
       "      <td>0</td>\n",
       "      <td>0</td>\n",
       "      <td>11</td>\n",
       "      <td>0</td>\n",
       "      <td>9</td>\n",
       "      <td>11</td>\n",
       "      <td>0</td>\n",
       "      <td>0</td>\n",
       "      <td>...</td>\n",
       "      <td>0</td>\n",
       "      <td>0</td>\n",
       "      <td>0</td>\n",
       "      <td>0</td>\n",
       "      <td>0</td>\n",
       "      <td>0</td>\n",
       "      <td>9</td>\n",
       "      <td>0</td>\n",
       "      <td>0</td>\n",
       "      <td>0</td>\n",
       "    </tr>\n",
       "    <tr>\n",
       "      <th>609</th>\n",
       "      <td>0</td>\n",
       "      <td>0</td>\n",
       "      <td>0</td>\n",
       "      <td>0</td>\n",
       "      <td>10</td>\n",
       "      <td>0</td>\n",
       "      <td>16</td>\n",
       "      <td>9</td>\n",
       "      <td>0</td>\n",
       "      <td>16</td>\n",
       "      <td>...</td>\n",
       "      <td>0</td>\n",
       "      <td>0</td>\n",
       "      <td>0</td>\n",
       "      <td>0</td>\n",
       "      <td>0</td>\n",
       "      <td>0</td>\n",
       "      <td>0</td>\n",
       "      <td>0</td>\n",
       "      <td>0</td>\n",
       "      <td>0</td>\n",
       "    </tr>\n",
       "    <tr>\n",
       "      <th>227</th>\n",
       "      <td>19</td>\n",
       "      <td>16</td>\n",
       "      <td>19</td>\n",
       "      <td>18</td>\n",
       "      <td>15</td>\n",
       "      <td>9</td>\n",
       "      <td>19</td>\n",
       "      <td>19</td>\n",
       "      <td>14</td>\n",
       "      <td>10</td>\n",
       "      <td>...</td>\n",
       "      <td>0</td>\n",
       "      <td>0</td>\n",
       "      <td>0</td>\n",
       "      <td>0</td>\n",
       "      <td>0</td>\n",
       "      <td>0</td>\n",
       "      <td>0</td>\n",
       "      <td>0</td>\n",
       "      <td>0</td>\n",
       "      <td>0</td>\n",
       "    </tr>\n",
       "  </tbody>\n",
       "</table>\n",
       "<p>4 rows × 100 columns</p>\n",
       "</div>"
      ],
      "text/plain": [
       "     0   1   2   3   4   5   6   7   8   9   ...  90  91  92  93  94  95  96  \\\n",
       "1    15  10  17  15   8   1  10   5  19  20  ...  13   6  10  18  10   8  14   \n",
       "173   0   0   0   0  11   0   9  11   0   0  ...   0   0   0   0   0   0   9   \n",
       "609   0   0   0   0  10   0  16   9   0  16  ...   0   0   0   0   0   0   0   \n",
       "227  19  16  19  18  15   9  19  19  14  10  ...   0   0   0   0   0   0   0   \n",
       "\n",
       "     97  98  99  \n",
       "1    11   6  12  \n",
       "173   0   0   0  \n",
       "609   0   0   0  \n",
       "227   0   0   0  \n",
       "\n",
       "[4 rows x 100 columns]"
      ]
     },
     "execution_count": 11,
     "metadata": {},
     "output_type": "execute_result"
    }
   ],
   "source": [
    "# We could actually extract the top neighbors from the original matrix\n",
    "print(\"User:\", user1)\n",
    "print(\"\\nNeighbors:\")\n",
    "jokeDF.iloc[idx].head(4)"
   ]
  },
  {
   "cell_type": "code",
   "execution_count": 12,
   "metadata": {},
   "outputs": [
    {
     "name": "stdout",
     "output_type": "stream",
     "text": [
      "User 2: [15 10 17 15  8  1 10  5 19 20 17 19 15 18 15 10 15 10 14  9 11 19 19 20\n",
      " 11 18 15 11 10 17 17 10 18 20  9 11 18 14 10 18 18  7 19 19  6  7  6 10\n",
      "  9 14 14 20 11  9  4  7 19  8 11 20  4  7  1 15 15  7 19 12 11 18  6 13\n",
      " 19 18 18 17 18 19 19 19 14 15 15 17 19 15 10 14 15 11 13  6 10 18 10  8\n",
      " 14 11  6 12]\n",
      "\n",
      "Neighbors:\n"
     ]
    },
    {
     "data": {
      "text/html": [
       "<div>\n",
       "<style scoped>\n",
       "    .dataframe tbody tr th:only-of-type {\n",
       "        vertical-align: middle;\n",
       "    }\n",
       "\n",
       "    .dataframe tbody tr th {\n",
       "        vertical-align: top;\n",
       "    }\n",
       "\n",
       "    .dataframe thead th {\n",
       "        text-align: right;\n",
       "    }\n",
       "</style>\n",
       "<table border=\"1\" class=\"dataframe\">\n",
       "  <thead>\n",
       "    <tr style=\"text-align: right;\">\n",
       "      <th></th>\n",
       "      <th>0</th>\n",
       "      <th>1</th>\n",
       "      <th>2</th>\n",
       "      <th>3</th>\n",
       "      <th>4</th>\n",
       "      <th>5</th>\n",
       "      <th>6</th>\n",
       "      <th>7</th>\n",
       "      <th>8</th>\n",
       "      <th>9</th>\n",
       "      <th>...</th>\n",
       "      <th>90</th>\n",
       "      <th>91</th>\n",
       "      <th>92</th>\n",
       "      <th>93</th>\n",
       "      <th>94</th>\n",
       "      <th>95</th>\n",
       "      <th>96</th>\n",
       "      <th>97</th>\n",
       "      <th>98</th>\n",
       "      <th>99</th>\n",
       "    </tr>\n",
       "  </thead>\n",
       "  <tbody>\n",
       "    <tr>\n",
       "      <th>1</th>\n",
       "      <td>15</td>\n",
       "      <td>10</td>\n",
       "      <td>17</td>\n",
       "      <td>15</td>\n",
       "      <td>8</td>\n",
       "      <td>1</td>\n",
       "      <td>10</td>\n",
       "      <td>5</td>\n",
       "      <td>19</td>\n",
       "      <td>20</td>\n",
       "      <td>...</td>\n",
       "      <td>13</td>\n",
       "      <td>6</td>\n",
       "      <td>10</td>\n",
       "      <td>18</td>\n",
       "      <td>10</td>\n",
       "      <td>8</td>\n",
       "      <td>14</td>\n",
       "      <td>11</td>\n",
       "      <td>6</td>\n",
       "      <td>12</td>\n",
       "    </tr>\n",
       "    <tr>\n",
       "      <th>173</th>\n",
       "      <td>0</td>\n",
       "      <td>0</td>\n",
       "      <td>0</td>\n",
       "      <td>0</td>\n",
       "      <td>11</td>\n",
       "      <td>0</td>\n",
       "      <td>9</td>\n",
       "      <td>11</td>\n",
       "      <td>0</td>\n",
       "      <td>0</td>\n",
       "      <td>...</td>\n",
       "      <td>0</td>\n",
       "      <td>0</td>\n",
       "      <td>0</td>\n",
       "      <td>0</td>\n",
       "      <td>0</td>\n",
       "      <td>0</td>\n",
       "      <td>9</td>\n",
       "      <td>0</td>\n",
       "      <td>0</td>\n",
       "      <td>0</td>\n",
       "    </tr>\n",
       "    <tr>\n",
       "      <th>609</th>\n",
       "      <td>0</td>\n",
       "      <td>0</td>\n",
       "      <td>0</td>\n",
       "      <td>0</td>\n",
       "      <td>10</td>\n",
       "      <td>0</td>\n",
       "      <td>16</td>\n",
       "      <td>9</td>\n",
       "      <td>0</td>\n",
       "      <td>16</td>\n",
       "      <td>...</td>\n",
       "      <td>0</td>\n",
       "      <td>0</td>\n",
       "      <td>0</td>\n",
       "      <td>0</td>\n",
       "      <td>0</td>\n",
       "      <td>0</td>\n",
       "      <td>0</td>\n",
       "      <td>0</td>\n",
       "      <td>0</td>\n",
       "      <td>0</td>\n",
       "    </tr>\n",
       "    <tr>\n",
       "      <th>227</th>\n",
       "      <td>19</td>\n",
       "      <td>16</td>\n",
       "      <td>19</td>\n",
       "      <td>18</td>\n",
       "      <td>15</td>\n",
       "      <td>9</td>\n",
       "      <td>19</td>\n",
       "      <td>19</td>\n",
       "      <td>14</td>\n",
       "      <td>10</td>\n",
       "      <td>...</td>\n",
       "      <td>0</td>\n",
       "      <td>0</td>\n",
       "      <td>0</td>\n",
       "      <td>0</td>\n",
       "      <td>0</td>\n",
       "      <td>0</td>\n",
       "      <td>0</td>\n",
       "      <td>0</td>\n",
       "      <td>0</td>\n",
       "      <td>0</td>\n",
       "    </tr>\n",
       "  </tbody>\n",
       "</table>\n",
       "<p>4 rows × 100 columns</p>\n",
       "</div>"
      ],
      "text/plain": [
       "     0   1   2   3   4   5   6   7   8   9   ...  90  91  92  93  94  95  96  \\\n",
       "1    15  10  17  15   8   1  10   5  19  20  ...  13   6  10  18  10   8  14   \n",
       "173   0   0   0   0  11   0   9  11   0   0  ...   0   0   0   0   0   0   9   \n",
       "609   0   0   0   0  10   0  16   9   0  16  ...   0   0   0   0   0   0   0   \n",
       "227  19  16  19  18  15   9  19  19  14  10  ...   0   0   0   0   0   0   0   \n",
       "\n",
       "     97  98  99  \n",
       "1    11   6  12  \n",
       "173   0   0   0  \n",
       "609   0   0   0  \n",
       "227   0   0   0  \n",
       "\n",
       "[4 rows x 100 columns]"
      ]
     },
     "execution_count": 12,
     "metadata": {},
     "output_type": "execute_result"
    }
   ],
   "source": [
    "print(\"User 2:\", user2)\n",
    "print(\"\\nNeighbors:\")\n",
    "jokeDF.iloc[idx].head(4)"
   ]
  },
  {
   "cell_type": "code",
   "execution_count": 13,
   "metadata": {},
   "outputs": [
    {
     "data": {
      "text/html": [
       "<div>\n",
       "<style scoped>\n",
       "    .dataframe tbody tr th:only-of-type {\n",
       "        vertical-align: middle;\n",
       "    }\n",
       "\n",
       "    .dataframe tbody tr th {\n",
       "        vertical-align: top;\n",
       "    }\n",
       "\n",
       "    .dataframe thead th {\n",
       "        text-align: right;\n",
       "    }\n",
       "</style>\n",
       "<table border=\"1\" class=\"dataframe\">\n",
       "  <thead>\n",
       "    <tr style=\"text-align: right;\">\n",
       "      <th></th>\n",
       "      <th>user1</th>\n",
       "      <th>sim</th>\n",
       "    </tr>\n",
       "  </thead>\n",
       "  <tbody>\n",
       "    <tr>\n",
       "      <th>0</th>\n",
       "      <td>0</td>\n",
       "      <td>1.000</td>\n",
       "    </tr>\n",
       "    <tr>\n",
       "      <th>1</th>\n",
       "      <td>699</td>\n",
       "      <td>0.888</td>\n",
       "    </tr>\n",
       "    <tr>\n",
       "      <th>2</th>\n",
       "      <td>955</td>\n",
       "      <td>0.884</td>\n",
       "    </tr>\n",
       "    <tr>\n",
       "      <th>3</th>\n",
       "      <td>214</td>\n",
       "      <td>0.878</td>\n",
       "    </tr>\n",
       "    <tr>\n",
       "      <th>4</th>\n",
       "      <td>755</td>\n",
       "      <td>0.876</td>\n",
       "    </tr>\n",
       "    <tr>\n",
       "      <th>5</th>\n",
       "      <td>587</td>\n",
       "      <td>0.876</td>\n",
       "    </tr>\n",
       "    <tr>\n",
       "      <th>6</th>\n",
       "      <td>850</td>\n",
       "      <td>0.872</td>\n",
       "    </tr>\n",
       "    <tr>\n",
       "      <th>7</th>\n",
       "      <td>362</td>\n",
       "      <td>0.872</td>\n",
       "    </tr>\n",
       "    <tr>\n",
       "      <th>8</th>\n",
       "      <td>642</td>\n",
       "      <td>0.870</td>\n",
       "    </tr>\n",
       "    <tr>\n",
       "      <th>9</th>\n",
       "      <td>906</td>\n",
       "      <td>0.869</td>\n",
       "    </tr>\n",
       "  </tbody>\n",
       "</table>\n",
       "</div>"
      ],
      "text/plain": [
       "   user1   sim\n",
       "0      0 1.000\n",
       "1    699 0.888\n",
       "2    955 0.884\n",
       "3    214 0.878\n",
       "4    755 0.876\n",
       "5    587 0.876\n",
       "6    850 0.872\n",
       "7    362 0.872\n",
       "8    642 0.870\n",
       "9    906 0.869"
      ]
     },
     "execution_count": 13,
     "metadata": {},
     "output_type": "execute_result"
    }
   ],
   "source": [
    "#with Cosine as similarity measures \n",
    "idx, sims = knn_search(user1, jokeMat, metric=cosineSim)\n",
    "\n",
    "# Create a dataframe to display most similar users and their similarities to \"user\"\n",
    "cosine_n1 = pd.DataFrame(idx, columns = ['user1'])\n",
    "cosine_n1['sim'] = sims[idx]\n",
    "cosine_n1.head(10)"
   ]
  },
  {
   "cell_type": "code",
   "execution_count": 14,
   "metadata": {},
   "outputs": [
    {
     "data": {
      "text/html": [
       "<div>\n",
       "<style scoped>\n",
       "    .dataframe tbody tr th:only-of-type {\n",
       "        vertical-align: middle;\n",
       "    }\n",
       "\n",
       "    .dataframe tbody tr th {\n",
       "        vertical-align: top;\n",
       "    }\n",
       "\n",
       "    .dataframe thead th {\n",
       "        text-align: right;\n",
       "    }\n",
       "</style>\n",
       "<table border=\"1\" class=\"dataframe\">\n",
       "  <thead>\n",
       "    <tr style=\"text-align: right;\">\n",
       "      <th></th>\n",
       "      <th>user2</th>\n",
       "      <th>sim</th>\n",
       "    </tr>\n",
       "  </thead>\n",
       "  <tbody>\n",
       "    <tr>\n",
       "      <th>0</th>\n",
       "      <td>1</td>\n",
       "      <td>1.000</td>\n",
       "    </tr>\n",
       "    <tr>\n",
       "      <th>1</th>\n",
       "      <td>173</td>\n",
       "      <td>0.948</td>\n",
       "    </tr>\n",
       "    <tr>\n",
       "      <th>2</th>\n",
       "      <td>609</td>\n",
       "      <td>0.939</td>\n",
       "    </tr>\n",
       "    <tr>\n",
       "      <th>3</th>\n",
       "      <td>977</td>\n",
       "      <td>0.938</td>\n",
       "    </tr>\n",
       "    <tr>\n",
       "      <th>4</th>\n",
       "      <td>611</td>\n",
       "      <td>0.937</td>\n",
       "    </tr>\n",
       "    <tr>\n",
       "      <th>5</th>\n",
       "      <td>284</td>\n",
       "      <td>0.936</td>\n",
       "    </tr>\n",
       "    <tr>\n",
       "      <th>6</th>\n",
       "      <td>804</td>\n",
       "      <td>0.936</td>\n",
       "    </tr>\n",
       "    <tr>\n",
       "      <th>7</th>\n",
       "      <td>207</td>\n",
       "      <td>0.935</td>\n",
       "    </tr>\n",
       "    <tr>\n",
       "      <th>8</th>\n",
       "      <td>680</td>\n",
       "      <td>0.935</td>\n",
       "    </tr>\n",
       "    <tr>\n",
       "      <th>9</th>\n",
       "      <td>38</td>\n",
       "      <td>0.935</td>\n",
       "    </tr>\n",
       "  </tbody>\n",
       "</table>\n",
       "</div>"
      ],
      "text/plain": [
       "   user2   sim\n",
       "0      1 1.000\n",
       "1    173 0.948\n",
       "2    609 0.939\n",
       "3    977 0.938\n",
       "4    611 0.937\n",
       "5    284 0.936\n",
       "6    804 0.936\n",
       "7    207 0.935\n",
       "8    680 0.935\n",
       "9     38 0.935"
      ]
     },
     "execution_count": 14,
     "metadata": {},
     "output_type": "execute_result"
    }
   ],
   "source": [
    "idx, sims = knn_search(user2, jokeMat, metric=cosineSim)\n",
    "\n",
    "# Create a dataframe to display most similar users and their similarities to \"user\"\n",
    "cosine_n2 = pd.DataFrame(idx, columns = ['user2'])\n",
    "cosine_n2['sim'] = sims[idx]\n",
    "cosine_n2.head(10)"
   ]
  },
  {
   "cell_type": "markdown",
   "metadata": {},
   "source": [
    "*********\n",
    "Similarly, run the \"knn_predict\" function for at least 2 user-item pairs with k=20 as the number of neighbors and display the predicted ratings in each case."
   ]
  },
  {
   "cell_type": "code",
   "execution_count": 15,
   "metadata": {},
   "outputs": [
    {
     "name": "stdout",
     "output_type": "stream",
     "text": [
      "\n",
      "Predicted Rating for User: [ 3 19  1  2  3  2  1 15  2  6  2  4  3 19  3  3  3  1  1  1  1 12  6  1\n",
      "  2 12 18 13 20  3 13  6  1 18 16 15  1  2  2  2  2  1  1  1  3  4 14 10\n",
      " 14 15  2  3 14 19  6 11  1  1 13  2 19 14  4  1 13  9  1 19 16  6  0  0\n",
      "  0  0  0  0  0  1  0  0  0  3  0  0  0  0  0  0  0  0 13  0  0  0  0  0\n",
      "  5  0  0  0] on item  0 :\n",
      "6.592321231363459\n"
     ]
    }
   ],
   "source": [
    "# Testing knn_predict with default pearsonSim as similarity metric\n",
    "\n",
    "item = 0 # A man visits the doctor. The doctor says \"I ha...\n",
    "user1 = jokeMat[0]\n",
    "k = 20\n",
    "rating = knn_predict(user1, item, jokeMat, k)\n",
    "\n",
    "print(\"\\nPredicted Rating for User:\", user1, \"on item \", jokeDF.columns[item],\":\")\n",
    "print(rating)"
   ]
  },
  {
   "cell_type": "code",
   "execution_count": 16,
   "metadata": {},
   "outputs": [
    {
     "name": "stdout",
     "output_type": "stream",
     "text": [
      "\n",
      "Predicted Rating for User: [15 10 17 15  8  1 10  5 19 20 17 19 15 18 15 10 15 10 14  9 11 19 19 20\n",
      " 11 18 15 11 10 17 17 10 18 20  9 11 18 14 10 18 18  7 19 19  6  7  6 10\n",
      "  9 14 14 20 11  9  4  7 19  8 11 20  4  7  1 15 15  7 19 12 11 18  6 13\n",
      " 19 18 18 17 18 19 19 19 14 15 15 17 19 15 10 14 15 11 13  6 10 18 10  8\n",
      " 14 11  6 12] on item  0 :\n",
      "12.72435941907302\n"
     ]
    }
   ],
   "source": [
    "# Testing knn_predict with default pearsonSim as similarity metric\n",
    "\n",
    "item = 0 # A man visits the doctor. The doctor says \"I ha...\n",
    "user2 = jokeMat[1]\n",
    "k = 20\n",
    "rating2 = knn_predict(user2, item, jokeMat, k)\n",
    "\n",
    "print(\"\\nPredicted Rating for User:\", user2, \"on item \", jokeDF.columns[item],\":\")\n",
    "print(rating2)"
   ]
  },
  {
   "cell_type": "markdown",
   "metadata": {},
   "source": [
    "*****\n",
    "Run the \"test\" function to report the MAE (Mean Absolute Error) for the top 50 users on the ratings matrix as test users, using a 0.2 test_ratio (i.e., for each test user, a randomly selected 20% of the known ratings will be used for evaluation), and k = 10 (10 neighbors). Note: depending on your machine's capabilities, this may take a few minutes."
   ]
  },
  {
   "cell_type": "code",
   "execution_count": 17,
   "metadata": {},
   "outputs": [
    {
     "name": "stdout",
     "output_type": "stream",
     "text": [
      "K =  1\n",
      "Mean Absoloute Error for K = 1  :  4.032542127790815\n",
      "K =  2\n",
      "Mean Absoloute Error for K = 2  :  4.677791417007735\n",
      "K =  3\n",
      "Mean Absoloute Error for K = 3  :  4.181830519647423\n",
      "K =  4\n",
      "Mean Absoloute Error for K = 4  :  4.28929162959467\n",
      "K =  5\n",
      "Mean Absoloute Error for K = 5  :  4.053910429680526\n",
      "K =  6\n",
      "Mean Absoloute Error for K = 6  :  4.196471111302197\n",
      "K =  7\n",
      "Mean Absoloute Error for K = 7  :  3.9470197220666603\n",
      "K =  8\n",
      "Mean Absoloute Error for K = 8  :  3.983136277200266\n",
      "K =  9\n",
      "Mean Absoloute Error for K = 9  :  3.905606477980816\n",
      "K =  10\n",
      "Mean Absoloute Error for K = 10  :  4.036658221907067\n"
     ]
    }
   ],
   "source": [
    "MAE = np.array([]) # to keep computed MAE values for each value of k\n",
    "for k in range(1, 11):\n",
    "    print(\"K = \", k)\n",
    "    num_test_users = 50 #50 users\n",
    "    test_ratio = 0.2  # ratio of rated items for each user used in testing\n",
    "    error = test(jokeMat, num_test_users, test_ratio, k)\n",
    "    MAE = np.append(MAE,[error])"
   ]
  },
  {
   "cell_type": "code",
   "execution_count": 18,
   "metadata": {},
   "outputs": [
    {
     "name": "stderr",
     "output_type": "stream",
     "text": [
      "No handles with labels found to put in legend.\n"
     ]
    },
    {
     "data": {
      "image/png": "[encoded data removed]",
      "text/plain": [
       "<Figure size 792x288 with 1 Axes>"
      ]
     },
     "metadata": {
      "needs_background": "light"
     },
     "output_type": "display_data"
    }
   ],
   "source": [
    "# Plotting the MAE values against k, the num of neighbors\n",
    "\n",
    "Ks=list(range(1, 11))\n",
    "plt.figure(figsize=(11,4))\n",
    "plt.plot(Ks, MAE, 'r^--')\n",
    "plt.xlabel('K')\n",
    "plt.ylabel('Mean Absolute Error')\n",
    "plt.title('Comparing K values for knn')\n",
    "plt.grid(linestyle='--')\n",
    "plt.xticks(Ks)\n",
    "plt.legend(loc='center left', bbox_to_anchor=(1, 0.5))\n",
    "\n",
    "plt.show()"
   ]
  },
  {
   "cell_type": "markdown",
   "metadata": {},
   "source": [
    "K=1 and K=5 have the least mean absolute error values."
   ]
  },
  {
   "cell_type": "markdown",
   "metadata": {},
   "source": [
    "****\n",
    "Use the \"recommend\" function to generate and display the top 3 joke recommendations for at least tw0 users using k=20 as the number of neighbors and Pearson similarity measure. You should display the predicted rating as well as the text of the recommended jokes in each case."
   ]
  },
  {
   "cell_type": "code",
   "execution_count": 19,
   "metadata": {},
   "outputs": [
    {
     "name": "stdout",
     "output_type": "stream",
     "text": [
      "Recommendations for User 379 :\n",
      "Joke  99 : Predicted rating:  17.691784857210116 \n",
      " Q: What's the difference between greeting a Queen and greeting thePresident of the United  States?A: You only have to get on one knee to greet the queen. \n",
      "\n",
      "Joke  3 : Predicted rating:  16.839401884819257 \n",
      " Q. What's the difference between a man and a toilet? A. A toilet doesn't follow you around after you use it. \n",
      "\n",
      "Joke  90 : Predicted rating:  16.646270337147357 \n",
      " A Panda bear walks into a bar.  Sits down at a table and orders a beer and a double cheeseburger.  After he is finished eating he pulls out a gun and rips the place with gunfire.  Patrons scatter and dive under chairs and tables as the bear runs out the door.  After ensuring that no one is hurt the bartender races out the door and calls after the bear \"What the hell did you do that for?\"  The bear calls back \"I'm a Panda bear.  Look it up in the dictionary.\"  The bartender returns pulls out his dictionary.panda : \\Pan\"da\\ n. (Zo[\"o]l.)A small Asiatic mammal (Ailurus fulgens) having fine soft fur.It is related to the bears and inhabits the mountains of Northern India.Eats shoots and leaves. \n",
      "\n"
     ]
    }
   ],
   "source": [
    "user = 379\n",
    "N = 3\n",
    "k = 20\n",
    "preds, items = recommend(user,jokeDF,k,N,metric=pearsonSim)\n",
    "print(\"Recommendations for User\", user, \":\")\n",
    "for i in range(len(items)):\n",
    "    print(\"Joke \",items[i], \":\", \"Predicted rating: \",preds[i],\"\\n\",jokes.iloc[items[i],0],\"\\n\")"
   ]
  },
  {
   "cell_type": "code",
   "execution_count": 20,
   "metadata": {},
   "outputs": [
    {
     "name": "stdout",
     "output_type": "stream",
     "text": [
      "Recommendations for User 100 :\n",
      "Joke  82 : Predicted rating:  17.69285169368173 \n",
      " What a woman says:\"This place is a mess!  C'monYou and I need to clean upYour stuff is lying on the floor and you'll have no clothes to wear if we don't do laundry right now!\"What a man hears:blah blah blah blah C'mon blah blah blah blah you and I blah blah blah blah on the floor blah blah blah blah no clothes blah blah blah blah RIGHT NOW! \n",
      "\n",
      "Joke  89 : Predicted rating:  17.027572679843818 \n",
      " Q: How many programmers does it take to change a lightbulb?A: NONE!   That's a hardware problem.... \n",
      "\n",
      "Joke  78 : Predicted rating:  16.744520676853263 \n",
      " Q: Ever wonder why the IRS calls it Form 1040?A: Because for every $50 that you earn you get 10 and they get 40. \n",
      "\n"
     ]
    }
   ],
   "source": [
    "user = 100\n",
    "N = 3\n",
    "k = 20\n",
    "preds, items = recommend(user,jokeDF,k,N,metric=pearsonSim)\n",
    "print(\"Recommendations for User\", user, \":\")\n",
    "for i in range(len(items)):\n",
    "    print(\"Joke \",items[i], \":\", \"Predicted rating: \",preds[i],\"\\n\",jokes.iloc[items[i],0],\"\\n\")"
   ]
  },
  {
   "cell_type": "markdown",
   "metadata": {},
   "source": [
    "-----------\n",
    "### b\n",
    "Write a function \"user_sim_matrix\" that takes the ratings matrix and a similarity metric as input and returns a user-user similarity matrix (be sure to test your function with a small toy data set, such as this one, before testing on the full joke ratings matrix). Note: your pairwise similarities should be computed only on overlapping items between two users (items they have both rated). Then, modify the \"knn_predict\" function takes as input the pre-computed user similarity matrix (instead of calling \"knn_search\"), along with the ratings matrix, that target user, the target item, and the number of neighbors (k); and return the predicted rating as before. Test your new predict functions on several user-item pairs and with k=30 to demonstrate that it works (user Pearson similarity when computing similarity matrix)."
   ]
  },
  {
   "cell_type": "code",
   "execution_count": 21,
   "metadata": {},
   "outputs": [],
   "source": [
    "def user_sim_matrix(ratingsMat, metric):\n",
    "    sims = np.array([metric(ratingsMat[i,:], ratingsMat[j,:])\\\n",
    "                     for i in range(0,len(ratingsMat)) for j in range(0,len(ratingsMat))])\n",
    "    return sims"
   ]
  },
  {
   "cell_type": "code",
   "execution_count": 22,
   "metadata": {},
   "outputs": [
    {
     "data": {
      "text/plain": [
       "array([1.        , 0.39034552, 0.69868173, ..., 0.88461888, 0.58843177,\n",
       "       1.        ])"
      ]
     },
     "execution_count": 22,
     "metadata": {},
     "output_type": "execute_result"
    }
   ],
   "source": [
    "user_sim_matrix(jokeMat,metric=pearsonSim)"
   ]
  },
  {
   "cell_type": "code",
   "execution_count": 23,
   "metadata": {},
   "outputs": [
    {
     "data": {
      "text/html": [
       "<div>\n",
       "<style scoped>\n",
       "    .dataframe tbody tr th:only-of-type {\n",
       "        vertical-align: middle;\n",
       "    }\n",
       "\n",
       "    .dataframe tbody tr th {\n",
       "        vertical-align: top;\n",
       "    }\n",
       "\n",
       "    .dataframe thead th {\n",
       "        text-align: right;\n",
       "    }\n",
       "</style>\n",
       "<table border=\"1\" class=\"dataframe\">\n",
       "  <thead>\n",
       "    <tr style=\"text-align: right;\">\n",
       "      <th></th>\n",
       "      <th>0</th>\n",
       "      <th>1</th>\n",
       "      <th>2</th>\n",
       "      <th>3</th>\n",
       "      <th>4</th>\n",
       "    </tr>\n",
       "  </thead>\n",
       "  <tbody>\n",
       "    <tr>\n",
       "      <th>0</th>\n",
       "      <td>0</td>\n",
       "      <td>5</td>\n",
       "      <td>1</td>\n",
       "      <td>1</td>\n",
       "      <td>1</td>\n",
       "    </tr>\n",
       "    <tr>\n",
       "      <th>1</th>\n",
       "      <td>1</td>\n",
       "      <td>5</td>\n",
       "      <td>5</td>\n",
       "      <td>0</td>\n",
       "      <td>2</td>\n",
       "    </tr>\n",
       "    <tr>\n",
       "      <th>2</th>\n",
       "      <td>2</td>\n",
       "      <td>3</td>\n",
       "      <td>0</td>\n",
       "      <td>3</td>\n",
       "      <td>2</td>\n",
       "    </tr>\n",
       "    <tr>\n",
       "      <th>3</th>\n",
       "      <td>1</td>\n",
       "      <td>0</td>\n",
       "      <td>1</td>\n",
       "      <td>5</td>\n",
       "      <td>1</td>\n",
       "    </tr>\n",
       "    <tr>\n",
       "      <th>4</th>\n",
       "      <td>5</td>\n",
       "      <td>1</td>\n",
       "      <td>0</td>\n",
       "      <td>1</td>\n",
       "      <td>5</td>\n",
       "    </tr>\n",
       "  </tbody>\n",
       "</table>\n",
       "</div>"
      ],
      "text/plain": [
       "   0  1  2  3  4\n",
       "0  0  5  1  1  1\n",
       "1  1  5  5  0  2\n",
       "2  2  3  0  3  2\n",
       "3  1  0  1  5  1\n",
       "4  5  1  0  1  5"
      ]
     },
     "execution_count": 23,
     "metadata": {},
     "output_type": "execute_result"
    }
   ],
   "source": [
    "small_toy = pd.read_csv(\"test-matrix.csv\",header=None)\n",
    "small_toy"
   ]
  },
  {
   "cell_type": "code",
   "execution_count": 24,
   "metadata": {
    "scrolled": true
   },
   "outputs": [
    {
     "data": {
      "text/plain": [
       "array([[0, 5, 1, 1, 1],\n",
       "       [1, 5, 5, 0, 2],\n",
       "       [2, 3, 0, 3, 2],\n",
       "       [1, 0, 1, 5, 1],\n",
       "       [5, 1, 0, 1, 5]], dtype=int64)"
      ]
     },
     "execution_count": 24,
     "metadata": {},
     "output_type": "execute_result"
    }
   ],
   "source": [
    "small_toy_mat = np.array(small_toy)\n",
    "small_toy_mat"
   ]
  },
  {
   "cell_type": "code",
   "execution_count": 25,
   "metadata": {
    "scrolled": false
   },
   "outputs": [
    {
     "data": {
      "text/plain": [
       "array([1.        , 0.81543551, 0.74124932, 0.25      , 0.28827833,\n",
       "       0.81543551, 1.        , 0.55533018, 0.20385888, 0.3739788 ,\n",
       "       0.74124932, 0.55533018, 1.        , 0.70418685, 0.70710678,\n",
       "       0.25      , 0.20385888, 0.70418685, 1.        , 0.39310681,\n",
       "       0.28827833, 0.3739788 , 0.70710678, 0.39310681, 1.        ])"
      ]
     },
     "execution_count": 25,
     "metadata": {},
     "output_type": "execute_result"
    }
   ],
   "source": [
    "user_sim_matrix(small_toy_mat,metric=cosineSim)"
   ]
  },
  {
   "cell_type": "markdown",
   "metadata": {},
   "source": [
    " Then, modify the \"knn_predict\" function takes as input the pre-computed user similarity matrix (instead of calling \"knn_search\"), along with the ratings matrix, that target user, the target item, and the number of neighbors (k); and return the predicted rating as before. Test your new predict functions on several user-item pairs and with k=30 to demonstrate that it works (user Pearson similarity when computing similarity matrix)."
   ]
  },
  {
   "cell_type": "code",
   "execution_count": 26,
   "metadata": {},
   "outputs": [],
   "source": [
    "user_similarity = user_sim_matrix(jokeMat,metric=pearsonSim)\n"
   ]
  },
  {
   "cell_type": "code",
   "execution_count": 27,
   "metadata": {},
   "outputs": [],
   "source": [
    "def knn_modified(user, item, RatingsMat,user_sim, K, metric=pearsonSim):\n",
    "    neigh_ratings = RatingsMat[user][:,item]\n",
    "    neigh_sims = user_sim[user]\n",
    "    wr = 0\n",
    "    sum_sim=0\n",
    "    for i in range(K):\n",
    "        if (neigh_ratings[i] >0) & (neigh_sims[i] > 0):\n",
    "            wr += neigh_ratings[i] * neigh_sims[i]\n",
    "            sum_sim += neigh_sims[i]\n",
    "    if sum_sim > 0:\n",
    "        predicted_rating = wr/sum_sim\n",
    "    else:\n",
    "        item_vec = RatingsMat[:,item]\n",
    "        predicted_rating = (RatingsMat[:,item][item_vec > 0]).mean()\n",
    "    return predicted_rating            "
   ]
  },
  {
   "cell_type": "code",
   "execution_count": 29,
   "metadata": {},
   "outputs": [],
   "source": [
    "item = 0\n",
    "user = jokeMat[1]\n",
    "K=20\n",
    "modified = knn_modified(user, item, jokeMat,user_similarity, K, metric=pearsonSim)"
   ]
  },
  {
   "cell_type": "code",
   "execution_count": 30,
   "metadata": {},
   "outputs": [
    {
     "name": "stdout",
     "output_type": "stream",
     "text": [
      "\n",
      "Predicted Rating for User: [15 10 17 15  8  1 10  5 19 20 17 19 15 18 15 10 15 10 14  9 11 19 19 20\n",
      " 11 18 15 11 10 17 17 10 18 20  9 11 18 14 10 18 18  7 19 19  6  7  6 10\n",
      "  9 14 14 20 11  9  4  7 19  8 11 20  4  7  1 15 15  7 19 12 11 18  6 13\n",
      " 19 18 18 17 18 19 19 19 14 15 15 17 19 15 10 14 15 11 13  6 10 18 10  8\n",
      " 14 11  6 12] on item  0 :\n",
      "9.732689021330238\n"
     ]
    }
   ],
   "source": [
    "print(\"\\nPredicted Rating for User:\", user, \"on item \", jokeDF.columns[item],\":\")\n",
    "print(modified)"
   ]
  },
  {
   "cell_type": "markdown",
   "metadata": {},
   "source": [
    "-----\n",
    "Next, create your own version of an item-based KNN recommender. You can modify the user-based prediction function from the previous part that instead uses and item-item similarity matrix (you'll also need to create a new version of the function for the similarity matrix that compute pairwise similarities among items). The predicted ratings would be computed as the weighted average of the ratings of item neighbors to the target item that have been rated by the target user (be sure to review class notes describing item-based KNN model). Test your item-based predict function as in part b, but this time use Cosine similarity for computing item-item similarity matrix."
   ]
  },
  {
   "cell_type": "code",
   "execution_count": 31,
   "metadata": {},
   "outputs": [],
   "source": [
    "def most_similar_items(mat,metric=cosineSim):\n",
    "    sims = []\n",
    "    for i in range(len(mat)):\n",
    "        for j in range(i, len(mat)):\n",
    "            if i==j:\n",
    "                continue\n",
    "            simMeas = metric(mat[i], mat[j])\n",
    "            user = (simMeas, i, j)\n",
    "            sims.append(user)\n",
    "    sims.sort(reverse=True)\n",
    "    return sims"
   ]
  },
  {
   "cell_type": "code",
   "execution_count": 32,
   "metadata": {},
   "outputs": [],
   "source": [
    "item_mat = jokeMat.T"
   ]
  },
  {
   "cell_type": "code",
   "execution_count": 33,
   "metadata": {},
   "outputs": [],
   "source": [
    "def prediction(user, joke, k, sims):\n",
    "    simsMat = [sims[i] for i in range(len(sims)) if sims[i][1] == joke or sims[i][2]==joke][:k]\n",
    "    top_jokes = []\n",
    "    for i in range(len(simsMat)):\n",
    "        if simsMat[i][1] != joke:\n",
    "            top_jokes.append(simsMat[i][1])\n",
    "        else:\n",
    "            top_jokes.append(simsMat[i][2])\n",
    "    rates = []\n",
    "    for r in top_jokes:\n",
    "        rate = jokeDF[user][r]\n",
    "        if rate != 0:\n",
    "            rates.append(rate)\n",
    "    return np.mean(rates)"
   ]
  },
  {
   "cell_type": "code",
   "execution_count": 34,
   "metadata": {},
   "outputs": [
    {
     "name": "stdout",
     "output_type": "stream",
     "text": [
      "user 0 for joke 0 predicted: 10.8125\n"
     ]
    }
   ],
   "source": [
    "User = 0\n",
    "Joke = 0\n",
    "K = 20\n",
    "msi = most_similar_items(item_mat)\n",
    "predict_user = prediction(User, Joke, K, msi)\n",
    "print(\"user {} for joke {} predicted: {}\".format(User, Joke, predict_user))"
   ]
  },
  {
   "cell_type": "markdown",
   "metadata": {},
   "source": [
    "-----\n",
    "Modify the \"cross_validate_user\" and the \"test\" functions to use the new item-based predict function from the previous part. Note that the only modification that should be necessary are changing the signature of these functions (to take a similarity matrix as input instead of a similarity metric) and the call to \"knn_predict\" (in \"cross_validate_user\") and the call to \"cross_validate_user\" (in \"test\"). The rest of the code should not need modification. Test your \"test\" function as in part (a) to make sure it works. Then, run the test on the full ratings matrix with 0.2 test ratio for values of k from 1 to 40. Note: this should be much faster than the (much smaller) test you ran in part (a) since the predict function need not compute similarities on the fly and instead uses pre-computed similarity matrix that is computed prior to running the \"test\" function. Here is an example of what your final output might look like."
   ]
  },
  {
   "cell_type": "code",
   "execution_count": 41,
   "metadata": {},
   "outputs": [],
   "source": [
    "def cross_validate(dataMat, user, test_ratio, K, sims):\n",
    "    number_of_items = np.shape(dataMat)[1]\n",
    "    rated_items_by_user = np.array([i for i in range(number_of_items) if dataMat[user,i]>0])\n",
    "    test_size = int(test_ratio * len(rated_items_by_user))\n",
    "    test_indices = np.random.randint(0, len(rated_items_by_user), test_size)\n",
    "    withheld_items = rated_items_by_user[test_indices]\n",
    "    original_user_profile = np.copy(dataMat[user]) # maintain the original ratings to be restored later\n",
    "    dataMat[user, withheld_items] = 0 # So that the withheld test items is not used in the rating prediction below\n",
    "    error_u = 0.0\n",
    "    count_u = len(withheld_items)\n",
    "\n",
    "    # Compute absolute error for user u over all test items\n",
    "    for item in withheld_items:\n",
    "        # Estimate rating on the withheld item\n",
    "        u = dataMat[user]\n",
    "        # print(\"user: \", u, \"Item: \", i)\n",
    "        predicted_rating = prediction(user, Joke, K, sims)\n",
    "        error_u = error_u + abs(predicted_rating - original_user_profile[item])\n",
    "    \n",
    "    # Now restore ratings of the withheld items to the user profile\n",
    "    for item in withheld_items:\n",
    "        dataMat[user, item] = original_user_profile[item]\n",
    "    \n",
    "    # Return sum of absolute errors and the count of test cases for this user\n",
    "    # Note that these will have to be accumulated for each user to compute MAE\n",
    "    return error_u, count_u"
   ]
  },
  {
   "cell_type": "code",
   "execution_count": 42,
   "metadata": {},
   "outputs": [],
   "source": [
    "def testing(dataMat, num_test_users, test_ratio, K, sims):\n",
    "    \n",
    "    \"\"\" This function performs cross_validate_user on the first num_test_users in the training data \"\"\"\n",
    "    \"\"\" It returns the Mean Absolute Error (MAE) across all test cases. \"\"\"\n",
    "\t\n",
    "    total_error=0.0;\n",
    "    total_test_cases=0.0\n",
    "    for u in range(num_test_users):\n",
    "        error_u, count = cross_validate(dataMat, u , test_ratio, K, sims)\n",
    "        # print('Evaluating user', u, ' out of', num_test_users, 'MAE: ', error_u/count)\n",
    "        total_error=total_error+error_u\n",
    "        total_test_cases=total_test_cases+count\n",
    "    print('Mean Absoloute Error for K =',K,' : ', total_error/total_test_cases)\n",
    "    return(total_error/total_test_cases)"
   ]
  },
  {
   "cell_type": "code",
   "execution_count": 43,
   "metadata": {},
   "outputs": [
    {
     "name": "stdout",
     "output_type": "stream",
     "text": [
      "K =  1\n",
      "Mean Absoloute Error for K = 1  :  5.607843137254902\n",
      "K =  2\n",
      "Mean Absoloute Error for K = 2  :  5.217086834733894\n",
      "K =  3\n",
      "Mean Absoloute Error for K = 3  :  4.7896825396825395\n",
      "K =  4\n",
      "Mean Absoloute Error for K = 4  :  4.545401493930905\n",
      "K =  5\n",
      "Mean Absoloute Error for K = 5  :  4.480812324929971\n",
      "K =  6\n",
      "Mean Absoloute Error for K = 6  :  4.284593837535014\n",
      "K =  7\n",
      "Mean Absoloute Error for K = 7  :  4.230012004801921\n",
      "K =  8\n",
      "Mean Absoloute Error for K = 8  :  4.4033846872082165\n",
      "K =  9\n",
      "Mean Absoloute Error for K = 9  :  4.304555155395491\n",
      "K =  10\n",
      "Mean Absoloute Error for K = 10  :  4.230483304432884\n",
      "K =  11\n",
      "Mean Absoloute Error for K = 11  :  4.314259895877542\n",
      "K =  12\n",
      "Mean Absoloute Error for K = 12  :  4.43642108358495\n",
      "K =  13\n",
      "Mean Absoloute Error for K = 13  :  4.112842728388946\n",
      "K =  14\n",
      "Mean Absoloute Error for K = 14  :  4.2564664871387565\n",
      "K =  15\n",
      "Mean Absoloute Error for K = 15  :  4.097549120658364\n",
      "K =  16\n",
      "Mean Absoloute Error for K = 16  :  4.204372028531693\n",
      "K =  17\n",
      "Mean Absoloute Error for K = 17  :  4.206171243007005\n",
      "K =  18\n",
      "Mean Absoloute Error for K = 18  :  4.398034763519192\n",
      "K =  19\n",
      "Mean Absoloute Error for K = 19  :  4.450570902421171\n",
      "K =  20\n",
      "Mean Absoloute Error for K = 20  :  4.375290505586671\n",
      "K =  21\n",
      "Mean Absoloute Error for K = 21  :  4.433444910309487\n",
      "K =  22\n",
      "Mean Absoloute Error for K = 22  :  4.245276822543519\n",
      "K =  23\n",
      "Mean Absoloute Error for K = 23  :  4.412913966907747\n",
      "K =  24\n",
      "Mean Absoloute Error for K = 24  :  4.27021465070209\n",
      "K =  25\n",
      "Mean Absoloute Error for K = 25  :  4.201384358424577\n",
      "K =  26\n",
      "Mean Absoloute Error for K = 26  :  4.421687392870306\n",
      "K =  27\n",
      "Mean Absoloute Error for K = 27  :  4.289144818460584\n",
      "K =  28\n",
      "Mean Absoloute Error for K = 28  :  4.253399093435782\n",
      "K =  29\n",
      "Mean Absoloute Error for K = 29  :  4.078549981462039\n",
      "K =  30\n",
      "Mean Absoloute Error for K = 30  :  4.279377253654461\n",
      "K =  31\n",
      "Mean Absoloute Error for K = 31  :  4.367250482574024\n",
      "K =  32\n",
      "Mean Absoloute Error for K = 32  :  4.269302184395031\n",
      "K =  33\n",
      "Mean Absoloute Error for K = 33  :  4.341875586618089\n",
      "K =  34\n",
      "Mean Absoloute Error for K = 34  :  4.336901233726919\n",
      "K =  35\n",
      "Mean Absoloute Error for K = 35  :  4.197165606283855\n",
      "K =  36\n",
      "Mean Absoloute Error for K = 36  :  4.200335059332923\n",
      "K =  37\n",
      "Mean Absoloute Error for K = 37  :  4.37836065499115\n",
      "K =  38\n",
      "Mean Absoloute Error for K = 38  :  4.212876262917863\n",
      "K =  39\n",
      "Mean Absoloute Error for K = 39  :  4.523546746716649\n"
     ]
    }
   ],
   "source": [
    "MAE = np.array([])\n",
    "# to keep computed MAE values for each value of k\n",
    "for k in range(1, 40):\n",
    "    print(\"K = \", k)\n",
    "    num_test_users = 50 #50 users\n",
    "    test_ratio = 0.2  # ratio of rated items for each user used in testing\n",
    "    error = testing(jokeMat, num_test_users, test_ratio, k, msi)\n",
    "    MAE = np.append(MAE,[error])"
   ]
  },
  {
   "cell_type": "code",
   "execution_count": 44,
   "metadata": {},
   "outputs": [
    {
     "name": "stderr",
     "output_type": "stream",
     "text": [
      "No handles with labels found to put in legend.\n"
     ]
    },
    {
     "data": {
      "image/png": "[encoded data removed]",
      "text/plain": [
       "<Figure size 792x288 with 1 Axes>"
      ]
     },
     "metadata": {
      "needs_background": "light"
     },
     "output_type": "display_data"
    }
   ],
   "source": [
    "# Plotting the MAE values against k, the num of neighbors\n",
    "\n",
    "Ks=list(range(1, 40))\n",
    "plt.figure(figsize=(11,4))\n",
    "plt.plot(Ks, MAE, 'bo--')\n",
    "plt.xlabel('K')\n",
    "plt.ylabel('Mean Absolute Error')\n",
    "plt.title('Comparing K values for knn')\n",
    "plt.grid(linestyle='--')\n",
    "plt.xticks(Ks)\n",
    "plt.legend(loc='center left', bbox_to_anchor=(1, 0.5))\n",
    "\n",
    "plt.show()"
   ]
  },
  {
   "cell_type": "markdown",
   "metadata": {},
   "source": [
    " Use the best k value (the one resulting in lowest MAE) from part (d) to generate top 3 recommendations for at least two users. Note that you'll need a slightly modified \"recommend\" function that would use the similarity matrix and would call your new item-based \"predict\" function. Again, here is an example of a call to the item-based recommend function and the possible output."
   ]
  },
  {
   "cell_type": "code",
   "execution_count": 45,
   "metadata": {},
   "outputs": [],
   "source": [
    "#k with 15 is the smallest in this case\n",
    "def mod_recommend(dataMat, simMat,user, k, N):\n",
    "    unratedItems = np.nonzero(np.matrix(dataMat[user,:]).A==0)[1]\n",
    "    if len(unratedItems) == 0: return 'you rated everything'\n",
    "    itemScores = []\n",
    "    for item in unratedItems:\n",
    "        estimatedScore = prediction(user, item, k, simMat)\n",
    "        itemScores.append((item, estimatedScore))\n",
    "    \n",
    "    return sorted(itemScores, key=lambda jj: jj[1], reverse=True)[:N]    "
   ]
  },
  {
   "cell_type": "code",
   "execution_count": 46,
   "metadata": {},
   "outputs": [],
   "source": [
    "def get_joke_text(jokes, id):\n",
    "    return jokes.iloc[id][0]"
   ]
  },
  {
   "cell_type": "code",
   "execution_count": 47,
   "metadata": {},
   "outputs": [
    {
     "data": {
      "text/plain": [
       "\"Q. What's the difference between a man and a toilet? A. A toilet doesn't follow you around after you use it.\""
      ]
     },
     "execution_count": 47,
     "metadata": {},
     "output_type": "execute_result"
    }
   ],
   "source": [
    "get_joke_text(jokes, 3)"
   ]
  },
  {
   "cell_type": "code",
   "execution_count": 48,
   "metadata": {},
   "outputs": [
    {
     "name": "stdout",
     "output_type": "stream",
     "text": [
      "Top 3 recommended jokes for user 2:\n",
      "\n",
      "Joke # 58, predicted rating: 15.333333333333334\n",
      "The Chukcha (Russian Eskimo) phones up the Russian Parliament Building.  A guard answers. Chukcha:  \"What is required to become Parliament member?\"Guard:  \"What are you an idiot?\"Chukcha:  \"Is it required?\" \n",
      "\n",
      "Joke # 0, predicted rating: 14.375\n",
      "A man visits the doctor. The doctor says \"I have bad news for you.You have cancer and Alzheimer's disease\". The man replies \"Well thank God I don't have cancer!\" \n",
      "\n",
      "Joke # 21, predicted rating: 13.88888888888889\n",
      "A duck walks into a pharmacy and asks for a condom. The pharmacist says\"Would you like me to stick that on your bill?\"The duck says: \"What kind of duck do you think I am!\" \n",
      "\n",
      "====================\n",
      "Top 3 recommended jokes for user 4:\n",
      "\n",
      "Joke # 75, predicted rating: 11.666666666666666\n",
      "There once was a man and a woman that both  got in  a terrible car wreck. Both of their vehicles  were completely destroyed buy fortunately no one  was   hurt.  In thankfulness the woman said to the man 'We are both okay so we should celebrate. I have   a  bottle of wine in my car let's open it.' So the woman got the bottle out of the car and  handed it to the man. The man took a really big drink and handed the woman the bottle. The  woman  closed the bottle and put it down. The man  asked  'Aren't you going to take a drink?' The woman cleverly replied 'No I think I'll  just  wait for the cops to get here.' \n",
      "\n",
      "Joke # 79, predicted rating: 11.466666666666667\n",
      "Hillary Bill Clinton and the Pope are sitting together on an airplane. Bill says \"I could throw one thousand dollar bill out of this plane and make one person very happy.\"Hillary says \"I could throw 10 hundred dollar bills out of the plane and make 10 people very happy.\"The Pope chips in and says \"I could throw Bill out of the airplane and make the whole country happy.\" \n",
      "\n",
      "Joke # 71, predicted rating: 10.666666666666666\n",
      "On the first day of college the Dean addressed the students pointing out some of the rules:\"The female dormitory will be out-of-bounds for all male students and the male dormitory to the female students. Anybody caught breaking this rule will be fined $20 the first time.\" He continued \"Anybody caught breaking this rule the second time will be fined $60. Being caught a third time will cost you a fine of $180. Are there any questions ?\"At this point a male student in the crowd inquired:\"How much for a season pass ?\" \n",
      "\n",
      "====================\n"
     ]
    }
   ],
   "source": [
    "user_index = [2,4]\n",
    "N = 3\n",
    "k = 15\n",
    "for u_user in user_index:\n",
    "    recommendations =mod_recommend(jokeMat,msi,u_user, k, N)\n",
    "    print('Top {} recommended jokes for user {}:\\n'.format(N, u_user))\n",
    "    for r in recommendations:\n",
    "        print('Joke # {}, predicted rating: {}'.format(r[0], r[1]))\n",
    "        print(get_joke_text(jokes, r[0]),\"\\n\")\n",
    "    print(20*\"=\")\n"
   ]
  },
  {
   "cell_type": "markdown",
   "metadata": {},
   "source": [
    "----\n",
    "One way to use item-item similarities for a \"localized\" version of recommendation is to generate \"similar\" items  to a given target item. Note that this is not personalized (does not use all of user's past ratings), but it can be used to generate Amazon-like \"people who like this item also liked ...\" recommendation for an item purchased or selected by the user. For this part, write a function that take an item (column index in the joke ratings matrix as before) and the pre-computed similarity matrix as inputs, and generates top N recommended jokes based on their similarities to the input query joke. Test your function for at least two different items and with N=3 as the number of recommendations (as before use the Cosine-based similarity matric). In the output, provide the text of the query joke as well as the text of the N most similar jokes given as recommendations along with their similarity values to the query joke."
   ]
  },
  {
   "cell_type": "code",
   "execution_count": 49,
   "metadata": {},
   "outputs": [],
   "source": [
    "def most_similar_jokes(dataMat, jokes, queryJoke, k, metric=cosineSim):\n",
    "    jokes_transpose = dataMat.T\n",
    "    sims =[]\n",
    "    for i in range(len(jokes_transpose)):\n",
    "        if (i==queryJoke):\n",
    "            continue;\n",
    "        sim = metric(jokes_transpose[queryJoke], jokes_transpose[i])\n",
    "        sims.append((sim,i))\n",
    "    sims.sort(reverse = True)\n",
    "    print(\"top {} most similar jokes to {}:\\n\\n{}\".format(k,queryJoke,jokes.iloc[queryJoke][0]))\n",
    "    for i in range(k):\n",
    "        joke=sims[i]\n",
    "        print(\"\\nJoke {}, similarity {:0.6f}:\".format(i+1,joke[0]))\n",
    "        print(jokes.iloc[joke[1]][0])\n",
    "    return"
   ]
  },
  {
   "cell_type": "code",
   "execution_count": 50,
   "metadata": {},
   "outputs": [
    {
     "name": "stdout",
     "output_type": "stream",
     "text": [
      "top 5 most similar jokes to 5:\n",
      "\n",
      "Bill & Hillary are on a trip back to Arkansas. They're almost out of gas so Bill pulls into a service station on the outskirts of town. The attendant runs out of the station to serve them when Hillary realizes it's an old boyfriend from high school. She and the attendant chat as he gases up their car and cleans the windows. Then they all say good-bye. As Bill pulls the car onto the road he turns to Hillary and says 'Now aren't you glad you married me and not him ? You could've been the wife of a grease monkey !' To which Hillary replied 'No Bill. If I would have married him you'd be pumping gas and he would be the President !' \n",
      "\n",
      "Joke 1, similarity 0.886979:\n",
      "A guy stood over his tee shot for what seemed an eternity looking up looking down measuring the distance figuring the wind direction and speed. Driving his partner nuts.Finally his exasperated partner says \"What the hell is taking so long? Hit the goddamn ball!\"The guy answers \"My wife is up there watching me from the clubhouse. I want to make this a perfect shot.\"\"Well hell man you don't stand a snowball's chance in hell of hitting her from here!\" \n",
      "\n",
      "Joke 2, similarity 0.879549:\n",
      "What is the difference between men and women:A woman wants one man to satisfy her every need.A man wants every woman to satisfy his one need.\n",
      "\n",
      "Joke 3, similarity 0.877112:\n",
      "Just a thought ..Before criticizing someone walk a mile in their shoes.  Then when you do criticize them you will be a mile away and have their shoes !\n",
      "\n",
      "Joke 4, similarity 0.869374:\n",
      "A boy comes home from school and tells his mother that he got a part in the school play.  \"What part?\" the mother asked. \"I play a Jewish husband\" the boy replied.  \"Go back to school and tell your teacher that you want a speaking role!\"\n",
      "\n",
      "Joke 5, similarity 0.863088:\n",
      "A bus station is where a bus stops.A train station is where a train stops.On my desk I have a work station...\n"
     ]
    }
   ],
   "source": [
    "most_similar_jokes(jokeDF, jokes, 5, 5)"
   ]
  },
  {
   "cell_type": "markdown",
   "metadata": {},
   "source": [
    "------\n",
    "### Part 2. [20 pts] More Exploration of the Scikit Surpise Package for Recommendation"
   ]
  },
  {
   "cell_type": "markdown",
   "metadata": {},
   "source": [
    "[5 pts] For this part, you'll use the Surpise package with the joke ratings data set. Note that the data set used in part 1 is not in the correct (sparse) format used by Surprise. First, you need to convert this data into a dataframe with each row corresponding to a rating by a user on an item (with columns: \"user_id\", \"joke_id\", and \"rating\". See the example Jupyter Notebook linked above for an illustration. Be sure that the id fields and the rating field are of integer data type. As in previous assignment, you can use the Dataset.load_from_df function to load this data into Surprise."
   ]
  },
  {
   "cell_type": "code",
   "execution_count": 51,
   "metadata": {},
   "outputs": [],
   "source": [
    "from surprise import Dataset\n",
    "from surprise import Reader"
   ]
  },
  {
   "cell_type": "code",
   "execution_count": 52,
   "metadata": {},
   "outputs": [],
   "source": [
    "from surprise import SVD, KNNWithMeans, SlopeOne\n",
    "from surprise.model_selection import cross_validate"
   ]
  },
  {
   "cell_type": "code",
   "execution_count": 53,
   "metadata": {},
   "outputs": [],
   "source": [
    "jokeIds = {}\n",
    "userIds = {}\n",
    "jid = 0\n",
    "uid = 0\n",
    "\n",
    "for i in jokeDF.columns:\n",
    "    jokeIds[i] = jid\n",
    "    jid += 1\n",
    "for u in jokeDF.index:\n",
    "    userIds[u] = uid\n",
    "    uid += 1\n",
    "    "
   ]
  },
  {
   "cell_type": "code",
   "execution_count": 54,
   "metadata": {},
   "outputs": [
    {
     "data": {
      "text/html": [
       "<div>\n",
       "<style scoped>\n",
       "    .dataframe tbody tr th:only-of-type {\n",
       "        vertical-align: middle;\n",
       "    }\n",
       "\n",
       "    .dataframe tbody tr th {\n",
       "        vertical-align: top;\n",
       "    }\n",
       "\n",
       "    .dataframe thead th {\n",
       "        text-align: right;\n",
       "    }\n",
       "</style>\n",
       "<table border=\"1\" class=\"dataframe\">\n",
       "  <thead>\n",
       "    <tr style=\"text-align: right;\">\n",
       "      <th></th>\n",
       "      <th>user_id</th>\n",
       "      <th>joke_id</th>\n",
       "      <th>rating</th>\n",
       "    </tr>\n",
       "  </thead>\n",
       "  <tbody>\n",
       "    <tr>\n",
       "      <th>0</th>\n",
       "      <td>0</td>\n",
       "      <td>0</td>\n",
       "      <td>3</td>\n",
       "    </tr>\n",
       "    <tr>\n",
       "      <th>1</th>\n",
       "      <td>0</td>\n",
       "      <td>1</td>\n",
       "      <td>19</td>\n",
       "    </tr>\n",
       "    <tr>\n",
       "      <th>2</th>\n",
       "      <td>0</td>\n",
       "      <td>2</td>\n",
       "      <td>1</td>\n",
       "    </tr>\n",
       "    <tr>\n",
       "      <th>3</th>\n",
       "      <td>0</td>\n",
       "      <td>3</td>\n",
       "      <td>2</td>\n",
       "    </tr>\n",
       "    <tr>\n",
       "      <th>4</th>\n",
       "      <td>0</td>\n",
       "      <td>4</td>\n",
       "      <td>3</td>\n",
       "    </tr>\n",
       "  </tbody>\n",
       "</table>\n",
       "</div>"
      ],
      "text/plain": [
       "   user_id  joke_id  rating\n",
       "0        0        0       3\n",
       "1        0        1      19\n",
       "2        0        2       1\n",
       "3        0        3       2\n",
       "4        0        4       3"
      ]
     },
     "execution_count": 54,
     "metadata": {},
     "output_type": "execute_result"
    }
   ],
   "source": [
    "ratings = pd.DataFrame([], columns = ['user_id', 'joke_id', 'rating'], dtype = int)\n",
    "\n",
    "for u in jokeDF.index:\n",
    "    for i in jokeDF.columns:\n",
    "        if jokeDF[i][u] > 0:\n",
    "            new_rating = {'user_id':userIds[u], 'joke_id':jokeIds[i], 'rating':int(jokeDF[i][u])}\n",
    "            ratings = ratings.append(new_rating, ignore_index = True)\n",
    "ratings.head()"
   ]
  },
  {
   "cell_type": "code",
   "execution_count": 55,
   "metadata": {},
   "outputs": [],
   "source": [
    "reader = Reader(rating_scale=(1, 20))\n",
    "rateData = Dataset.load_from_df(ratings[['user_id', 'joke_id', 'rating']], reader)"
   ]
  },
  {
   "cell_type": "markdown",
   "metadata": {},
   "source": [
    "Compare mean cross-validation MAEs for the following algorithms (using cross_validate function from surprise.model_selection):\n",
    "\n",
    "SlopeOne\n",
    "\n",
    "KNNWithMeans (user-based, with pearson similarity, and k=30)\n",
    "\n",
    "KNNWithMeans (item-based, with cosine similarity, and k=20)\n",
    "\n",
    "SVD (with n_factors=10)\n",
    "\n",
    "Note that for KNNWIthMeans, you'll need to specify the \"sim_options\" parameter. Use a bar chart to compare cross-validation MAEs for these algorithms. Please review the documentation for these algorithms on the Suprise Web site."
   ]
  },
  {
   "cell_type": "code",
   "execution_count": 56,
   "metadata": {},
   "outputs": [
    {
     "name": "stdout",
     "output_type": "stream",
     "text": [
      "Evaluating RMSE, MAE of algorithm SlopeOne on 5 split(s).\n",
      "\n",
      "                  Fold 1  Fold 2  Fold 3  Fold 4  Fold 5  Mean    Std     \n",
      "RMSE (testset)    4.3459  4.3738  4.3609  4.3967  4.3469  4.3649  0.0189  \n",
      "MAE (testset)     3.4501  3.4759  3.4511  3.4730  3.4591  3.4618  0.0108  \n",
      "Fit time          0.10    0.12    0.11    0.12    0.12    0.12    0.01    \n",
      "Test time         0.54    0.55    0.54    0.62    0.59    0.57    0.03    \n"
     ]
    }
   ],
   "source": [
    "#SlopeOne\n",
    "\n",
    "alg1 = SlopeOne()\n",
    "cv_results_slope = cross_validate(alg1, rateData, measures = ['RMSE', 'MAE'], cv =5, verbose = True)"
   ]
  },
  {
   "cell_type": "code",
   "execution_count": 57,
   "metadata": {},
   "outputs": [],
   "source": [
    "#KNN userbased\n",
    "\n",
    "sim_options = {\n",
    "    \"name\": \"pearson\",\n",
    "    \"user_based\": True,  # Compute  similarities between users\n",
    "}\n",
    "\n",
    "alg2 = KNNWithMeans(k=30, sim_options=sim_options)"
   ]
  },
  {
   "cell_type": "code",
   "execution_count": 58,
   "metadata": {},
   "outputs": [
    {
     "name": "stdout",
     "output_type": "stream",
     "text": [
      "Computing the pearson similarity matrix...\n",
      "Done computing similarity matrix.\n",
      "Computing the pearson similarity matrix...\n",
      "Done computing similarity matrix.\n",
      "Computing the pearson similarity matrix...\n",
      "Done computing similarity matrix.\n",
      "Computing the pearson similarity matrix...\n",
      "Done computing similarity matrix.\n",
      "Computing the pearson similarity matrix...\n",
      "Done computing similarity matrix.\n",
      "Evaluating RMSE, MAE of algorithm KNNWithMeans on 5 split(s).\n",
      "\n",
      "                  Fold 1  Fold 2  Fold 3  Fold 4  Fold 5  Mean    Std     \n",
      "RMSE (testset)    4.2451  4.2557  4.2313  4.2361  4.2862  4.2509  0.0195  \n",
      "MAE (testset)     3.3405  3.3667  3.3340  3.3407  3.3767  3.3517  0.0168  \n",
      "Fit time          4.05    4.09    4.08    4.07    4.06    4.07    0.01    \n",
      "Test time         6.13    5.51    5.54    5.44    5.45    5.61    0.26    \n"
     ]
    }
   ],
   "source": [
    "cv_results_userknn = cross_validate(alg2, rateData, measures=['RMSE', 'MAE'], cv=5, verbose=True)"
   ]
  },
  {
   "cell_type": "code",
   "execution_count": 59,
   "metadata": {},
   "outputs": [],
   "source": [
    "#KNN item based\n",
    "sim_options = {\n",
    "    \"name\": \"cosine\",\n",
    "    \"user_based\": False,  # Compute  similarities between items\n",
    "}\n",
    "alg3 = KNNWithMeans(k=20, sim_options=sim_options)"
   ]
  },
  {
   "cell_type": "code",
   "execution_count": 60,
   "metadata": {},
   "outputs": [
    {
     "name": "stdout",
     "output_type": "stream",
     "text": [
      "Computing the cosine similarity matrix...\n",
      "Done computing similarity matrix.\n",
      "Computing the cosine similarity matrix...\n",
      "Done computing similarity matrix.\n",
      "Computing the cosine similarity matrix...\n",
      "Done computing similarity matrix.\n",
      "Computing the cosine similarity matrix...\n",
      "Done computing similarity matrix.\n",
      "Computing the cosine similarity matrix...\n",
      "Done computing similarity matrix.\n",
      "Evaluating RMSE, MAE of algorithm KNNWithMeans on 5 split(s).\n",
      "\n",
      "                  Fold 1  Fold 2  Fold 3  Fold 4  Fold 5  Mean    Std     \n",
      "RMSE (testset)    4.3073  4.3075  4.3512  4.3041  4.3030  4.3146  0.0184  \n",
      "MAE (testset)     3.3714  3.3765  3.3996  3.3767  3.3858  3.3820  0.0099  \n",
      "Fit time          0.27    0.29    0.31    0.32    0.32    0.30    0.02    \n",
      "Test time         0.98    0.97    1.07    1.02    1.05    1.02    0.04    \n"
     ]
    }
   ],
   "source": [
    "cv_results_itemknn = cross_validate(alg3, rateData, measures=['RMSE', 'MAE'], cv=5, verbose=True)"
   ]
  },
  {
   "cell_type": "code",
   "execution_count": 61,
   "metadata": {},
   "outputs": [
    {
     "name": "stdout",
     "output_type": "stream",
     "text": [
      "Evaluating RMSE, MAE of algorithm SVD on 5 split(s).\n",
      "\n",
      "                  Fold 1  Fold 2  Fold 3  Fold 4  Fold 5  Mean    Std     \n",
      "RMSE (testset)    4.3808  4.3603  4.3575  4.3509  4.4187  4.3736  0.0246  \n",
      "MAE (testset)     3.3388  3.3376  3.3344  3.3401  3.3774  3.3457  0.0160  \n",
      "Fit time          0.82    0.85    0.84    0.83    0.83    0.83    0.01    \n",
      "Test time         0.07    0.17    0.07    0.07    0.07    0.09    0.04    \n"
     ]
    }
   ],
   "source": [
    "# SVD \n",
    "alg4 = SVD(n_factors = 10)\n",
    "cv_results_SVD = cross_validate(alg4, rateData, measures = ['RMSE', 'MAE'], cv =5, verbose = True)"
   ]
  },
  {
   "cell_type": "code",
   "execution_count": 62,
   "metadata": {},
   "outputs": [],
   "source": [
    "#only comparing MAE's of results\n",
    "data_1 = cv_results_slope['test_mae'][0]\n",
    "data_2 = cv_results_userknn['test_mae'][0]\n",
    "data_3 = cv_results_itemknn['test_mae'][0]\n",
    "data_4 = cv_results_SVD['test_mae'][0]\n",
    "\n",
    "algorithms = ['SlopeOne', 'KNN-user', 'KNN-item', 'SVD']\n",
    "data = [data_1, data_2, data_3, data_4]\n",
    "data_rounded = [round(num, 4) for num in data]\n",
    "#print(data)"
   ]
  },
  {
   "cell_type": "code",
   "execution_count": 63,
   "metadata": {},
   "outputs": [
    {
     "data": {
      "image/png": "[encoded data removed]",
      "text/plain": [
       "<Figure size 576x432 with 1 Axes>"
      ]
     },
     "metadata": {},
     "output_type": "display_data"
    }
   ],
   "source": [
    "plt.style.use('ggplot')\n",
    "fig = plt.figure(figsize =(8, 6)) \n",
    "  \n",
    "# Creating axes instance \n",
    "ax = fig.add_axes([0, 0, 1, 1])\n",
    "barp = ax.bar(algorithms, data_rounded,width = 0.5,color='blue')\n",
    "plt.xlabel('Algorithms')\n",
    "plt.ylabel('MAE scores')\n",
    "plt.title('MAE scores for Algorithms')\n",
    "plt.show()"
   ]
  },
  {
   "cell_type": "markdown",
   "metadata": {},
   "source": [
    "It appears that mean absolute error is slightly lower in **SVD with 10 factors** than KNN user-based."
   ]
  },
  {
   "cell_type": "markdown",
   "metadata": {},
   "source": [
    "----------\n",
    "Write a function or code segment to run an experiment to optimize the item-based version of KNNWithMeans (with Cosine as similarity) for k. First, use Surprise's (not Scikit-learn's) train_test_split function (from surprise.model_selection) with test_size=0.2 to split the data. Then perform cross-validation on the training portion multiple times for a range of values of k and record the mean MAE values. Plot the mean cross-validation MAE against the values of k (this should look similar to the graph in Part 1(d)). Finally, use the best k value to to compute the performance of KNNWithMeans on the test set predictions (using the \"accuracy\" module in Surprise)."
   ]
  },
  {
   "cell_type": "code",
   "execution_count": 64,
   "metadata": {},
   "outputs": [],
   "source": [
    "#From the recent discussion post.All credits to the Professor\n",
    "\n",
    "raw_ratings = rateData.raw_ratings #obtainraw ratings data from dataset\n",
    "\n",
    "trainData = rateData  # initially make copies of the rateData\n",
    "testData = rateData\n",
    "\n",
    "# shuffle ratings if you want\n",
    "np.random.shuffle(raw_ratings)\n",
    "\n",
    "# 80% trainset, 20% testset\n",
    "threshold = int(.8 * len(raw_ratings))\n",
    "trainset_raw_ratings = raw_ratings[:threshold]\n",
    "test_raw_ratings = raw_ratings[threshold:]\n",
    "\n",
    "# now change the train and test Datasets to the new data\n",
    "trainData.raw_ratings = trainset_raw_ratings\n",
    "testData.raw_ratings = test_raw_ratings"
   ]
  },
  {
   "cell_type": "code",
   "execution_count": 70,
   "metadata": {},
   "outputs": [
    {
     "name": "stdout",
     "output_type": "stream",
     "text": [
      "Computing the cosine similarity matrix...\n",
      "Done computing similarity matrix.\n",
      "Computing the cosine similarity matrix...\n",
      "Done computing similarity matrix.\n",
      "Computing the cosine similarity matrix...\n",
      "Done computing similarity matrix.\n",
      "Computing the cosine similarity matrix...\n",
      "Done computing similarity matrix.\n",
      "Computing the cosine similarity matrix...\n",
      "Done computing similarity matrix.\n",
      "Evaluating MAE of algorithm KNNWithMeans on 5 split(s).\n",
      "\n",
      "                  Fold 1  Fold 2  Fold 3  Fold 4  Fold 5  Mean    Std     \n",
      "MAE (testset)     4.3917  4.4437  4.4502  4.5722  4.4196  4.4555  0.0619  \n",
      "Fit time          0.03    0.02    0.02    0.02    0.02    0.02    0.00    \n",
      "Test time         0.04    0.03    0.03    0.03    0.03    0.03    0.00    \n",
      "Computing the cosine similarity matrix...\n",
      "Done computing similarity matrix.\n",
      "Computing the cosine similarity matrix...\n",
      "Done computing similarity matrix.\n",
      "Computing the cosine similarity matrix...\n",
      "Done computing similarity matrix.\n",
      "Computing the cosine similarity matrix...\n",
      "Done computing similarity matrix.\n",
      "Computing the cosine similarity matrix...\n",
      "Done computing similarity matrix.\n",
      "Evaluating MAE of algorithm KNNWithMeans on 5 split(s).\n",
      "\n",
      "                  Fold 1  Fold 2  Fold 3  Fold 4  Fold 5  Mean    Std     \n",
      "MAE (testset)     3.9960  4.1019  3.9286  3.9174  4.0083  3.9905  0.0662  \n",
      "Fit time          0.02    0.02    0.02    0.02    0.02    0.02    0.00    \n",
      "Test time         0.04    0.05    0.04    0.04    0.05    0.04    0.00    \n",
      "Computing the cosine similarity matrix...\n",
      "Done computing similarity matrix.\n",
      "Computing the cosine similarity matrix...\n",
      "Done computing similarity matrix.\n",
      "Computing the cosine similarity matrix...\n",
      "Done computing similarity matrix.\n",
      "Computing the cosine similarity matrix...\n",
      "Done computing similarity matrix.\n",
      "Computing the cosine similarity matrix...\n",
      "Done computing similarity matrix.\n",
      "Evaluating MAE of algorithm KNNWithMeans on 5 split(s).\n",
      "\n",
      "                  Fold 1  Fold 2  Fold 3  Fold 4  Fold 5  Mean    Std     \n",
      "MAE (testset)     3.7423  3.7878  3.8982  3.8294  3.8617  3.8239  0.0547  \n",
      "Fit time          0.02    0.02    0.03    0.03    0.02    0.02    0.00    \n",
      "Test time         0.05    0.05    0.06    0.06    0.06    0.05    0.00    \n",
      "Computing the cosine similarity matrix...\n",
      "Done computing similarity matrix.\n",
      "Computing the cosine similarity matrix...\n",
      "Done computing similarity matrix.\n",
      "Computing the cosine similarity matrix...\n",
      "Done computing similarity matrix.\n",
      "Computing the cosine similarity matrix...\n",
      "Done computing similarity matrix.\n",
      "Computing the cosine similarity matrix...\n",
      "Done computing similarity matrix.\n",
      "Evaluating MAE of algorithm KNNWithMeans on 5 split(s).\n",
      "\n",
      "                  Fold 1  Fold 2  Fold 3  Fold 4  Fold 5  Mean    Std     \n",
      "MAE (testset)     3.7298  3.7537  3.6916  3.7823  3.7031  3.7321  0.0331  \n",
      "Fit time          0.02    0.03    0.02    0.03    0.02    0.02    0.00    \n",
      "Test time         0.16    0.06    0.06    0.06    0.06    0.08    0.04    \n",
      "Computing the cosine similarity matrix...\n",
      "Done computing similarity matrix.\n",
      "Computing the cosine similarity matrix...\n",
      "Done computing similarity matrix.\n",
      "Computing the cosine similarity matrix...\n",
      "Done computing similarity matrix.\n",
      "Computing the cosine similarity matrix...\n",
      "Done computing similarity matrix.\n",
      "Computing the cosine similarity matrix...\n",
      "Done computing similarity matrix.\n",
      "Evaluating MAE of algorithm KNNWithMeans on 5 split(s).\n",
      "\n",
      "                  Fold 1  Fold 2  Fold 3  Fold 4  Fold 5  Mean    Std     \n",
      "MAE (testset)     3.6958  3.6815  3.6794  3.6939  3.7259  3.6953  0.0166  \n",
      "Fit time          0.02    0.02    0.02    0.02    0.02    0.02    0.00    \n",
      "Test time         0.06    0.06    0.06    0.05    0.05    0.06    0.01    \n",
      "Computing the cosine similarity matrix...\n",
      "Done computing similarity matrix.\n",
      "Computing the cosine similarity matrix...\n",
      "Done computing similarity matrix.\n",
      "Computing the cosine similarity matrix...\n",
      "Done computing similarity matrix.\n",
      "Computing the cosine similarity matrix...\n",
      "Done computing similarity matrix.\n",
      "Computing the cosine similarity matrix...\n",
      "Done computing similarity matrix.\n",
      "Evaluating MAE of algorithm KNNWithMeans on 5 split(s).\n",
      "\n",
      "                  Fold 1  Fold 2  Fold 3  Fold 4  Fold 5  Mean    Std     \n",
      "MAE (testset)     3.6254  3.5986  3.6667  3.6428  3.6006  3.6268  0.0258  \n",
      "Fit time          0.02    0.02    0.02    0.02    0.02    0.02    0.00    \n",
      "Test time         0.06    0.06    0.06    0.06    0.06    0.06    0.00    \n",
      "Computing the cosine similarity matrix...\n",
      "Done computing similarity matrix.\n",
      "Computing the cosine similarity matrix...\n",
      "Done computing similarity matrix.\n",
      "Computing the cosine similarity matrix...\n",
      "Done computing similarity matrix.\n",
      "Computing the cosine similarity matrix...\n",
      "Done computing similarity matrix.\n",
      "Computing the cosine similarity matrix...\n",
      "Done computing similarity matrix.\n",
      "Evaluating MAE of algorithm KNNWithMeans on 5 split(s).\n",
      "\n",
      "                  Fold 1  Fold 2  Fold 3  Fold 4  Fold 5  Mean    Std     \n",
      "MAE (testset)     3.6389  3.7121  3.6566  3.6003  3.6159  3.6448  0.0388  \n",
      "Fit time          0.02    0.02    0.02    0.02    0.02    0.02    0.00    \n",
      "Test time         0.07    0.06    0.07    0.06    0.06    0.06    0.00    \n",
      "Computing the cosine similarity matrix...\n",
      "Done computing similarity matrix.\n",
      "Computing the cosine similarity matrix...\n",
      "Done computing similarity matrix.\n",
      "Computing the cosine similarity matrix...\n",
      "Done computing similarity matrix.\n",
      "Computing the cosine similarity matrix...\n",
      "Done computing similarity matrix.\n",
      "Computing the cosine similarity matrix...\n",
      "Done computing similarity matrix.\n",
      "Evaluating MAE of algorithm KNNWithMeans on 5 split(s).\n",
      "\n",
      "                  Fold 1  Fold 2  Fold 3  Fold 4  Fold 5  Mean    Std     \n",
      "MAE (testset)     3.5949  3.6927  3.5555  3.6207  3.6338  3.6195  0.0453  \n",
      "Fit time          0.02    0.02    0.02    0.02    0.02    0.02    0.00    \n",
      "Test time         0.07    0.08    0.07    0.06    0.17    0.09    0.04    \n",
      "Computing the cosine similarity matrix...\n",
      "Done computing similarity matrix.\n",
      "Computing the cosine similarity matrix...\n",
      "Done computing similarity matrix.\n",
      "Computing the cosine similarity matrix...\n",
      "Done computing similarity matrix.\n",
      "Computing the cosine similarity matrix...\n",
      "Done computing similarity matrix.\n",
      "Computing the cosine similarity matrix...\n",
      "Done computing similarity matrix.\n",
      "Evaluating MAE of algorithm KNNWithMeans on 5 split(s).\n",
      "\n",
      "                  Fold 1  Fold 2  Fold 3  Fold 4  Fold 5  Mean    Std     \n",
      "MAE (testset)     3.6219  3.6045  3.4928  3.6004  3.6662  3.5972  0.0572  \n",
      "Fit time          0.02    0.02    0.02    0.02    0.02    0.02    0.00    \n",
      "Test time         0.07    0.07    0.08    0.06    0.07    0.07    0.00    \n",
      "Computing the cosine similarity matrix...\n",
      "Done computing similarity matrix.\n",
      "Computing the cosine similarity matrix...\n",
      "Done computing similarity matrix.\n",
      "Computing the cosine similarity matrix...\n",
      "Done computing similarity matrix.\n",
      "Computing the cosine similarity matrix...\n",
      "Done computing similarity matrix.\n",
      "Computing the cosine similarity matrix...\n",
      "Done computing similarity matrix.\n",
      "Evaluating MAE of algorithm KNNWithMeans on 5 split(s).\n",
      "\n",
      "                  Fold 1  Fold 2  Fold 3  Fold 4  Fold 5  Mean    Std     \n",
      "MAE (testset)     3.6480  3.5343  3.6048  3.6153  3.5985  3.6002  0.0371  \n",
      "Fit time          0.02    0.02    0.02    0.02    0.02    0.02    0.00    \n",
      "Test time         0.06    0.07    0.06    0.06    0.07    0.07    0.00    \n",
      "Computing the cosine similarity matrix...\n",
      "Done computing similarity matrix.\n",
      "Computing the cosine similarity matrix...\n",
      "Done computing similarity matrix.\n",
      "Computing the cosine similarity matrix...\n",
      "Done computing similarity matrix.\n",
      "Computing the cosine similarity matrix...\n",
      "Done computing similarity matrix.\n",
      "Computing the cosine similarity matrix...\n",
      "Done computing similarity matrix.\n",
      "Evaluating MAE of algorithm KNNWithMeans on 5 split(s).\n",
      "\n",
      "                  Fold 1  Fold 2  Fold 3  Fold 4  Fold 5  Mean    Std     \n",
      "MAE (testset)     3.6721  3.6180  3.5784  3.5567  3.5498  3.5950  0.0453  \n",
      "Fit time          0.02    0.03    0.02    0.02    0.02    0.02    0.00    \n",
      "Test time         0.08    0.09    0.07    0.08    0.06    0.07    0.01    \n",
      "Computing the cosine similarity matrix...\n",
      "Done computing similarity matrix.\n",
      "Computing the cosine similarity matrix...\n",
      "Done computing similarity matrix.\n",
      "Computing the cosine similarity matrix...\n",
      "Done computing similarity matrix.\n",
      "Computing the cosine similarity matrix...\n"
     ]
    },
    {
     "name": "stdout",
     "output_type": "stream",
     "text": [
      "Done computing similarity matrix.\n",
      "Computing the cosine similarity matrix...\n",
      "Done computing similarity matrix.\n",
      "Evaluating MAE of algorithm KNNWithMeans on 5 split(s).\n",
      "\n",
      "                  Fold 1  Fold 2  Fold 3  Fold 4  Fold 5  Mean    Std     \n",
      "MAE (testset)     3.6269  3.5602  3.6207  3.6391  3.6063  3.6107  0.0274  \n",
      "Fit time          0.02    0.02    0.02    0.02    0.02    0.02    0.00    \n",
      "Test time         0.07    0.07    0.07    0.07    0.07    0.07    0.00    \n",
      "Computing the cosine similarity matrix...\n",
      "Done computing similarity matrix.\n",
      "Computing the cosine similarity matrix...\n",
      "Done computing similarity matrix.\n",
      "Computing the cosine similarity matrix...\n",
      "Done computing similarity matrix.\n",
      "Computing the cosine similarity matrix...\n",
      "Done computing similarity matrix.\n",
      "Computing the cosine similarity matrix...\n",
      "Done computing similarity matrix.\n",
      "Evaluating MAE of algorithm KNNWithMeans on 5 split(s).\n",
      "\n",
      "                  Fold 1  Fold 2  Fold 3  Fold 4  Fold 5  Mean    Std     \n",
      "MAE (testset)     3.6589  3.5970  3.5839  3.5666  3.5809  3.5975  0.0322  \n",
      "Fit time          0.02    0.02    0.02    0.02    0.02    0.02    0.00    \n",
      "Test time         0.07    0.08    0.07    0.08    0.07    0.07    0.01    \n",
      "Computing the cosine similarity matrix...\n",
      "Done computing similarity matrix.\n",
      "Computing the cosine similarity matrix...\n",
      "Done computing similarity matrix.\n",
      "Computing the cosine similarity matrix...\n",
      "Done computing similarity matrix.\n",
      "Computing the cosine similarity matrix...\n",
      "Done computing similarity matrix.\n",
      "Computing the cosine similarity matrix...\n",
      "Done computing similarity matrix.\n",
      "Evaluating MAE of algorithm KNNWithMeans on 5 split(s).\n",
      "\n",
      "                  Fold 1  Fold 2  Fold 3  Fold 4  Fold 5  Mean    Std     \n",
      "MAE (testset)     3.6292  3.6084  3.6285  3.5732  3.5637  3.6006  0.0275  \n",
      "Fit time          0.02    0.03    0.02    0.02    0.02    0.02    0.01    \n",
      "Test time         0.08    0.08    0.07    0.07    0.07    0.07    0.01    \n",
      "Computing the cosine similarity matrix...\n",
      "Done computing similarity matrix.\n",
      "Computing the cosine similarity matrix...\n",
      "Done computing similarity matrix.\n",
      "Computing the cosine similarity matrix...\n",
      "Done computing similarity matrix.\n",
      "Computing the cosine similarity matrix...\n",
      "Done computing similarity matrix.\n",
      "Computing the cosine similarity matrix...\n",
      "Done computing similarity matrix.\n",
      "Evaluating MAE of algorithm KNNWithMeans on 5 split(s).\n",
      "\n",
      "                  Fold 1  Fold 2  Fold 3  Fold 4  Fold 5  Mean    Std     \n",
      "MAE (testset)     3.6306  3.5694  3.5366  3.6264  3.6569  3.6040  0.0442  \n",
      "Fit time          0.02    0.02    0.03    0.02    0.02    0.02    0.00    \n",
      "Test time         0.07    0.07    0.07    0.07    0.08    0.07    0.00    \n",
      "Computing the cosine similarity matrix...\n",
      "Done computing similarity matrix.\n",
      "Computing the cosine similarity matrix...\n",
      "Done computing similarity matrix.\n",
      "Computing the cosine similarity matrix...\n",
      "Done computing similarity matrix.\n",
      "Computing the cosine similarity matrix...\n",
      "Done computing similarity matrix.\n",
      "Computing the cosine similarity matrix...\n",
      "Done computing similarity matrix.\n",
      "Evaluating MAE of algorithm KNNWithMeans on 5 split(s).\n",
      "\n",
      "                  Fold 1  Fold 2  Fold 3  Fold 4  Fold 5  Mean    Std     \n",
      "MAE (testset)     3.6384  3.5319  3.5279  3.6240  3.6339  3.5912  0.0503  \n",
      "Fit time          0.02    0.02    0.02    0.02    0.02    0.02    0.00    \n",
      "Test time         0.07    0.07    0.07    0.07    0.07    0.07    0.00    \n",
      "Computing the cosine similarity matrix...\n",
      "Done computing similarity matrix.\n",
      "Computing the cosine similarity matrix...\n",
      "Done computing similarity matrix.\n",
      "Computing the cosine similarity matrix...\n",
      "Done computing similarity matrix.\n",
      "Computing the cosine similarity matrix...\n",
      "Done computing similarity matrix.\n",
      "Computing the cosine similarity matrix...\n",
      "Done computing similarity matrix.\n",
      "Evaluating MAE of algorithm KNNWithMeans on 5 split(s).\n",
      "\n",
      "                  Fold 1  Fold 2  Fold 3  Fold 4  Fold 5  Mean    Std     \n",
      "MAE (testset)     3.6712  3.5888  3.6037  3.5387  3.6133  3.6031  0.0426  \n",
      "Fit time          0.02    0.02    0.02    0.02    0.02    0.02    0.00    \n",
      "Test time         0.07    0.07    0.07    0.08    0.06    0.07    0.01    \n",
      "Computing the cosine similarity matrix...\n",
      "Done computing similarity matrix.\n",
      "Computing the cosine similarity matrix...\n",
      "Done computing similarity matrix.\n",
      "Computing the cosine similarity matrix...\n",
      "Done computing similarity matrix.\n",
      "Computing the cosine similarity matrix...\n",
      "Done computing similarity matrix.\n",
      "Computing the cosine similarity matrix...\n",
      "Done computing similarity matrix.\n",
      "Evaluating MAE of algorithm KNNWithMeans on 5 split(s).\n",
      "\n",
      "                  Fold 1  Fold 2  Fold 3  Fold 4  Fold 5  Mean    Std     \n",
      "MAE (testset)     3.5269  3.6210  3.6327  3.5666  3.6189  3.5932  0.0402  \n",
      "Fit time          0.02    0.02    0.02    0.02    0.02    0.02    0.00    \n",
      "Test time         0.06    0.06    0.06    0.07    0.06    0.06    0.00    \n",
      "Computing the cosine similarity matrix...\n",
      "Done computing similarity matrix.\n",
      "Computing the cosine similarity matrix...\n",
      "Done computing similarity matrix.\n",
      "Computing the cosine similarity matrix...\n",
      "Done computing similarity matrix.\n",
      "Computing the cosine similarity matrix...\n",
      "Done computing similarity matrix.\n",
      "Computing the cosine similarity matrix...\n",
      "Done computing similarity matrix.\n",
      "Evaluating MAE of algorithm KNNWithMeans on 5 split(s).\n",
      "\n",
      "                  Fold 1  Fold 2  Fold 3  Fold 4  Fold 5  Mean    Std     \n",
      "MAE (testset)     3.6016  3.6525  3.5712  3.5988  3.6043  3.6057  0.0263  \n",
      "Fit time          0.02    0.02    0.02    0.02    0.02    0.02    0.00    \n",
      "Test time         0.06    0.07    0.06    0.07    0.06    0.07    0.00    \n",
      "Computing the cosine similarity matrix...\n",
      "Done computing similarity matrix.\n",
      "Computing the cosine similarity matrix...\n",
      "Done computing similarity matrix.\n",
      "Computing the cosine similarity matrix...\n",
      "Done computing similarity matrix.\n",
      "Computing the cosine similarity matrix...\n",
      "Done computing similarity matrix.\n",
      "Computing the cosine similarity matrix...\n",
      "Done computing similarity matrix.\n",
      "Evaluating MAE of algorithm KNNWithMeans on 5 split(s).\n",
      "\n",
      "                  Fold 1  Fold 2  Fold 3  Fold 4  Fold 5  Mean    Std     \n",
      "MAE (testset)     3.5443  3.6232  3.5741  3.6593  3.5750  3.5952  0.0408  \n",
      "Fit time          0.02    0.02    0.02    0.03    0.02    0.02    0.01    \n",
      "Test time         0.06    0.06    0.06    0.07    0.06    0.06    0.00    \n"
     ]
    }
   ],
   "source": [
    "sim_options = {\n",
    "    'name':'cosine',\n",
    "    'user_based':False,\n",
    "}\n",
    "\n",
    "MAE_item = []\n",
    "for i in range(1,21):\n",
    "    alg = KNNWithMeans(k=i, sim_options=sim_options)\n",
    "    cross_val = cross_validate(alg, trainData, measures=['MAE'], cv=5, verbose = True)\n",
    "    MAE_item.append(cross_val['test_mae'].mean())"
   ]
  },
  {
   "cell_type": "code",
   "execution_count": 71,
   "metadata": {},
   "outputs": [
    {
     "name": "stderr",
     "output_type": "stream",
     "text": [
      "No handles with labels found to put in legend.\n"
     ]
    },
    {
     "data": {
      "image/png": "[encoded data removed]",
      "text/plain": [
       "<Figure size 792x288 with 1 Axes>"
      ]
     },
     "metadata": {},
     "output_type": "display_data"
    }
   ],
   "source": [
    "# Plotting the MAE values against k, the num of neighbors\n",
    "\n",
    "Ks=list(range(1, 21))\n",
    "plt.figure(figsize=(11,4))\n",
    "plt.plot(Ks, MAE_item, 'bo--')\n",
    "plt.xlabel('K')\n",
    "plt.ylabel('Mean Absolute Error')\n",
    "plt.title('Comparing K values for knn')\n",
    "plt.grid(linestyle='--')\n",
    "plt.xticks(Ks)\n",
    "plt.legend(loc='center left', bbox_to_anchor=(1, 0.5))\n",
    "\n",
    "plt.show()"
   ]
  },
  {
   "cell_type": "markdown",
   "metadata": {},
   "source": [
    "Finally, use the best k value to to compute the performance of KNNWithMeans on the test set predictions (using the \"accuracy\" module in Surprise)."
   ]
  },
  {
   "cell_type": "code",
   "execution_count": 1,
   "metadata": {},
   "outputs": [
    {
     "ename": "NameError",
     "evalue": "name 'KNNWithMeans' is not defined",
     "output_type": "error",
     "traceback": [
      "\u001b[1;31m---------------------------------------------------------------------------\u001b[0m",
      "\u001b[1;31mNameError\u001b[0m                                 Traceback (most recent call last)",
      "\u001b[1;32m<ipython-input-1-94ec8eae989b>\u001b[0m in \u001b[0;36m<module>\u001b[1;34m\u001b[0m\n\u001b[0;32m      5\u001b[0m \u001b[1;33m\u001b[0m\u001b[0m\n\u001b[0;32m      6\u001b[0m \u001b[1;31m#K-9\u001b[0m\u001b[1;33m\u001b[0m\u001b[1;33m\u001b[0m\u001b[1;33m\u001b[0m\u001b[0m\n\u001b[1;32m----> 7\u001b[1;33m \u001b[0malg_best\u001b[0m \u001b[1;33m=\u001b[0m \u001b[0mKNNWithMeans\u001b[0m\u001b[1;33m(\u001b[0m\u001b[0mk\u001b[0m\u001b[1;33m=\u001b[0m\u001b[1;36m9\u001b[0m\u001b[1;33m,\u001b[0m \u001b[0msim_options\u001b[0m\u001b[1;33m=\u001b[0m\u001b[0msim_options\u001b[0m\u001b[1;33m)\u001b[0m\u001b[1;33m\u001b[0m\u001b[1;33m\u001b[0m\u001b[0m\n\u001b[0m",
      "\u001b[1;31mNameError\u001b[0m: name 'KNNWithMeans' is not defined"
     ]
    }
   ],
   "source": [
    "sim_options = {\n",
    "    'name':'cosine',\n",
    "    'user_based':False,\n",
    "}\n",
    "\n",
    "#K-9\n",
    "alg_best = KNNWithMeans(k=9, sim_options=sim_options)"
   ]
  },
  {
   "cell_type": "code",
   "execution_count": 73,
   "metadata": {},
   "outputs": [
    {
     "name": "stdout",
     "output_type": "stream",
     "text": [
      "Computing the cosine similarity matrix...\n",
      "Done computing similarity matrix.\n"
     ]
    },
    {
     "data": {
      "text/plain": [
       "<surprise.prediction_algorithms.knns.KNNWithMeans at 0x1d7c2824370>"
      ]
     },
     "execution_count": 73,
     "metadata": {},
     "output_type": "execute_result"
    }
   ],
   "source": [
    "trainset = trainData.build_full_trainset()\n",
    "alg_best.fit(trainset) # suppose alg is the model created with the optimal k value"
   ]
  },
  {
   "cell_type": "code",
   "execution_count": 74,
   "metadata": {},
   "outputs": [
    {
     "name": "stdout",
     "output_type": "stream",
     "text": [
      "Accuracy on the testset:\n",
      "RMSE: 3.6180\n"
     ]
    },
    {
     "data": {
      "text/plain": [
       "3.618000485310184"
      ]
     },
     "execution_count": 74,
     "metadata": {},
     "output_type": "execute_result"
    }
   ],
   "source": [
    "testset = testData.construct_testset(test_raw_ratings)                         \n",
    "predictions = alg_best.test(testset)                                           \n",
    "print('Accuracy on the testset:')                                          \n",
    "accuracy.rmse(predictions) "
   ]
  },
  {
   "cell_type": "code",
   "execution_count": null,
   "metadata": {},
   "outputs": [],
   "source": []
  }
 ],
 "metadata": {
  "kernelspec": {
   "display_name": "Python 3",
   "language": "python",
   "name": "python3"
  },
  "language_info": {
   "codemirror_mode": {
    "name": "ipython",
    "version": 3
   },
   "file_extension": ".py",
   "mimetype": "text/x-python",
   "name": "python",
   "nbconvert_exporter": "python",
   "pygments_lexer": "ipython3",
   "version": "3.7.3"
  }
 },
 "nbformat": 4,
 "nbformat_minor": 1
}
