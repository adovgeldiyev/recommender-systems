{
 "cells": [
  {
   "cell_type": "markdown",
   "metadata": {},
   "source": [
    "### Azat Dovgeldiyev\n",
    "### CSC 577\n",
    "For this part you will experiment with parameter tuning for recommender systems implemented in Surprise. You will use the \"review.csv\" file from Yelp Core 5 distribution which includes ratings by users on various business establishments. The Yelp Core 5 data set is about 140k ratings, but it is fairly sparse (99.7%). Every user has rated at least five establishments and every establishment has at least five ratings. This data set is based on the Yelp challenge data set: https://www.kaggle.com/c/yelp-recsys-2013."
   ]
  },
  {
   "cell_type": "code",
   "execution_count": 1,
   "metadata": {},
   "outputs": [],
   "source": [
    "import numpy as np\n",
    "import pandas as pd\n",
    "import matplotlib.pyplot as plt\n",
    "%matplotlib inline\n",
    "from scipy.spatial.distance import cosine, correlation\n",
    "\n",
    "### We won't use all of these, but they are imported for future extensions\n",
    "from surprise import Dataset\n",
    "from surprise import Reader\n",
    "from surprise import KNNWithMeans, KNNWithZScore, KNNBaseline\n",
    "from surprise import SVD, SVDpp, NMF, SlopeOne, CoClustering\n",
    "from surprise import Reader, similarities, Dataset, accuracy\n",
    "from surprise.model_selection import cross_validate, KFold, ShuffleSplit\n",
    "from surprise.model_selection import GridSearchCV\n",
    "\n",
    "pd.options.display.float_format='{:,.3f}'.format"
   ]
  },
  {
   "cell_type": "code",
   "execution_count": 2,
   "metadata": {},
   "outputs": [
    {
     "name": "stdout",
     "output_type": "stream",
     "text": [
      "Rows: 141454 ; Columns: 3 \n",
      "\n"
     ]
    },
    {
     "data": {
      "text/html": [
       "<div>\n",
       "<style scoped>\n",
       "    .dataframe tbody tr th:only-of-type {\n",
       "        vertical-align: middle;\n",
       "    }\n",
       "\n",
       "    .dataframe tbody tr th {\n",
       "        vertical-align: top;\n",
       "    }\n",
       "\n",
       "    .dataframe thead th {\n",
       "        text-align: right;\n",
       "    }\n",
       "</style>\n",
       "<table border=\"1\" class=\"dataframe\">\n",
       "  <thead>\n",
       "    <tr style=\"text-align: right;\">\n",
       "      <th></th>\n",
       "      <th>userID</th>\n",
       "      <th>businessID</th>\n",
       "      <th>rating</th>\n",
       "    </tr>\n",
       "  </thead>\n",
       "  <tbody>\n",
       "    <tr>\n",
       "      <th>0</th>\n",
       "      <td>10000</td>\n",
       "      <td>0</td>\n",
       "      <td>5</td>\n",
       "    </tr>\n",
       "    <tr>\n",
       "      <th>1</th>\n",
       "      <td>10001</td>\n",
       "      <td>1</td>\n",
       "      <td>5</td>\n",
       "    </tr>\n",
       "    <tr>\n",
       "      <th>2</th>\n",
       "      <td>10002</td>\n",
       "      <td>2</td>\n",
       "      <td>5</td>\n",
       "    </tr>\n",
       "    <tr>\n",
       "      <th>3</th>\n",
       "      <td>10003</td>\n",
       "      <td>3</td>\n",
       "      <td>4</td>\n",
       "    </tr>\n",
       "    <tr>\n",
       "      <th>4</th>\n",
       "      <td>10004</td>\n",
       "      <td>4</td>\n",
       "      <td>5</td>\n",
       "    </tr>\n",
       "  </tbody>\n",
       "</table>\n",
       "</div>"
      ],
      "text/plain": [
       "   userID  businessID  rating\n",
       "0   10000           0       5\n",
       "1   10001           1       5\n",
       "2   10002           2       5\n",
       "3   10003           3       4\n",
       "4   10004           4       5"
      ]
     },
     "execution_count": 2,
     "metadata": {},
     "output_type": "execute_result"
    }
   ],
   "source": [
    "reviews = pd.read_csv(\"yelp-core5/review.csv\", names=['userID', 'businessID', 'rating'])\n",
    "print('Rows:', reviews.shape[0], '; Columns:', reviews.shape[1], '\\n')\n",
    "\n",
    "reviews.head()"
   ]
  },
  {
   "cell_type": "code",
   "execution_count": 3,
   "metadata": {},
   "outputs": [
    {
     "name": "stdout",
     "output_type": "stream",
     "text": [
      "No. of Unique Users    : 8043\n",
      "No. of Unique Business : 5199\n",
      "No. of Unique Ratings  : 5\n"
     ]
    }
   ],
   "source": [
    "print('No. of Unique Users    :', reviews.userID.nunique())\n",
    "print('No. of Unique Business :', reviews.businessID.nunique())\n",
    "print('No. of Unique Ratings  :', reviews.rating.nunique())"
   ]
  },
  {
   "cell_type": "code",
   "execution_count": 5,
   "metadata": {},
   "outputs": [],
   "source": [
    "# Set Rating Scale\n",
    "reader = Reader(rating_scale=(1, 5))\n",
    "\n",
    "# Load data with rating scale\n",
    "data = Dataset.load_from_df(reviews[['userID', 'businessID', 'rating']], reader)"
   ]
  },
  {
   "cell_type": "code",
   "execution_count": 6,
   "metadata": {},
   "outputs": [],
   "source": [
    "knnbasic_cv = cross_validate(KNNBaseline(), data, cv=5, n_jobs=5, verbose=False)\n",
    "knnmeans_cv = cross_validate(KNNWithMeans(), data, cv=5, n_jobs=5, verbose=False)\n",
    "knnz_cv = cross_validate(KNNWithZScore(), data, cv=5, n_jobs=5, verbose=False)"
   ]
  },
  {
   "cell_type": "code",
   "execution_count": 7,
   "metadata": {},
   "outputs": [],
   "source": [
    "svd_cv = cross_validate(SVD(), data, cv=5, n_jobs=5, verbose=False)\n",
    "svdpp_cv = cross_validate(SVDpp(), data, cv=5, n_jobs=5, verbose=False)\n",
    "nmf_cv = cross_validate(NMF(), data, cv=5, n_jobs=5, verbose=False)"
   ]
  },
  {
   "cell_type": "code",
   "execution_count": 8,
   "metadata": {},
   "outputs": [],
   "source": [
    "cocluster_cv = cross_validate(CoClustering(), data, cv=5, n_jobs=5, verbose=False)\n",
    "slope_cv = cross_validate(SlopeOne(), data, cv=5, n_jobs=5, verbose=False)"
   ]
  },
  {
   "cell_type": "code",
   "execution_count": 36,
   "metadata": {},
   "outputs": [
    {
     "name": "stdout",
     "output_type": "stream",
     "text": [
      "Algorithm\t RMSE\n",
      "\n",
      "KNN Basic \t 1.0594863316905083\n",
      "KNN Means \t 1.0877090381395582\n",
      "KNN ZScore \t 1.09376931697151\n",
      "\n",
      "SVD \t\t 1.0237503598315298\n",
      "SVDpp \t\t 1.021972213736008\n",
      "NMF \t\t 1.1257179379599687\n",
      "\n",
      "SlopeOne \t 1.1130160230691817\n",
      "CoClustering \t 1.0851946670008341\n",
      "\n"
     ]
    }
   ],
   "source": [
    "print('Algorithm\\t RMSE')\n",
    "print()\n",
    "print('KNN Basic', '\\t', knnbasic_cv['test_rmse'].mean())\n",
    "print('KNN Means', '\\t', knnmeans_cv['test_rmse'].mean())\n",
    "print('KNN ZScore', '\\t', knnz_cv['test_rmse'].mean())\n",
    "print()\n",
    "print('SVD', '\\t\\t', svd_cv['test_rmse'].mean())\n",
    "print('SVDpp', '\\t\\t', svdpp_cv['test_rmse'].mean())\n",
    "print('NMF', '\\t\\t', nmf_cv['test_rmse'].mean())\n",
    "print()\n",
    "print('SlopeOne', '\\t', slope_cv['test_rmse'].mean())\n",
    "print('CoClustering', '\\t', cocluster_cv['test_rmse'].mean())\n",
    "print()"
   ]
  },
  {
   "cell_type": "code",
   "execution_count": 10,
   "metadata": {},
   "outputs": [
    {
     "data": {
      "image/png": "[encoded data removed]",
      "text/plain": [
       "<Figure size 864x576 with 1 Axes>"
      ]
     },
     "metadata": {},
     "output_type": "display_data"
    }
   ],
   "source": [
    "x_algo = ['KNN Basic', 'KNN Means', 'KNN ZScore', 'SVD', 'SVDpp', 'NMF', 'SlopeOne', 'CoClustering']\n",
    "all_algos_cv = [knnbasic_cv, knnmeans_cv, knnz_cv, svd_cv, svdpp_cv, nmf_cv, slope_cv, cocluster_cv]\n",
    "\n",
    "rmse_cv = [round(res['test_rmse'].mean(), 4) for res in all_algos_cv]\n",
    "\n",
    "plt.figure(figsize=(12,8))\n",
    "\n",
    "#plt.subplot(1, 2, 1)\n",
    "plt.title('Comparison of Algorithms on RMSE', loc='center', fontsize=15)\n",
    "plt.plot(x_algo, rmse_cv, label='RMSE', color='darkgreen', marker='o')\n",
    "plt.xlabel('Algorithms', fontsize=15)\n",
    "plt.ylabel('RMSE Value', fontsize=15)\n",
    "plt.legend()\n",
    "plt.grid(ls='dashed')\n",
    "\n",
    "\n",
    "plt.show()"
   ]
  },
  {
   "cell_type": "code",
   "execution_count": 11,
   "metadata": {},
   "outputs": [
    {
     "name": "stdout",
     "output_type": "stream",
     "text": [
      "done in 25993.089s.\n"
     ]
    }
   ],
   "source": [
    "from time import time\n",
    "t0 = time()\n",
    "\n",
    "svd_param_grid = {'n_epochs': [25, 30, 35], \n",
    "                  'lr_all': [0.001, 0.006, 0.007,0.008, 0.009, 0.01],\n",
    "                  'reg_all': [0.01,0.05,0.08,0.09,0.1,0.4]}\n",
    "\n",
    "svdpp_gs = GridSearchCV(SVDpp, svd_param_grid, measures=['rmse', 'mae'], cv=5, n_jobs=5)\n",
    "svdpp_gs.fit(data)\n",
    "\n",
    "print(\"done in %0.3fs.\" % (time() - t0))"
   ]
  },
  {
   "cell_type": "code",
   "execution_count": 14,
   "metadata": {},
   "outputs": [
    {
     "name": "stdout",
     "output_type": "stream",
     "text": [
      "done in 35981.583s.\n"
     ]
    }
   ],
   "source": [
    "svd_gs = GridSearchCV(SVD, svd_param_grid, measures=['rmse'], cv=5, n_jobs=5)\n",
    "svd_gs.fit(data)\n",
    "\n",
    "print(\"done in %0.3fs.\" % (time() - t0))"
   ]
  },
  {
   "cell_type": "code",
   "execution_count": 18,
   "metadata": {},
   "outputs": [
    {
     "name": "stdout",
     "output_type": "stream",
     "text": [
      "SVDpp - RMSE: 1.014211067642224\n",
      "SVD   - RMSE: 1.014742426188841\n"
     ]
    }
   ],
   "source": [
    "print('SVDpp - RMSE:', svdpp_gs.best_score['rmse'])\n",
    "print('SVD   - RMSE:', svd_gs.best_score['rmse'])"
   ]
  },
  {
   "cell_type": "code",
   "execution_count": 16,
   "metadata": {},
   "outputs": [
    {
     "name": "stdout",
     "output_type": "stream",
     "text": [
      "RMSE = {'n_epochs': 25, 'lr_all': 0.006, 'reg_all': 0.1}\n"
     ]
    }
   ],
   "source": [
    "print('RMSE =', svdpp_gs.best_params['rmse'])"
   ]
  },
  {
   "cell_type": "code",
   "execution_count": 17,
   "metadata": {},
   "outputs": [
    {
     "name": "stdout",
     "output_type": "stream",
     "text": [
      "RMSE = {'n_epochs': 35, 'lr_all': 0.006, 'reg_all': 0.4}\n"
     ]
    }
   ],
   "source": [
    "print('RMSE =', svd_gs.best_params['rmse'])"
   ]
  },
  {
   "cell_type": "code",
   "execution_count": 43,
   "metadata": {},
   "outputs": [
    {
     "name": "stdout",
     "output_type": "stream",
     "text": [
      "RMSE: 1.0124\n",
      "RMSE: 1.0160\n",
      "RMSE: 1.0147\n",
      "RMSE: 1.0121\n",
      "RMSE: 1.0154\n"
     ]
    }
   ],
   "source": [
    "svdppRMSE = []\n",
    "kf = KFold(n_splits=5, random_state=44)\n",
    "for trainset, testset in kf.split(data):\n",
    "    svd_pp_eval = SVDpp(n_epochs= 25, lr_all= 0.006, reg_all= 0.1)\n",
    "    svd_pp_eval.fit(trainset)\n",
    "    predictions = svd_pp_eval.test(testset)\n",
    "    svdppRMSE.append(accuracy.rmse(predictions, verbose=True))\n",
    "svdppRMSE = np.array(svdppRMSE)"
   ]
  },
  {
   "cell_type": "code",
   "execution_count": 40,
   "metadata": {},
   "outputs": [],
   "source": [
    "svdppRMSE = np.array(svdppRMSE)"
   ]
  },
  {
   "cell_type": "code",
   "execution_count": 41,
   "metadata": {},
   "outputs": [
    {
     "name": "stdout",
     "output_type": "stream",
     "text": [
      "RMSE: 1.0147\n",
      "RMSE: 1.0177\n",
      "RMSE: 1.0165\n",
      "RMSE: 1.0144\n",
      "RMSE: 1.0167\n"
     ]
    }
   ],
   "source": [
    "svdRMSE = []\n",
    "kf = KFold(n_splits=5, random_state=44)\n",
    "for trainset, testset in kf.split(data):\n",
    "    svd = SVD(n_epochs= 35, lr_all= 0.006, reg_all= 0.4)\n",
    "    svd.fit(trainset)\n",
    "    predictions = svd.test(testset)\n",
    "    svdRMSE.append(accuracy.rmse(predictions, verbose=True))\n",
    "svdRMSE = np.array(svdRMSE)"
   ]
  },
  {
   "cell_type": "code",
   "execution_count": 42,
   "metadata": {},
   "outputs": [
    {
     "data": {
      "image/png": "[encoded data removed]",
      "text/plain": [
       "<Figure size 432x288 with 1 Axes>"
      ]
     },
     "metadata": {},
     "output_type": "display_data"
    }
   ],
   "source": [
    "plt.boxplot([svdppRMSE, svdRMSE], labels= ['SVDpp', 'SVD'], vert=False, whis=50)\n",
    "plt.xlabel('RMSE')\n",
    "plt.title('Comparison of RMSE Values Over 5 Folds')\n",
    "plt.show()"
   ]
  },
  {
   "cell_type": "code",
   "execution_count": null,
   "metadata": {},
   "outputs": [],
   "source": []
  }
 ],
 "metadata": {
  "kernelspec": {
   "display_name": "Python 3.7.3 64-bit ('14023': virtualenv)",
   "language": "python",
   "name": "python37364bit14023virtualenv43d760947b1c41cea019d510c4f98b52"
  },
  "language_info": {
   "codemirror_mode": {
    "name": "ipython",
    "version": 3
   },
   "file_extension": ".py",
   "mimetype": "text/x-python",
   "name": "python",
   "nbconvert_exporter": "python",
   "pygments_lexer": "ipython3",
   "version": "3.7.3"
  }
 },
 "nbformat": 4,
 "nbformat_minor": 4
}
