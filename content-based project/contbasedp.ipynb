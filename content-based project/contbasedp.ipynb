{
 "cells": [
  {
   "cell_type": "markdown",
   "metadata": {},
   "source": [
    "**Global imports**"
   ]
  },
  {
   "cell_type": "code",
   "execution_count": 1,
   "metadata": {},
   "outputs": [],
   "source": [
    "import numpy as np\n",
    "import pandas as pd\n",
    "import matplotlib.pyplot as plt\n",
    "%matplotlib inline\n",
    "from scipy.spatial.distance import cosine, correlation\n",
    "\n",
    "pd.options.display.float_format='{:,.3f}'.format"
   ]
  },
  {
   "cell_type": "markdown",
   "metadata": {},
   "source": [
    "**Import from Surprise**"
   ]
  },
  {
   "cell_type": "code",
   "execution_count": 2,
   "metadata": {},
   "outputs": [],
   "source": [
    "from surprise import Dataset, Reader\n",
    "from surprise import SVD, KNNWithMeans, SlopeOne\n",
    "from surprise.model_selection import cross_validate\n",
    "from surprise.model_selection import train_test_split\n",
    "from surprise import accuracy"
   ]
  },
  {
   "cell_type": "code",
   "execution_count": 3,
   "metadata": {},
   "outputs": [
    {
     "name": "stdout",
     "output_type": "stream",
     "text": [
      "showing info https://raw.githubusercontent.com/nltk/nltk_data/gh-pages/index.xml\n"
     ]
    }
   ],
   "source": [
    "import re\n",
    "import nltk      \n",
    "nltk.download()  ### This will let you download various NLTK packages; it's only necessary to do this once\n",
    "\n",
    "from nltk.stem import PorterStemmer\n",
    "from nltk.corpus import stopwords\n",
    "from sklearn.feature_extraction.text import TfidfVectorizer, CountVectorizer"
   ]
  },
  {
   "cell_type": "markdown",
   "metadata": {},
   "source": [
    "### Part 1. [50 pts] Content-Based Joke Recommendation"
   ]
  },
  {
   "cell_type": "markdown",
   "metadata": {},
   "source": [
    "Read in the joke ratings data as well as joke text data into appropriate data structures. First, preprocess the joke text data (tokenization, stop word removal, stemming) and create feature vector representation of jokes with TFxIDF weights. Note that for some of the preprocessing steps, you may need to install NLTK package if not already installed with your Anaconda distribution. For the vectorization, you can use functions from Scikit-learn's feature_extraction.text module. Show the feature set or the vocabulary for the item vectors."
   ]
  },
  {
   "cell_type": "code",
   "execution_count": 4,
   "metadata": {},
   "outputs": [
    {
     "data": {
      "text/html": [
       "<div>\n",
       "<style scoped>\n",
       "    .dataframe tbody tr th:only-of-type {\n",
       "        vertical-align: middle;\n",
       "    }\n",
       "\n",
       "    .dataframe tbody tr th {\n",
       "        vertical-align: top;\n",
       "    }\n",
       "\n",
       "    .dataframe thead th {\n",
       "        text-align: right;\n",
       "    }\n",
       "</style>\n",
       "<table border=\"1\" class=\"dataframe\">\n",
       "  <thead>\n",
       "    <tr style=\"text-align: right;\">\n",
       "      <th></th>\n",
       "      <th>0</th>\n",
       "      <th>1</th>\n",
       "      <th>2</th>\n",
       "      <th>3</th>\n",
       "      <th>4</th>\n",
       "      <th>5</th>\n",
       "      <th>6</th>\n",
       "      <th>7</th>\n",
       "      <th>8</th>\n",
       "      <th>9</th>\n",
       "      <th>...</th>\n",
       "      <th>90</th>\n",
       "      <th>91</th>\n",
       "      <th>92</th>\n",
       "      <th>93</th>\n",
       "      <th>94</th>\n",
       "      <th>95</th>\n",
       "      <th>96</th>\n",
       "      <th>97</th>\n",
       "      <th>98</th>\n",
       "      <th>99</th>\n",
       "    </tr>\n",
       "  </thead>\n",
       "  <tbody>\n",
       "    <tr>\n",
       "      <th>0</th>\n",
       "      <td>3</td>\n",
       "      <td>19</td>\n",
       "      <td>1</td>\n",
       "      <td>2</td>\n",
       "      <td>3</td>\n",
       "      <td>2</td>\n",
       "      <td>1</td>\n",
       "      <td>15</td>\n",
       "      <td>2</td>\n",
       "      <td>6</td>\n",
       "      <td>...</td>\n",
       "      <td>13</td>\n",
       "      <td>0</td>\n",
       "      <td>0</td>\n",
       "      <td>0</td>\n",
       "      <td>0</td>\n",
       "      <td>0</td>\n",
       "      <td>5</td>\n",
       "      <td>0</td>\n",
       "      <td>0</td>\n",
       "      <td>0</td>\n",
       "    </tr>\n",
       "    <tr>\n",
       "      <th>1</th>\n",
       "      <td>15</td>\n",
       "      <td>10</td>\n",
       "      <td>17</td>\n",
       "      <td>15</td>\n",
       "      <td>8</td>\n",
       "      <td>1</td>\n",
       "      <td>10</td>\n",
       "      <td>5</td>\n",
       "      <td>19</td>\n",
       "      <td>20</td>\n",
       "      <td>...</td>\n",
       "      <td>13</td>\n",
       "      <td>6</td>\n",
       "      <td>10</td>\n",
       "      <td>18</td>\n",
       "      <td>10</td>\n",
       "      <td>8</td>\n",
       "      <td>14</td>\n",
       "      <td>11</td>\n",
       "      <td>6</td>\n",
       "      <td>12</td>\n",
       "    </tr>\n",
       "    <tr>\n",
       "      <th>2</th>\n",
       "      <td>0</td>\n",
       "      <td>0</td>\n",
       "      <td>0</td>\n",
       "      <td>0</td>\n",
       "      <td>20</td>\n",
       "      <td>20</td>\n",
       "      <td>20</td>\n",
       "      <td>20</td>\n",
       "      <td>0</td>\n",
       "      <td>0</td>\n",
       "      <td>...</td>\n",
       "      <td>0</td>\n",
       "      <td>0</td>\n",
       "      <td>0</td>\n",
       "      <td>20</td>\n",
       "      <td>0</td>\n",
       "      <td>0</td>\n",
       "      <td>0</td>\n",
       "      <td>0</td>\n",
       "      <td>0</td>\n",
       "      <td>0</td>\n",
       "    </tr>\n",
       "    <tr>\n",
       "      <th>3</th>\n",
       "      <td>0</td>\n",
       "      <td>19</td>\n",
       "      <td>0</td>\n",
       "      <td>0</td>\n",
       "      <td>12</td>\n",
       "      <td>19</td>\n",
       "      <td>8</td>\n",
       "      <td>17</td>\n",
       "      <td>0</td>\n",
       "      <td>12</td>\n",
       "      <td>...</td>\n",
       "      <td>0</td>\n",
       "      <td>0</td>\n",
       "      <td>0</td>\n",
       "      <td>11</td>\n",
       "      <td>0</td>\n",
       "      <td>0</td>\n",
       "      <td>0</td>\n",
       "      <td>0</td>\n",
       "      <td>0</td>\n",
       "      <td>0</td>\n",
       "    </tr>\n",
       "    <tr>\n",
       "      <th>4</th>\n",
       "      <td>19</td>\n",
       "      <td>15</td>\n",
       "      <td>6</td>\n",
       "      <td>5</td>\n",
       "      <td>12</td>\n",
       "      <td>12</td>\n",
       "      <td>18</td>\n",
       "      <td>15</td>\n",
       "      <td>10</td>\n",
       "      <td>16</td>\n",
       "      <td>...</td>\n",
       "      <td>16</td>\n",
       "      <td>16</td>\n",
       "      <td>15</td>\n",
       "      <td>16</td>\n",
       "      <td>16</td>\n",
       "      <td>12</td>\n",
       "      <td>14</td>\n",
       "      <td>17</td>\n",
       "      <td>12</td>\n",
       "      <td>12</td>\n",
       "    </tr>\n",
       "  </tbody>\n",
       "</table>\n",
       "<p>5 rows × 100 columns</p>\n",
       "</div>"
      ],
      "text/plain": [
       "   0   1   2   3   4   5   6   7   8   9   ...  90  91  92  93  94  95  96  \\\n",
       "0   3  19   1   2   3   2   1  15   2   6  ...  13   0   0   0   0   0   5   \n",
       "1  15  10  17  15   8   1  10   5  19  20  ...  13   6  10  18  10   8  14   \n",
       "2   0   0   0   0  20  20  20  20   0   0  ...   0   0   0  20   0   0   0   \n",
       "3   0  19   0   0  12  19   8  17   0  12  ...   0   0   0  11   0   0   0   \n",
       "4  19  15   6   5  12  12  18  15  10  16  ...  16  16  15  16  16  12  14   \n",
       "\n",
       "   97  98  99  \n",
       "0   0   0   0  \n",
       "1  11   6  12  \n",
       "2   0   0   0  \n",
       "3   0   0   0  \n",
       "4  17  12  12  \n",
       "\n",
       "[5 rows x 100 columns]"
      ]
     },
     "execution_count": 4,
     "metadata": {},
     "output_type": "execute_result"
    }
   ],
   "source": [
    "joke_ratings = pd.read_csv(\"joke-ratings.csv\", header=None)\n",
    "joke_ratings.head()"
   ]
  },
  {
   "cell_type": "code",
   "execution_count": 5,
   "metadata": {},
   "outputs": [
    {
     "data": {
      "text/html": [
       "<div>\n",
       "<style scoped>\n",
       "    .dataframe tbody tr th:only-of-type {\n",
       "        vertical-align: middle;\n",
       "    }\n",
       "\n",
       "    .dataframe tbody tr th {\n",
       "        vertical-align: top;\n",
       "    }\n",
       "\n",
       "    .dataframe thead th {\n",
       "        text-align: right;\n",
       "    }\n",
       "</style>\n",
       "<table border=\"1\" class=\"dataframe\">\n",
       "  <thead>\n",
       "    <tr style=\"text-align: right;\">\n",
       "      <th></th>\n",
       "      <th>Joke Text</th>\n",
       "    </tr>\n",
       "  </thead>\n",
       "  <tbody>\n",
       "    <tr>\n",
       "      <th>0</th>\n",
       "      <td>A man visits the doctor. The doctor says \"I ha...</td>\n",
       "    </tr>\n",
       "    <tr>\n",
       "      <th>1</th>\n",
       "      <td>This couple had an excellent relationship goin...</td>\n",
       "    </tr>\n",
       "    <tr>\n",
       "      <th>2</th>\n",
       "      <td>Q. What's 200 feet long and has 4 teeth? A. Th...</td>\n",
       "    </tr>\n",
       "    <tr>\n",
       "      <th>3</th>\n",
       "      <td>Q. What's the difference between a man and a t...</td>\n",
       "    </tr>\n",
       "    <tr>\n",
       "      <th>4</th>\n",
       "      <td>Q. What's O. J. Simpson's Internet address? A....</td>\n",
       "    </tr>\n",
       "  </tbody>\n",
       "</table>\n",
       "</div>"
      ],
      "text/plain": [
       "                                           Joke Text\n",
       "0  A man visits the doctor. The doctor says \"I ha...\n",
       "1  This couple had an excellent relationship goin...\n",
       "2  Q. What's 200 feet long and has 4 teeth? A. Th...\n",
       "3  Q. What's the difference between a man and a t...\n",
       "4  Q. What's O. J. Simpson's Internet address? A...."
      ]
     },
     "execution_count": 5,
     "metadata": {},
     "output_type": "execute_result"
    }
   ],
   "source": [
    "joke_text = pd.read_csv(\"jokes.csv\",header=None, dtype=str, index_col=0, names=[\"Joke Text\"])\n",
    "joke_text.head()"
   ]
  },
  {
   "cell_type": "code",
   "execution_count": 6,
   "metadata": {},
   "outputs": [],
   "source": [
    "items = {}\n",
    "users = {}\n",
    "iid = 0\n",
    "uid = 0\n",
    "for i in joke_ratings.columns:\n",
    "    items[i] = iid\n",
    "    iid += 1\n",
    "for u in joke_ratings.index:\n",
    "    users[u] = uid\n",
    "    uid += 1"
   ]
  },
  {
   "cell_type": "code",
   "execution_count": 7,
   "metadata": {},
   "outputs": [
    {
     "data": {
      "text/html": [
       "<div>\n",
       "<style scoped>\n",
       "    .dataframe tbody tr th:only-of-type {\n",
       "        vertical-align: middle;\n",
       "    }\n",
       "\n",
       "    .dataframe tbody tr th {\n",
       "        vertical-align: top;\n",
       "    }\n",
       "\n",
       "    .dataframe thead th {\n",
       "        text-align: right;\n",
       "    }\n",
       "</style>\n",
       "<table border=\"1\" class=\"dataframe\">\n",
       "  <thead>\n",
       "    <tr style=\"text-align: right;\">\n",
       "      <th></th>\n",
       "      <th>user_id</th>\n",
       "      <th>joke_id</th>\n",
       "      <th>rating</th>\n",
       "    </tr>\n",
       "  </thead>\n",
       "  <tbody>\n",
       "    <tr>\n",
       "      <th>13422</th>\n",
       "      <td>192</td>\n",
       "      <td>85</td>\n",
       "      <td>7</td>\n",
       "    </tr>\n",
       "    <tr>\n",
       "      <th>69632</th>\n",
       "      <td>985</td>\n",
       "      <td>2</td>\n",
       "      <td>20</td>\n",
       "    </tr>\n",
       "    <tr>\n",
       "      <th>52880</th>\n",
       "      <td>742</td>\n",
       "      <td>81</td>\n",
       "      <td>8</td>\n",
       "    </tr>\n",
       "    <tr>\n",
       "      <th>48226</th>\n",
       "      <td>681</td>\n",
       "      <td>10</td>\n",
       "      <td>19</td>\n",
       "    </tr>\n",
       "    <tr>\n",
       "      <th>46628</th>\n",
       "      <td>657</td>\n",
       "      <td>55</td>\n",
       "      <td>14</td>\n",
       "    </tr>\n",
       "    <tr>\n",
       "      <th>36805</th>\n",
       "      <td>513</td>\n",
       "      <td>24</td>\n",
       "      <td>1</td>\n",
       "    </tr>\n",
       "    <tr>\n",
       "      <th>8248</th>\n",
       "      <td>114</td>\n",
       "      <td>7</td>\n",
       "      <td>16</td>\n",
       "    </tr>\n",
       "    <tr>\n",
       "      <th>61760</th>\n",
       "      <td>872</td>\n",
       "      <td>41</td>\n",
       "      <td>12</td>\n",
       "    </tr>\n",
       "    <tr>\n",
       "      <th>70673</th>\n",
       "      <td>999</td>\n",
       "      <td>76</td>\n",
       "      <td>14</td>\n",
       "    </tr>\n",
       "    <tr>\n",
       "      <th>1214</th>\n",
       "      <td>15</td>\n",
       "      <td>50</td>\n",
       "      <td>14</td>\n",
       "    </tr>\n",
       "  </tbody>\n",
       "</table>\n",
       "</div>"
      ],
      "text/plain": [
       "       user_id  joke_id  rating\n",
       "13422      192       85       7\n",
       "69632      985        2      20\n",
       "52880      742       81       8\n",
       "48226      681       10      19\n",
       "46628      657       55      14\n",
       "36805      513       24       1\n",
       "8248       114        7      16\n",
       "61760      872       41      12\n",
       "70673      999       76      14\n",
       "1214        15       50      14"
      ]
     },
     "execution_count": 7,
     "metadata": {},
     "output_type": "execute_result"
    }
   ],
   "source": [
    "ratings = pd.DataFrame([],columns=['user_id', 'joke_id', 'rating'], dtype=int)\n",
    "\n",
    "for u in joke_ratings.index:\n",
    "    for i in joke_ratings.columns:\n",
    "        if joke_ratings[i][u] > 0:\n",
    "            new_rating = {\"user_id\":users[u], \"joke_id\":items[i], \"rating\":joke_ratings[i][u]}\n",
    "            ratings = ratings.append(new_rating, ignore_index=True)\n",
    "\n",
    "ratings.sample(10)"
   ]
  },
  {
   "cell_type": "code",
   "execution_count": 8,
   "metadata": {},
   "outputs": [],
   "source": [
    "#First, preprocess the joke text data (tokenization, stop word removal, stemming) \n",
    "#and create feature vector representation of jokes with TFxIDF weights.\n",
    "\n",
    "#code from class notebook\n",
    "def normalize_document(doc):\n",
    "    wpt = nltk.WordPunctTokenizer()\n",
    "    stop_words = nltk.corpus.stopwords.words('english')\n",
    "    ps = nltk.stem.PorterStemmer()\n",
    "    # convert to lower case, and remove special characters and white space\n",
    "    doc = re.sub(r'[^a-zA-Z0-9_\\s]', '', doc, re.I)\n",
    "    doc = doc.lower()\n",
    "    doc = doc.strip()\n",
    "    # tokenize the document\n",
    "    tokens = wpt.tokenize(doc)\n",
    "    # remove stopwords\n",
    "    filtered_tokens = [token for token in tokens if (token not in stop_words and token not in [\".\"])]\n",
    "    # put the filtered document back together\n",
    "    doc = ' '.join([ps.stem(token) for token in filtered_tokens])\n",
    "    return doc"
   ]
  },
  {
   "cell_type": "code",
   "execution_count": 9,
   "metadata": {},
   "outputs": [],
   "source": [
    "vectorzer = TfidfVectorizer(preprocessor=normalize_document, norm=None, max_df = 0.8, min_df = 3)"
   ]
  },
  {
   "cell_type": "code",
   "execution_count": 10,
   "metadata": {},
   "outputs": [
    {
     "data": {
      "text/plain": [
       "TfidfVectorizer(max_df=0.8, min_df=3, norm=None,\n",
       "                preprocessor=<function normalize_document at 0x000001F24D57BB70>)"
      ]
     },
     "execution_count": 10,
     "metadata": {},
     "output_type": "execute_result"
    }
   ],
   "source": [
    "vectorzer.fit(joke_text['Joke Text'])"
   ]
  },
  {
   "cell_type": "code",
   "execution_count": 11,
   "metadata": {},
   "outputs": [],
   "source": [
    "joke_mat = vectorzer.transform(joke_text['Joke Text'])"
   ]
  },
  {
   "cell_type": "code",
   "execution_count": 12,
   "metadata": {},
   "outputs": [
    {
     "data": {
      "text/plain": [
       "<100x186 sparse matrix of type '<class 'numpy.float64'>'\n",
       "\twith 1005 stored elements in Compressed Sparse Row format>"
      ]
     },
     "execution_count": 12,
     "metadata": {},
     "output_type": "execute_result"
    }
   ],
   "source": [
    "joke_mat"
   ]
  },
  {
   "cell_type": "code",
   "execution_count": 13,
   "metadata": {},
   "outputs": [
    {
     "name": "stdout",
     "output_type": "stream",
     "text": [
      "['morn', 'mother', 'much', 'must', 'need', 'never', 'new', 'news', 'next', 'notic', 'oh', 'okay', 'old', 'one', 'open', 'order', 'paid', 'pass', 'person', 'phone']\n"
     ]
    }
   ],
   "source": [
    "features = vectorzer.get_feature_names()\n",
    "print(features[100:120])"
   ]
  },
  {
   "cell_type": "code",
   "execution_count": 14,
   "metadata": {},
   "outputs": [
    {
     "data": {
      "text/plain": [
       "{'man': 91,\n",
       " 'doctor': 38,\n",
       " 'say': 137,\n",
       " 'bad': 11,\n",
       " 'news': 107,\n",
       " 'repli': 130,\n",
       " 'well': 173,\n",
       " 'coupl': 32,\n",
       " 'go': 60,\n",
       " 'one': 113,\n",
       " 'day': 33,\n",
       " 'came': 23,\n",
       " 'home': 73,\n",
       " 'work': 181,\n",
       " 'find': 53,\n",
       " 'ask': 8,\n",
       " 'told': 163,\n",
       " 'thing': 157,\n",
       " 'could': 30,\n",
       " 'possibl': 122,\n",
       " 'said': 136,\n",
       " 'make': 90,\n",
       " 'big': 16,\n",
       " 'word': 180,\n",
       " 'year': 184,\n",
       " 'old': 112,\n",
       " 'what': 175,\n",
       " 'feet': 51,\n",
       " 'long': 86,\n",
       " 'differ': 37,\n",
       " 'around': 6,\n",
       " 'use': 169,\n",
       " 'bill': 17,\n",
       " 'hillari': 72,\n",
       " 'back': 10,\n",
       " 'pull': 125,\n",
       " 'run': 135,\n",
       " 'school': 138,\n",
       " 'car': 24,\n",
       " 'window': 178,\n",
       " 'good': 62,\n",
       " 'turn': 166,\n",
       " 'marri': 93,\n",
       " 'wife': 177,\n",
       " 'would': 182,\n",
       " 'presid': 123,\n",
       " 'mani': 92,\n",
       " 'take': 154,\n",
       " 'screw': 139,\n",
       " 'light': 82,\n",
       " 'funni': 56,\n",
       " 'hear': 70,\n",
       " 'countri': 31,\n",
       " 'guy': 67,\n",
       " 'goe': 61,\n",
       " 'bar': 12,\n",
       " 'demand': 35,\n",
       " 'got': 63,\n",
       " 'like': 83,\n",
       " 'return': 133,\n",
       " 'okay': 111,\n",
       " 'resourc': 131,\n",
       " 'come': 27,\n",
       " 'start': 149,\n",
       " 'anyth': 5,\n",
       " 'two': 167,\n",
       " 'eat': 42,\n",
       " 'someon': 146,\n",
       " 'seem': 142,\n",
       " 'look': 87,\n",
       " 'measur': 94,\n",
       " 'hell': 71,\n",
       " 'answer': 4,\n",
       " 'want': 172,\n",
       " 'everi': 46,\n",
       " 'morn': 100,\n",
       " 'father': 50,\n",
       " 'first': 55,\n",
       " 'love': 89,\n",
       " 'boy': 18,\n",
       " 'ye': 183,\n",
       " 'sir': 143,\n",
       " 'minut': 99,\n",
       " 'later': 80,\n",
       " 'girl': 58,\n",
       " 'left': 81,\n",
       " 'mess': 97,\n",
       " 'get': 57,\n",
       " 'straight': 151,\n",
       " 'person': 118,\n",
       " 'men': 96,\n",
       " 'bulb': 21,\n",
       " 'walk': 171,\n",
       " 'anoth': 3,\n",
       " 'respond': 132,\n",
       " 'littl': 84,\n",
       " 'speak': 148,\n",
       " 'three': 160,\n",
       " 'languag': 78,\n",
       " 'call': 22,\n",
       " 'tri': 165,\n",
       " 'american': 2,\n",
       " 'great': 64,\n",
       " 'think': 158,\n",
       " 'second': 140,\n",
       " 'sit': 144,\n",
       " 'next': 108,\n",
       " 'woman': 179,\n",
       " 'notic': 109,\n",
       " 'mechan': 95,\n",
       " 'open': 114,\n",
       " 'final': 52,\n",
       " 'drink': 41,\n",
       " 'clinton': 26,\n",
       " 'engin': 45,\n",
       " 'problem': 124,\n",
       " 'system': 153,\n",
       " 'ground': 65,\n",
       " 'everyth': 48,\n",
       " 'fine': 54,\n",
       " 'see': 141,\n",
       " 'hand': 68,\n",
       " 'place': 120,\n",
       " 'beer': 15,\n",
       " 'beauti': 14,\n",
       " 'build': 20,\n",
       " 'arriv': 7,\n",
       " 'room': 134,\n",
       " 'pass': 117,\n",
       " 'jewish': 76,\n",
       " 'must': 103,\n",
       " 'tell': 156,\n",
       " 'state': 150,\n",
       " 'teacher': 155,\n",
       " 'group': 66,\n",
       " 'upon': 168,\n",
       " 'oh': 110,\n",
       " 'voic': 170,\n",
       " 'head': 69,\n",
       " 'breath': 19,\n",
       " 'order': 115,\n",
       " 'know': 77,\n",
       " 'young': 185,\n",
       " 'sleep': 145,\n",
       " 'mother': 101,\n",
       " 'everyon': 47,\n",
       " 'die': 36,\n",
       " 'need': 104,\n",
       " 'chang': 25,\n",
       " 'question': 127,\n",
       " 'put': 126,\n",
       " 'live': 85,\n",
       " 'bartend': 13,\n",
       " 'husband': 75,\n",
       " 'decid': 34,\n",
       " 'door': 40,\n",
       " 'give': 59,\n",
       " 'compani': 28,\n",
       " '30': 0,\n",
       " 'dollar': 39,\n",
       " 'els': 43,\n",
       " 'took': 164,\n",
       " 'end': 44,\n",
       " 'receiv': 128,\n",
       " 'paid': 116,\n",
       " 'much': 102,\n",
       " 'student': 152,\n",
       " 'togeth': 162,\n",
       " 'thousand': 159,\n",
       " 'last': 79,\n",
       " 'actual': 1,\n",
       " 'met': 98,\n",
       " 'son': 147,\n",
       " 'time': 161,\n",
       " 'never': 105,\n",
       " 'new': 106,\n",
       " 'away': 9,\n",
       " 'lot': 88,\n",
       " 'fall': 49,\n",
       " 'recent': 129,\n",
       " 'phone': 119,\n",
       " 'whole': 176,\n",
       " 'hot': 74,\n",
       " 'complet': 29,\n",
       " 'posit': 121,\n",
       " 'went': 174}"
      ]
     },
     "execution_count": 14,
     "metadata": {},
     "output_type": "execute_result"
    }
   ],
   "source": [
    "vectorzer.vocabulary_"
   ]
  },
  {
   "cell_type": "markdown",
   "metadata": {},
   "source": [
    " -----\n",
    " Create a non-personalized recommender that, given a target/query item, returns the top k most similar items to the target item. Your function/program should use as input a pre-computed item-item similarity matrix, with Cosine similarity as metric, based on feature representations of items. Your recommender should output the texts of the query joke and the top k recommended jokes along with the similarity values to the query joke. Show the output of your recommender on jokes 19 and 46."
   ]
  },
  {
   "cell_type": "code",
   "execution_count": 15,
   "metadata": {},
   "outputs": [
    {
     "data": {
      "text/plain": [
       "(100, 100)"
      ]
     },
     "execution_count": 15,
     "metadata": {},
     "output_type": "execute_result"
    }
   ],
   "source": [
    "from sklearn.metrics.pairwise import cosine_similarity\n",
    "\n",
    "sim_mat = cosine_similarity(joke_mat)\n",
    "sim_mat.shape"
   ]
  },
  {
   "cell_type": "code",
   "execution_count": 16,
   "metadata": {},
   "outputs": [],
   "source": [
    "np.set_printoptions(linewidth=120, precision=2, edgeitems=10)"
   ]
  },
  {
   "cell_type": "code",
   "execution_count": 17,
   "metadata": {},
   "outputs": [],
   "source": [
    "#print(sim_mat)"
   ]
  },
  {
   "cell_type": "code",
   "execution_count": 18,
   "metadata": {},
   "outputs": [],
   "source": [
    "def content_based_sim(dataMat, simMatrix, item, k):\n",
    "    sims = simMatrix[item,:]\n",
    "    idx = np.argsort(sims)\n",
    "    idx = idx[::-1]\n",
    "    ### Need to remove the item itself since it has the highest similarity to itself\n",
    "    idx = np.array([i for i in idx if i != item])\n",
    "    neigh_idx = idx[:k]\n",
    "    neigh_sims = sims[neigh_idx]\n",
    "    return neigh_idx, neigh_sims"
   ]
  },
  {
   "cell_type": "code",
   "execution_count": 19,
   "metadata": {},
   "outputs": [],
   "source": [
    "joke = 19"
   ]
  },
  {
   "cell_type": "code",
   "execution_count": 20,
   "metadata": {},
   "outputs": [],
   "source": [
    "def get_joke_text(jokes, id):\n",
    "    return jokes.iloc[id][0]"
   ]
  },
  {
   "cell_type": "code",
   "execution_count": 21,
   "metadata": {},
   "outputs": [
    {
     "data": {
      "text/plain": [
       "\"Q. What's the difference between a man and a toilet? A. A toilet doesn't follow you around after you use it.\""
      ]
     },
     "execution_count": 21,
     "metadata": {},
     "output_type": "execute_result"
    }
   ],
   "source": [
    "get_joke_text(joke_text,3)"
   ]
  },
  {
   "cell_type": "code",
   "execution_count": 31,
   "metadata": {},
   "outputs": [
    {
     "data": {
      "text/plain": [
       "\"What's the difference between a MacIntosh and anEtch-A-Sketch? You don't have to shake the Mac to clear the screen. \""
      ]
     },
     "execution_count": 31,
     "metadata": {},
     "output_type": "execute_result"
    }
   ],
   "source": [
    "joke = 19\n",
    "joke_text.iloc[19]['Joke Text']"
   ]
  },
  {
   "cell_type": "code",
   "execution_count": 23,
   "metadata": {},
   "outputs": [],
   "source": [
    "nidx, nsims = content_based_sim(joke_mat, sim_mat, joke, 10)"
   ]
  },
  {
   "cell_type": "code",
   "execution_count": 24,
   "metadata": {},
   "outputs": [
    {
     "name": "stdout",
     "output_type": "stream",
     "text": [
      "[77  4 29 99  3 20  2 72 74 38]\n"
     ]
    }
   ],
   "source": [
    "print(nidx)"
   ]
  },
  {
   "cell_type": "code",
   "execution_count": 25,
   "metadata": {},
   "outputs": [
    {
     "name": "stdout",
     "output_type": "stream",
     "text": [
      "[0.91 0.75 0.66 0.65 0.61 0.47 0.38 0.37 0.33 0.13]\n"
     ]
    }
   ],
   "source": [
    "print(nsims)"
   ]
  },
  {
   "cell_type": "code",
   "execution_count": 26,
   "metadata": {},
   "outputs": [
    {
     "name": "stdout",
     "output_type": "stream",
     "text": [
      "Top 10 similar jokes for joke 19:\n",
      "\n",
      "Joke # 77, similarity rating: 0.9053038607511614\n",
      "Q: What's the difference between the government  and  the Mafia? A: One of them is organized. \n",
      "\n",
      "Joke # 4, similarity rating: 0.746102659945633\n",
      "Q. What's O. J. Simpson's Internet address? A.\tSlash slash backslash slash slash escape. \n",
      "\n",
      "Joke # 29, similarity rating: 0.6566652022371093\n",
      "Q: What's the difference between a Lawyer and a Plumber? A: A Plumber works to unclog the system. \n",
      "\n",
      "Joke # 99, similarity rating: 0.6538919150447557\n",
      "Q: What's the difference between greeting a Queen and greeting thePresident of the United  States?A: You only have to get on one knee to greet the queen. \n",
      "\n",
      "Joke # 3, similarity rating: 0.6053304895090087\n",
      "Q. What's the difference between a man and a toilet? A. A toilet doesn't follow you around after you use it. \n",
      "\n",
      "Joke # 20, similarity rating: 0.46764791494117813\n",
      "What's the difference between a used tire and 365 used condoms?One's a Goodyear the other's a great year. \n",
      "\n",
      "Joke # 2, similarity rating: 0.377594030737508\n",
      "Q. What's 200 feet long and has 4 teeth? A. The front row at a Willie Nelson Concert. \n",
      "\n",
      "Joke # 72, similarity rating: 0.37203529712470235\n",
      "Q: What is the difference between George  Washington Richard Nixon and Bill Clinton? A: Washington couldn't tell a lie Nixon couldn't   tell the truth andClinton doesn't know the difference. \n",
      "\n",
      "Joke # 74, similarity rating: 0.3287663587824874\n",
      "Q: Do you know the difference between an intelligent male and theSasquatch? A: There have been actual reported sightings of the Sasquatch. \n",
      "\n",
      "Joke # 38, similarity rating: 0.13432508474475474\n",
      "What is the difference between men and women:A woman wants one man to satisfy her every need.A man wants every woman to satisfy his one need. \n",
      "\n"
     ]
    }
   ],
   "source": [
    "#finding top 10 similar jokes and their similarity\n",
    "k=10\n",
    "\n",
    "nidx, nsims =content_based_sim(joke_mat, sim_mat, joke, k)\n",
    "print('Top {} similar jokes for joke {}:\\n'.format(k, joke))\n",
    "for n,s in zip(nidx,nsims):\n",
    "    print('Joke # {}, similarity rating: {}'.format(n, s))\n",
    "    print(get_joke_text(joke_text, n),\"\\n\")"
   ]
  },
  {
   "cell_type": "code",
   "execution_count": 27,
   "metadata": {},
   "outputs": [
    {
     "data": {
      "text/plain": [
       "'There was an engineer who had an exceptional gift for fixing all things mechanical.  After serving his company loyally for over 30 years he happily retired.  Several years later the company contacted him regarding a seemingly impossible problem they were having with one of their multi-million dollar machines. They had tried everything and everyone else to get the machine fixed but to no avail.  In desperation they called on the retired engineer who had solved so many of their problems in the past.The engineer reluctantly took the challenge.  He spent a day studying the huge machine.  At the end of the day he marked a small \"x\" in chalk on a particular component of the machine and proudly stated \"This is where your problem is\".The part was replaced and the machine worked perfectly again. The company received a bill for $50000 from the engineer for his service.They demanded an itemized accounting of his charges. The engineer responded briefly:One chalk mark                       $1 Knowing where to put it            $49999It was paid in full and the engineer retired again in peace. '"
      ]
     },
     "execution_count": 27,
     "metadata": {},
     "output_type": "execute_result"
    }
   ],
   "source": [
    "#second joke\n",
    "get_joke_text(joke_text,46)"
   ]
  },
  {
   "cell_type": "code",
   "execution_count": 28,
   "metadata": {},
   "outputs": [
    {
     "name": "stdout",
     "output_type": "stream",
     "text": [
      "[83 92 27 48 61 89 70 47 62 54]\n",
      "[0.5  0.49 0.47 0.43 0.28 0.24 0.23 0.2  0.15 0.15]\n"
     ]
    }
   ],
   "source": [
    "joke=46\n",
    "nidx, nsims = content_based_sim(joke_mat, sim_mat, joke, 10)\n",
    "print(nidx)\n",
    "print(nsims)"
   ]
  },
  {
   "cell_type": "code",
   "execution_count": 29,
   "metadata": {},
   "outputs": [
    {
     "name": "stdout",
     "output_type": "stream",
     "text": [
      "Top 10 similar jokes for joke 46:\n",
      "\n",
      "Joke # 83, similarity rating: 0.49910014923215623\n",
      "Q: What is the difference between Mechanical Engineers and Civil Engineers? A: Mechanical Engineers build weapons Civil Engineers build targets. \n",
      "\n",
      "Joke # 92, similarity rating: 0.48758008243753925\n",
      "Reaching the end of a job interview the human resources person asked a young engineer fresh out of Stanford\"And what starting salary were you looking for?\"The engineer said \"In the neighborhood of $125000 a year depending on the benefits package.\"The interviewer said \"Well what would you say to a package of 5-weeks vacation 14 paid holidays full medical and dental company matching retirement fund to 50% of salary and a company car leased every 2 years - say a red Corvette?\"The Engineer sat up straight and said \"Wow! Are you kidding?\"And the interviewer replied \"Yeah but you started it.\" \n",
      "\n",
      "Joke # 27, similarity rating: 0.46970973368996066\n",
      "A mechanical electrical and a software engineer from Microsoft were driving through the desert when the car broke down. The mechanical engineer said \"It seems to be a problem with the fuel injection system why don't we pop the hood and I'll take a look at it.\" To which the electrical engineer replied \"No I think it's just a loose ground wireI'll get out and take a look.\" Then the Microsoft engineer jumps in.\"No no no. If we just close up all the windows get out wait a few minutes get back in and then reopen the windows everything will work fine.\" \n",
      "\n",
      "Joke # 48, similarity rating: 0.42528219959375496\n",
      "Three engineering students were gathered together discussing the possible designers of the human body.  One said \"It was a mechanical engineer. Just look at all the joints.\"  Another said \"No it was an electrical engineer.  The nervous systems many thousands of electrical connections.\"  The last said \"Actually it was a civil engineer. Who else would run a toxic waste pipeline through a recreational area?\" \n",
      "\n",
      "Joke # 61, similarity rating: 0.27645369957901883\n",
      "A group of  managers were given the assignment to measure the height of a flagpole. So they go out to the flagpole with ladders and tape measures and they're falling off the ladders dropping the tape measures - the whole thing is just a mess.An engineer comes along and sees what they're trying to do walks over pulls the flagpole out of the ground lays it flat measures it from end to end gives the measurement to one of the managers and walks away.After the engineer has gone one manager turns to another and laughs. \"Isn't that just like an engineer we're looking for the height and he gives us the length.\" \n",
      "\n",
      "Joke # 89, similarity rating: 0.24212822994201338\n",
      "Q: How many programmers does it take to change a lightbulb?A: NONE!   That's a hardware problem.... \n",
      "\n",
      "Joke # 70, similarity rating: 0.231606453194113\n",
      "At a recent Sacramento PC Users Group meeting a company was demonstrating its latest speech-recognition software.   A representative from the company was just about ready to start the demonstration and asked everyone in the room to quiet down.Just then someone in the back of the room yelled\"Format C: Return.\"Someone else chimed in:\"Yes Return\"Unfortunately the software worked. \n",
      "\n",
      "Joke # 47, similarity rating: 0.1953737093777497\n",
      "The graduate with a Science degree asks \"Why does it work?\"The graduate with an Engineering degree asks \"How does it work?\"The graduate with an Accounting degree Asks \"How much will it cost?\" The graduate with a  Liberal Arts degree asks \"Do you want fries with  that?\" \n",
      "\n",
      "Joke # 62, similarity rating: 0.15259337350996816\n",
      "An engineer a physicist and a mathematician are sleeping in a room. There is a fire in the room. The engineer wakes up sees the firepicks up the bucket of water and douses the fire and goes back to sleep. Again there is fire in the room. This time the physicist wakes up notices the bucket fills it with water calculates the optimal trajectory and douses the fire in minimum amount of water and goes back to sleep. Again there is fire. This time the mathematician wakes up. He looks at the fire looks at the bucket and the water and exclaims \"A solution exists\" and goes back to sleep. \n",
      "\n",
      "Joke # 54, similarity rating: 0.14914058023295684\n",
      "A woman has twins and gives them up for adoption.  One of them goes to a family in Egypt and is named \"Amal.\"  The other goes to a  family in Spain; they name him \"Juan.\"  Years later Juan sends a picture of himself to his mom.  Upon receiving the picture she tells her husband that she wishes she also had a picture of Amal.  Her husband responds \"But they are twins-if you've seen Juan you've seen   Amal. \n",
      "\n"
     ]
    }
   ],
   "source": [
    "#finding top 10 similar jokes and their similarity\n",
    "nidx, nsims =content_based_sim(joke_mat, sim_mat, joke, k)\n",
    "print('Top {} similar jokes for joke {}:\\n'.format(k, joke))\n",
    "for n,s in zip(nidx,nsims):\n",
    "    print('Joke # {}, similarity rating: {}'.format(n, s))\n",
    "    print(get_joke_text(joke_text, n),\"\\n\")"
   ]
  },
  {
   "cell_type": "markdown",
   "metadata": {},
   "source": [
    "________\n",
    "Next, for a personalized version of the content-based recommendation, you'll need to create user profiles for each user based on their past ratings on jokes. Use the following procedure for creating user profiles.\n",
    "\n",
    "We are going to assume that \"liked\" items by a user u are those jokes whose rating by u is greater than u's mean rating on all jokes rated by u (note that zeros don't count as ratings). These are the jokes from which user profiles for each user will be constructed. So, for each user you need to collect all jokes that satisfy this condition."
   ]
  },
  {
   "cell_type": "code",
   "execution_count": 32,
   "metadata": {},
   "outputs": [
    {
     "data": {
      "text/html": [
       "<div>\n",
       "<style scoped>\n",
       "    .dataframe tbody tr th:only-of-type {\n",
       "        vertical-align: middle;\n",
       "    }\n",
       "\n",
       "    .dataframe tbody tr th {\n",
       "        vertical-align: top;\n",
       "    }\n",
       "\n",
       "    .dataframe thead th {\n",
       "        text-align: right;\n",
       "    }\n",
       "</style>\n",
       "<table border=\"1\" class=\"dataframe\">\n",
       "  <thead>\n",
       "    <tr style=\"text-align: right;\">\n",
       "      <th></th>\n",
       "      <th>user_id</th>\n",
       "      <th>joke_id</th>\n",
       "      <th>rating</th>\n",
       "      <th>avg_rating</th>\n",
       "    </tr>\n",
       "  </thead>\n",
       "  <tbody>\n",
       "    <tr>\n",
       "      <th>11979</th>\n",
       "      <td>167</td>\n",
       "      <td>46</td>\n",
       "      <td>14</td>\n",
       "      <td>16.608</td>\n",
       "    </tr>\n",
       "    <tr>\n",
       "      <th>19419</th>\n",
       "      <td>275</td>\n",
       "      <td>43</td>\n",
       "      <td>11</td>\n",
       "      <td>9.990</td>\n",
       "    </tr>\n",
       "    <tr>\n",
       "      <th>67815</th>\n",
       "      <td>956</td>\n",
       "      <td>40</td>\n",
       "      <td>11</td>\n",
       "      <td>10.789</td>\n",
       "    </tr>\n",
       "    <tr>\n",
       "      <th>60793</th>\n",
       "      <td>856</td>\n",
       "      <td>48</td>\n",
       "      <td>15</td>\n",
       "      <td>13.928</td>\n",
       "    </tr>\n",
       "    <tr>\n",
       "      <th>43237</th>\n",
       "      <td>610</td>\n",
       "      <td>61</td>\n",
       "      <td>15</td>\n",
       "      <td>12.180</td>\n",
       "    </tr>\n",
       "    <tr>\n",
       "      <th>68423</th>\n",
       "      <td>966</td>\n",
       "      <td>27</td>\n",
       "      <td>11</td>\n",
       "      <td>12.343</td>\n",
       "    </tr>\n",
       "    <tr>\n",
       "      <th>28309</th>\n",
       "      <td>394</td>\n",
       "      <td>11</td>\n",
       "      <td>8</td>\n",
       "      <td>7.340</td>\n",
       "    </tr>\n",
       "    <tr>\n",
       "      <th>52656</th>\n",
       "      <td>739</td>\n",
       "      <td>35</td>\n",
       "      <td>11</td>\n",
       "      <td>8.851</td>\n",
       "    </tr>\n",
       "    <tr>\n",
       "      <th>57451</th>\n",
       "      <td>807</td>\n",
       "      <td>52</td>\n",
       "      <td>14</td>\n",
       "      <td>12.216</td>\n",
       "    </tr>\n",
       "    <tr>\n",
       "      <th>57176</th>\n",
       "      <td>803</td>\n",
       "      <td>52</td>\n",
       "      <td>3</td>\n",
       "      <td>7.972</td>\n",
       "    </tr>\n",
       "  </tbody>\n",
       "</table>\n",
       "</div>"
      ],
      "text/plain": [
       "       user_id  joke_id  rating  avg_rating\n",
       "11979      167       46      14      16.608\n",
       "19419      275       43      11       9.990\n",
       "67815      956       40      11      10.789\n",
       "60793      856       48      15      13.928\n",
       "43237      610       61      15      12.180\n",
       "68423      966       27      11      12.343\n",
       "28309      394       11       8       7.340\n",
       "52656      739       35      11       8.851\n",
       "57451      807       52      14      12.216\n",
       "57176      803       52       3       7.972"
      ]
     },
     "execution_count": 32,
     "metadata": {},
     "output_type": "execute_result"
    }
   ],
   "source": [
    "#get mean rating for each user\n",
    "ratings['avg_rating'] = ratings.groupby('user_id')['rating'].transform('mean')\n",
    "ratings.sample(10)"
   ]
  },
  {
   "cell_type": "code",
   "execution_count": 33,
   "metadata": {},
   "outputs": [],
   "source": [
    "#if rating is greater than user's avg rating then \"like\"\n",
    "def myFunc(x,y):\n",
    "    if x < y:\n",
    "        return 'liked'\n",
    "    else:\n",
    "        return 'not liked'"
   ]
  },
  {
   "cell_type": "code",
   "execution_count": 34,
   "metadata": {},
   "outputs": [],
   "source": [
    "ratings['liked'] = ratings.apply(lambda x: myFunc(x.avg_rating, x.rating), axis=1)"
   ]
  },
  {
   "cell_type": "code",
   "execution_count": 35,
   "metadata": {},
   "outputs": [
    {
     "data": {
      "text/html": [
       "<div>\n",
       "<style scoped>\n",
       "    .dataframe tbody tr th:only-of-type {\n",
       "        vertical-align: middle;\n",
       "    }\n",
       "\n",
       "    .dataframe tbody tr th {\n",
       "        vertical-align: top;\n",
       "    }\n",
       "\n",
       "    .dataframe thead th {\n",
       "        text-align: right;\n",
       "    }\n",
       "</style>\n",
       "<table border=\"1\" class=\"dataframe\">\n",
       "  <thead>\n",
       "    <tr style=\"text-align: right;\">\n",
       "      <th></th>\n",
       "      <th>user_id</th>\n",
       "      <th>joke_id</th>\n",
       "      <th>rating</th>\n",
       "      <th>avg_rating</th>\n",
       "      <th>liked</th>\n",
       "    </tr>\n",
       "  </thead>\n",
       "  <tbody>\n",
       "    <tr>\n",
       "      <th>70670</th>\n",
       "      <td>999</td>\n",
       "      <td>68</td>\n",
       "      <td>15</td>\n",
       "      <td>12.507</td>\n",
       "      <td>liked</td>\n",
       "    </tr>\n",
       "    <tr>\n",
       "      <th>70671</th>\n",
       "      <td>999</td>\n",
       "      <td>69</td>\n",
       "      <td>11</td>\n",
       "      <td>12.507</td>\n",
       "      <td>not liked</td>\n",
       "    </tr>\n",
       "    <tr>\n",
       "      <th>70672</th>\n",
       "      <td>999</td>\n",
       "      <td>74</td>\n",
       "      <td>8</td>\n",
       "      <td>12.507</td>\n",
       "      <td>not liked</td>\n",
       "    </tr>\n",
       "    <tr>\n",
       "      <th>70673</th>\n",
       "      <td>999</td>\n",
       "      <td>76</td>\n",
       "      <td>14</td>\n",
       "      <td>12.507</td>\n",
       "      <td>liked</td>\n",
       "    </tr>\n",
       "    <tr>\n",
       "      <th>70674</th>\n",
       "      <td>999</td>\n",
       "      <td>94</td>\n",
       "      <td>12</td>\n",
       "      <td>12.507</td>\n",
       "      <td>not liked</td>\n",
       "    </tr>\n",
       "  </tbody>\n",
       "</table>\n",
       "</div>"
      ],
      "text/plain": [
       "       user_id  joke_id  rating  avg_rating      liked\n",
       "70670      999       68      15      12.507      liked\n",
       "70671      999       69      11      12.507  not liked\n",
       "70672      999       74       8      12.507  not liked\n",
       "70673      999       76      14      12.507      liked\n",
       "70674      999       94      12      12.507  not liked"
      ]
     },
     "execution_count": 35,
     "metadata": {},
     "output_type": "execute_result"
    }
   ],
   "source": [
    "ratings.tail()"
   ]
  },
  {
   "cell_type": "markdown",
   "metadata": {},
   "source": [
    "Split the liked items for each user into a training and a test portions. Normally, we would use random splits, however, for consistency across different answers, in this case you should select the first half of items as the user profile to be used for training, and the second half to be set aside for testing purposes. For each user, you should maintain a list of indices of the items in the user profile (the known \"liked\" items used for training) as well as indices of items in the test portion of user's record (the withheld test \"liked\" items)."
   ]
  },
  {
   "cell_type": "code",
   "execution_count": 36,
   "metadata": {},
   "outputs": [
    {
     "data": {
      "text/html": [
       "<div>\n",
       "<style scoped>\n",
       "    .dataframe tbody tr th:only-of-type {\n",
       "        vertical-align: middle;\n",
       "    }\n",
       "\n",
       "    .dataframe tbody tr th {\n",
       "        vertical-align: top;\n",
       "    }\n",
       "\n",
       "    .dataframe thead th {\n",
       "        text-align: right;\n",
       "    }\n",
       "</style>\n",
       "<table border=\"1\" class=\"dataframe\">\n",
       "  <thead>\n",
       "    <tr style=\"text-align: right;\">\n",
       "      <th></th>\n",
       "      <th>user_id</th>\n",
       "      <th>joke_id</th>\n",
       "      <th>rating</th>\n",
       "      <th>avg_rating</th>\n",
       "      <th>liked</th>\n",
       "    </tr>\n",
       "  </thead>\n",
       "  <tbody>\n",
       "    <tr>\n",
       "      <th>1</th>\n",
       "      <td>0</td>\n",
       "      <td>1</td>\n",
       "      <td>19</td>\n",
       "      <td>7.014</td>\n",
       "      <td>liked</td>\n",
       "    </tr>\n",
       "    <tr>\n",
       "      <th>7</th>\n",
       "      <td>0</td>\n",
       "      <td>7</td>\n",
       "      <td>15</td>\n",
       "      <td>7.014</td>\n",
       "      <td>liked</td>\n",
       "    </tr>\n",
       "    <tr>\n",
       "      <th>13</th>\n",
       "      <td>0</td>\n",
       "      <td>13</td>\n",
       "      <td>19</td>\n",
       "      <td>7.014</td>\n",
       "      <td>liked</td>\n",
       "    </tr>\n",
       "    <tr>\n",
       "      <th>21</th>\n",
       "      <td>0</td>\n",
       "      <td>21</td>\n",
       "      <td>12</td>\n",
       "      <td>7.014</td>\n",
       "      <td>liked</td>\n",
       "    </tr>\n",
       "    <tr>\n",
       "      <th>25</th>\n",
       "      <td>0</td>\n",
       "      <td>25</td>\n",
       "      <td>12</td>\n",
       "      <td>7.014</td>\n",
       "      <td>liked</td>\n",
       "    </tr>\n",
       "  </tbody>\n",
       "</table>\n",
       "</div>"
      ],
      "text/plain": [
       "    user_id  joke_id  rating  avg_rating  liked\n",
       "1         0        1      19       7.014  liked\n",
       "7         0        7      15       7.014  liked\n",
       "13        0       13      19       7.014  liked\n",
       "21        0       21      12       7.014  liked\n",
       "25        0       25      12       7.014  liked"
      ]
     },
     "execution_count": 36,
     "metadata": {},
     "output_type": "execute_result"
    }
   ],
   "source": [
    "liked_jokes = ratings.loc[ratings['liked'] == 'liked']\n",
    "liked_jokes.head()"
   ]
  },
  {
   "cell_type": "code",
   "execution_count": null,
   "metadata": {},
   "outputs": [],
   "source": [
    "j_text = pd.read_csv(\"jokes.csv\",header=None, dtype=str, index_col=0, names=[\"Joke Text\"])\n",
    "j_text.reset_index(level=0, inplace=True)\n",
    "j_text.rename(columns={'index':'joke_id'},inplace=True)\n",
    "j_text['joke_id']=j_text['joke_id'].astype(int)"
   ]
  },
  {
   "cell_type": "code",
   "execution_count": 46,
   "metadata": {},
   "outputs": [],
   "source": [
    "joke_text.reset_index(level=0, inplace=True)\n",
    "joke_text.rename(columns={'index':'joke_id'},inplace=True)\n",
    "joke_text['joke_id']=joke_text['joke_id'].astype(int)\n",
    "#joke_text['Joke Text']=joke_text['Joke Text'].astype(str)"
   ]
  },
  {
   "cell_type": "code",
   "execution_count": 47,
   "metadata": {},
   "outputs": [
    {
     "data": {
      "text/html": [
       "<div>\n",
       "<style scoped>\n",
       "    .dataframe tbody tr th:only-of-type {\n",
       "        vertical-align: middle;\n",
       "    }\n",
       "\n",
       "    .dataframe tbody tr th {\n",
       "        vertical-align: top;\n",
       "    }\n",
       "\n",
       "    .dataframe thead th {\n",
       "        text-align: right;\n",
       "    }\n",
       "</style>\n",
       "<table border=\"1\" class=\"dataframe\">\n",
       "  <thead>\n",
       "    <tr style=\"text-align: right;\">\n",
       "      <th></th>\n",
       "      <th>user_id</th>\n",
       "      <th>joke_id</th>\n",
       "      <th>rating</th>\n",
       "      <th>avg_rating</th>\n",
       "      <th>liked</th>\n",
       "      <th>Joke Text</th>\n",
       "    </tr>\n",
       "  </thead>\n",
       "  <tbody>\n",
       "    <tr>\n",
       "      <th>0</th>\n",
       "      <td>0</td>\n",
       "      <td>1</td>\n",
       "      <td>19</td>\n",
       "      <td>7.014</td>\n",
       "      <td>liked</td>\n",
       "      <td>This couple had an excellent relationship goin...</td>\n",
       "    </tr>\n",
       "    <tr>\n",
       "      <th>1</th>\n",
       "      <td>3</td>\n",
       "      <td>1</td>\n",
       "      <td>19</td>\n",
       "      <td>13.125</td>\n",
       "      <td>liked</td>\n",
       "      <td>This couple had an excellent relationship goin...</td>\n",
       "    </tr>\n",
       "    <tr>\n",
       "      <th>2</th>\n",
       "      <td>4</td>\n",
       "      <td>1</td>\n",
       "      <td>15</td>\n",
       "      <td>13.747</td>\n",
       "      <td>liked</td>\n",
       "      <td>This couple had an excellent relationship goin...</td>\n",
       "    </tr>\n",
       "    <tr>\n",
       "      <th>3</th>\n",
       "      <td>5</td>\n",
       "      <td>1</td>\n",
       "      <td>7</td>\n",
       "      <td>5.640</td>\n",
       "      <td>liked</td>\n",
       "      <td>This couple had an excellent relationship goin...</td>\n",
       "    </tr>\n",
       "    <tr>\n",
       "      <th>4</th>\n",
       "      <td>7</td>\n",
       "      <td>1</td>\n",
       "      <td>14</td>\n",
       "      <td>8.100</td>\n",
       "      <td>liked</td>\n",
       "      <td>This couple had an excellent relationship goin...</td>\n",
       "    </tr>\n",
       "  </tbody>\n",
       "</table>\n",
       "</div>"
      ],
      "text/plain": [
       "   user_id  joke_id  rating  avg_rating  liked  \\\n",
       "0        0        1      19       7.014  liked   \n",
       "1        3        1      19      13.125  liked   \n",
       "2        4        1      15      13.747  liked   \n",
       "3        5        1       7       5.640  liked   \n",
       "4        7        1      14       8.100  liked   \n",
       "\n",
       "                                           Joke Text  \n",
       "0  This couple had an excellent relationship goin...  \n",
       "1  This couple had an excellent relationship goin...  \n",
       "2  This couple had an excellent relationship goin...  \n",
       "3  This couple had an excellent relationship goin...  \n",
       "4  This couple had an excellent relationship goin...  "
      ]
     },
     "execution_count": 47,
     "metadata": {},
     "output_type": "execute_result"
    }
   ],
   "source": [
    "ui_merge = pd.merge(liked_jokes, joke_text)\n",
    "ui_merge.head()"
   ]
  },
  {
   "cell_type": "code",
   "execution_count": 72,
   "metadata": {},
   "outputs": [],
   "source": [
    "ui_merge['Joke Text']=ui_merge['Joke Text'].astype(str)"
   ]
  },
  {
   "cell_type": "code",
   "execution_count": 48,
   "metadata": {},
   "outputs": [],
   "source": [
    "ui_merge.drop(columns=['avg_rating', 'liked'], inplace=True)"
   ]
  },
  {
   "cell_type": "code",
   "execution_count": 73,
   "metadata": {},
   "outputs": [
    {
     "data": {
      "text/html": [
       "<div>\n",
       "<style scoped>\n",
       "    .dataframe tbody tr th:only-of-type {\n",
       "        vertical-align: middle;\n",
       "    }\n",
       "\n",
       "    .dataframe tbody tr th {\n",
       "        vertical-align: top;\n",
       "    }\n",
       "\n",
       "    .dataframe thead th {\n",
       "        text-align: right;\n",
       "    }\n",
       "</style>\n",
       "<table border=\"1\" class=\"dataframe\">\n",
       "  <thead>\n",
       "    <tr style=\"text-align: right;\">\n",
       "      <th></th>\n",
       "      <th>user_id</th>\n",
       "      <th>joke_id</th>\n",
       "      <th>rating</th>\n",
       "      <th>Joke Text</th>\n",
       "    </tr>\n",
       "  </thead>\n",
       "  <tbody>\n",
       "    <tr>\n",
       "      <th>0</th>\n",
       "      <td>0</td>\n",
       "      <td>1</td>\n",
       "      <td>19</td>\n",
       "      <td>This couple had an excellent relationship goin...</td>\n",
       "    </tr>\n",
       "    <tr>\n",
       "      <th>430</th>\n",
       "      <td>0</td>\n",
       "      <td>7</td>\n",
       "      <td>15</td>\n",
       "      <td>Q. Did you hear about the dyslexic devil worsh...</td>\n",
       "    </tr>\n",
       "    <tr>\n",
       "      <th>829</th>\n",
       "      <td>0</td>\n",
       "      <td>13</td>\n",
       "      <td>19</td>\n",
       "      <td>The father was very anxious to marry off his o...</td>\n",
       "    </tr>\n",
       "    <tr>\n",
       "      <th>1314</th>\n",
       "      <td>0</td>\n",
       "      <td>21</td>\n",
       "      <td>12</td>\n",
       "      <td>A duck walks into a pharmacy and asks for a co...</td>\n",
       "    </tr>\n",
       "    <tr>\n",
       "      <th>1755</th>\n",
       "      <td>0</td>\n",
       "      <td>25</td>\n",
       "      <td>12</td>\n",
       "      <td>A guy walks into a bar and sits down next to a...</td>\n",
       "    </tr>\n",
       "    <tr>\n",
       "      <th>2334</th>\n",
       "      <td>0</td>\n",
       "      <td>26</td>\n",
       "      <td>18</td>\n",
       "      <td>Clinton returns from a vacation in Arkansas an...</td>\n",
       "    </tr>\n",
       "    <tr>\n",
       "      <th>3081</th>\n",
       "      <td>0</td>\n",
       "      <td>27</td>\n",
       "      <td>13</td>\n",
       "      <td>A mechanical electrical and a software enginee...</td>\n",
       "    </tr>\n",
       "    <tr>\n",
       "      <th>3636</th>\n",
       "      <td>0</td>\n",
       "      <td>28</td>\n",
       "      <td>20</td>\n",
       "      <td>An old Scotsmen is sitting with a younger Scot...</td>\n",
       "    </tr>\n",
       "    <tr>\n",
       "      <th>4404</th>\n",
       "      <td>0</td>\n",
       "      <td>30</td>\n",
       "      <td>13</td>\n",
       "      <td>President Clinton looks up from his desk in t...</td>\n",
       "    </tr>\n",
       "    <tr>\n",
       "      <th>5088</th>\n",
       "      <td>0</td>\n",
       "      <td>33</td>\n",
       "      <td>18</td>\n",
       "      <td>Out in the backwoods of some midwestern state ...</td>\n",
       "    </tr>\n",
       "    <tr>\n",
       "      <th>5526</th>\n",
       "      <td>0</td>\n",
       "      <td>34</td>\n",
       "      <td>16</td>\n",
       "      <td>An explorer in the deepest Amazon suddenly fin...</td>\n",
       "    </tr>\n",
       "    <tr>\n",
       "      <th>6280</th>\n",
       "      <td>0</td>\n",
       "      <td>35</td>\n",
       "      <td>15</td>\n",
       "      <td>A guy walks into a bar orders a beer and says ...</td>\n",
       "    </tr>\n",
       "    <tr>\n",
       "      <th>7050</th>\n",
       "      <td>0</td>\n",
       "      <td>46</td>\n",
       "      <td>14</td>\n",
       "      <td>There was an engineer who had an exceptional g...</td>\n",
       "    </tr>\n",
       "    <tr>\n",
       "      <th>7580</th>\n",
       "      <td>0</td>\n",
       "      <td>47</td>\n",
       "      <td>10</td>\n",
       "      <td>The graduate with a Science degree asks \"Why d...</td>\n",
       "    </tr>\n",
       "    <tr>\n",
       "      <th>8183</th>\n",
       "      <td>0</td>\n",
       "      <td>48</td>\n",
       "      <td>14</td>\n",
       "      <td>Three engineering students were gathered toget...</td>\n",
       "    </tr>\n",
       "    <tr>\n",
       "      <th>8913</th>\n",
       "      <td>0</td>\n",
       "      <td>49</td>\n",
       "      <td>15</td>\n",
       "      <td>A guy goes into confession and says to the pri...</td>\n",
       "    </tr>\n",
       "    <tr>\n",
       "      <th>9754</th>\n",
       "      <td>0</td>\n",
       "      <td>52</td>\n",
       "      <td>14</td>\n",
       "      <td>One Sunday morning William burst into the livi...</td>\n",
       "    </tr>\n",
       "    <tr>\n",
       "      <th>10536</th>\n",
       "      <td>0</td>\n",
       "      <td>53</td>\n",
       "      <td>19</td>\n",
       "      <td>The Pope dies and naturally goes to heaven. He...</td>\n",
       "    </tr>\n",
       "    <tr>\n",
       "      <th>11202</th>\n",
       "      <td>0</td>\n",
       "      <td>55</td>\n",
       "      <td>11</td>\n",
       "      <td>A man and Cindy Crawford get stranded on a des...</td>\n",
       "    </tr>\n",
       "    <tr>\n",
       "      <th>11864</th>\n",
       "      <td>0</td>\n",
       "      <td>58</td>\n",
       "      <td>13</td>\n",
       "      <td>The Chukcha (Russian Eskimo) phones up the Rus...</td>\n",
       "    </tr>\n",
       "    <tr>\n",
       "      <th>12147</th>\n",
       "      <td>0</td>\n",
       "      <td>60</td>\n",
       "      <td>19</td>\n",
       "      <td>During a recent publicity outing Hillary sneak...</td>\n",
       "    </tr>\n",
       "    <tr>\n",
       "      <th>12827</th>\n",
       "      <td>0</td>\n",
       "      <td>61</td>\n",
       "      <td>14</td>\n",
       "      <td>A group of  managers were given the assignment...</td>\n",
       "    </tr>\n",
       "    <tr>\n",
       "      <th>13589</th>\n",
       "      <td>0</td>\n",
       "      <td>64</td>\n",
       "      <td>13</td>\n",
       "      <td>Two Rednecks were seated at the end of a bar w...</td>\n",
       "    </tr>\n",
       "    <tr>\n",
       "      <th>14259</th>\n",
       "      <td>0</td>\n",
       "      <td>65</td>\n",
       "      <td>9</td>\n",
       "      <td>A lawyer opened the door of his BMW when sudde...</td>\n",
       "    </tr>\n",
       "    <tr>\n",
       "      <th>14969</th>\n",
       "      <td>0</td>\n",
       "      <td>67</td>\n",
       "      <td>19</td>\n",
       "      <td>A man piloting a hot air balloon discovers he ...</td>\n",
       "    </tr>\n",
       "    <tr>\n",
       "      <th>15682</th>\n",
       "      <td>0</td>\n",
       "      <td>68</td>\n",
       "      <td>16</td>\n",
       "      <td>This guys wife asks \"Honey if I died would you...</td>\n",
       "    </tr>\n",
       "    <tr>\n",
       "      <th>16401</th>\n",
       "      <td>0</td>\n",
       "      <td>90</td>\n",
       "      <td>13</td>\n",
       "      <td>A Panda bear walks into a bar.  Sits down at a...</td>\n",
       "    </tr>\n",
       "  </tbody>\n",
       "</table>\n",
       "</div>"
      ],
      "text/plain": [
       "       user_id  joke_id  rating  \\\n",
       "0            0        1      19   \n",
       "430          0        7      15   \n",
       "829          0       13      19   \n",
       "1314         0       21      12   \n",
       "1755         0       25      12   \n",
       "2334         0       26      18   \n",
       "3081         0       27      13   \n",
       "3636         0       28      20   \n",
       "4404         0       30      13   \n",
       "5088         0       33      18   \n",
       "5526         0       34      16   \n",
       "6280         0       35      15   \n",
       "7050         0       46      14   \n",
       "7580         0       47      10   \n",
       "8183         0       48      14   \n",
       "8913         0       49      15   \n",
       "9754         0       52      14   \n",
       "10536        0       53      19   \n",
       "11202        0       55      11   \n",
       "11864        0       58      13   \n",
       "12147        0       60      19   \n",
       "12827        0       61      14   \n",
       "13589        0       64      13   \n",
       "14259        0       65       9   \n",
       "14969        0       67      19   \n",
       "15682        0       68      16   \n",
       "16401        0       90      13   \n",
       "\n",
       "                                               Joke Text  \n",
       "0      This couple had an excellent relationship goin...  \n",
       "430    Q. Did you hear about the dyslexic devil worsh...  \n",
       "829    The father was very anxious to marry off his o...  \n",
       "1314   A duck walks into a pharmacy and asks for a co...  \n",
       "1755   A guy walks into a bar and sits down next to a...  \n",
       "2334   Clinton returns from a vacation in Arkansas an...  \n",
       "3081   A mechanical electrical and a software enginee...  \n",
       "3636   An old Scotsmen is sitting with a younger Scot...  \n",
       "4404    President Clinton looks up from his desk in t...  \n",
       "5088   Out in the backwoods of some midwestern state ...  \n",
       "5526   An explorer in the deepest Amazon suddenly fin...  \n",
       "6280   A guy walks into a bar orders a beer and says ...  \n",
       "7050   There was an engineer who had an exceptional g...  \n",
       "7580   The graduate with a Science degree asks \"Why d...  \n",
       "8183   Three engineering students were gathered toget...  \n",
       "8913   A guy goes into confession and says to the pri...  \n",
       "9754   One Sunday morning William burst into the livi...  \n",
       "10536  The Pope dies and naturally goes to heaven. He...  \n",
       "11202  A man and Cindy Crawford get stranded on a des...  \n",
       "11864  The Chukcha (Russian Eskimo) phones up the Rus...  \n",
       "12147  During a recent publicity outing Hillary sneak...  \n",
       "12827  A group of  managers were given the assignment...  \n",
       "13589  Two Rednecks were seated at the end of a bar w...  \n",
       "14259  A lawyer opened the door of his BMW when sudde...  \n",
       "14969  A man piloting a hot air balloon discovers he ...  \n",
       "15682  This guys wife asks \"Honey if I died would you...  \n",
       "16401  A Panda bear walks into a bar.  Sits down at a...  "
      ]
     },
     "execution_count": 73,
     "metadata": {},
     "output_type": "execute_result"
    }
   ],
   "source": [
    "uid=0\n",
    "p=ui_merge[ui_merge['user_id']==uid]\n",
    "p"
   ]
  },
  {
   "cell_type": "code",
   "execution_count": 161,
   "metadata": {},
   "outputs": [],
   "source": [
    "train_merge = ui_merge[:19266]\n",
    "test_merge = ui_merge[19266:]"
   ]
  },
  {
   "cell_type": "code",
   "execution_count": 143,
   "metadata": {},
   "outputs": [],
   "source": [
    "user_texts = pd.DataFrame([], columns = ['user_id', 'Joke Text'])\n",
    "user_content = {}\n",
    "for pid in set(ui_merge['user_id']):\n",
    "    p = ui_merge[ui_merge['user_id'] == pid]\n",
    "    all_text = ' '.join(p['Joke Text'])\n",
    "    user_content[pid] = [a for a in p['joke_id']]\n",
    "    row = pd.DataFrame([[pid, all_text]], columns=['user_id', 'Joke Text'])\n",
    "    user_texts = user_texts.append(row, ignore_index = True)"
   ]
  },
  {
   "cell_type": "code",
   "execution_count": 166,
   "metadata": {},
   "outputs": [
    {
     "data": {
      "text/html": [
       "<div>\n",
       "<style scoped>\n",
       "    .dataframe tbody tr th:only-of-type {\n",
       "        vertical-align: middle;\n",
       "    }\n",
       "\n",
       "    .dataframe tbody tr th {\n",
       "        vertical-align: top;\n",
       "    }\n",
       "\n",
       "    .dataframe thead th {\n",
       "        text-align: right;\n",
       "    }\n",
       "</style>\n",
       "<table border=\"1\" class=\"dataframe\">\n",
       "  <thead>\n",
       "    <tr style=\"text-align: right;\">\n",
       "      <th></th>\n",
       "      <th>user_id</th>\n",
       "      <th>joke_id</th>\n",
       "      <th>rating</th>\n",
       "      <th>Joke Text</th>\n",
       "    </tr>\n",
       "  </thead>\n",
       "  <tbody>\n",
       "    <tr>\n",
       "      <th>19261</th>\n",
       "      <td>947</td>\n",
       "      <td>11</td>\n",
       "      <td>14</td>\n",
       "      <td>A guy stood over his tee shot for what seemed ...</td>\n",
       "    </tr>\n",
       "    <tr>\n",
       "      <th>19262</th>\n",
       "      <td>948</td>\n",
       "      <td>11</td>\n",
       "      <td>12</td>\n",
       "      <td>A guy stood over his tee shot for what seemed ...</td>\n",
       "    </tr>\n",
       "    <tr>\n",
       "      <th>19263</th>\n",
       "      <td>951</td>\n",
       "      <td>11</td>\n",
       "      <td>10</td>\n",
       "      <td>A guy stood over his tee shot for what seemed ...</td>\n",
       "    </tr>\n",
       "    <tr>\n",
       "      <th>19264</th>\n",
       "      <td>953</td>\n",
       "      <td>11</td>\n",
       "      <td>13</td>\n",
       "      <td>A guy stood over his tee shot for what seemed ...</td>\n",
       "    </tr>\n",
       "    <tr>\n",
       "      <th>19265</th>\n",
       "      <td>956</td>\n",
       "      <td>11</td>\n",
       "      <td>10</td>\n",
       "      <td>A guy stood over his tee shot for what seemed ...</td>\n",
       "    </tr>\n",
       "  </tbody>\n",
       "</table>\n",
       "</div>"
      ],
      "text/plain": [
       "       user_id  joke_id  rating  \\\n",
       "19261      947       11      14   \n",
       "19262      948       11      12   \n",
       "19263      951       11      10   \n",
       "19264      953       11      13   \n",
       "19265      956       11      10   \n",
       "\n",
       "                                               Joke Text  \n",
       "19261  A guy stood over his tee shot for what seemed ...  \n",
       "19262  A guy stood over his tee shot for what seemed ...  \n",
       "19263  A guy stood over his tee shot for what seemed ...  \n",
       "19264  A guy stood over his tee shot for what seemed ...  \n",
       "19265  A guy stood over his tee shot for what seemed ...  "
      ]
     },
     "execution_count": 166,
     "metadata": {},
     "output_type": "execute_result"
    }
   ],
   "source": []
  },
  {
   "cell_type": "code",
   "execution_count": null,
   "metadata": {},
   "outputs": [],
   "source": [
    "#user_content[1]"
   ]
  },
  {
   "cell_type": "code",
   "execution_count": 145,
   "metadata": {},
   "outputs": [],
   "source": [
    "user_profiles = vectorzer.transform(user_texts['Joke Text'])"
   ]
  },
  {
   "cell_type": "code",
   "execution_count": 146,
   "metadata": {},
   "outputs": [
    {
     "data": {
      "text/plain": [
       "<1000x186 sparse matrix of type '<class 'numpy.float64'>'\n",
       "\twith 166960 stored elements in Compressed Sparse Row format>"
      ]
     },
     "execution_count": 146,
     "metadata": {},
     "output_type": "execute_result"
    }
   ],
   "source": [
    "user_profiles"
   ]
  },
  {
   "cell_type": "code",
   "execution_count": 147,
   "metadata": {},
   "outputs": [
    {
     "name": "stdout",
     "output_type": "stream",
     "text": [
      "  (0, 185)\t4.228826155721369\n",
      "  (0, 184)\t22.520576708300222\n",
      "  (0, 183)\t15.293444190452817\n",
      "  (0, 182)\t36.05114343966443\n",
      "  (0, 181)\t31.30213867053259\n",
      "  (0, 180)\t8.457652311442738\n",
      "  (0, 179)\t7.071357950322847\n",
      "  (0, 178)\t12.686478467164108\n",
      "  (0, 177)\t7.6467220952264086\n",
      "  (0, 176)\t4.228826155721369\n",
      "  (0, 173)\t17.0894796975252\n",
      "  (0, 172)\t15.651069335266294\n",
      "  (0, 171)\t26.16363284165144\n",
      "  (0, 170)\t16.915304622885476\n",
      "  (0, 169)\t10.60703692548427\n",
      "  (0, 168)\t4.005682604407159\n",
      "  (0, 167)\t14.21265897300739\n",
      "  (0, 166)\t7.6467220952264086\n",
      "  (0, 165)\t8.457652311442738\n",
      "  (0, 164)\t15.293444190452817\n",
      "  (0, 163)\t16.022730417628637\n",
      "  (0, 162)\t7.6467220952264086\n",
      "  (0, 161)\t18.781283202319553\n",
      "  (0, 160)\t4.228826155721369\n",
      "  (0, 159)\t8.457652311442738\n",
      "  :\t:\n",
      "  (1, 27)\t10.60703692548427\n",
      "  (1, 26)\t19.11680523806602\n",
      "  (1, 25)\t11.470083142839613\n",
      "  (1, 24)\t14.676841471143785\n",
      "  (1, 23)\t4.005682604407159\n",
      "  (1, 22)\t16.56267711923607\n",
      "  (1, 21)\t25.372956934328215\n",
      "  (1, 20)\t8.457652311442738\n",
      "  (1, 19)\t8.457652311442738\n",
      "  (1, 18)\t8.011365208814318\n",
      "  (1, 17)\t31.821110776452812\n",
      "  (1, 16)\t12.017047813221478\n",
      "  (1, 15)\t4.005682604407159\n",
      "  (1, 14)\t4.005682604407159\n",
      "  (1, 13)\t8.457652311442738\n",
      "  (1, 12)\t21.21407385096854\n",
      "  (1, 11)\t8.457652311442738\n",
      "  (1, 10)\t12.520855468213036\n",
      "  (1, 8)\t22.71670257134649\n",
      "  (1, 7)\t4.228826155721369\n",
      "  (1, 6)\t8.011365208814318\n",
      "  (1, 5)\t12.017047813221478\n",
      "  (1, 4)\t11.470083142839613\n",
      "  (1, 2)\t21.144130778606844\n",
      "  (1, 1)\t4.228826155721369\n"
     ]
    }
   ],
   "source": [
    "print(user_profiles[0:2])"
   ]
  },
  {
   "cell_type": "code",
   "execution_count": 148,
   "metadata": {},
   "outputs": [],
   "source": [
    "def content_based_recommend(dataMat, user, rated_items_indicies, k):\n",
    "    from sklearn.metrics.pairwise import cosine_similarity\n",
    "    sims = cosine_similarity(dataMat, user)\n",
    "    sims = sims.flatten() # cosine_similarity returns a nx1 array; flatten it into a 1d numpy array\n",
    "    idx = np.argsort(sims)\n",
    "    # Make sure we don't add items that are already rated by the user\n",
    "    idx = np.array([i for i in idx if not (i in rated_items_indicies)])\n",
    "    idx = idx[::-1] \n",
    "    neigh_idx = idx[:k]\n",
    "    neigh_sims = sims[neigh_idx]\n",
    "    return neigh_idx, neigh_sims"
   ]
  },
  {
   "cell_type": "code",
   "execution_count": 149,
   "metadata": {},
   "outputs": [],
   "source": [
    "u = 0\n",
    "user = user_profiles[u]\n",
    "pid = user_texts.iloc[u][\"user_id\"]\n",
    "rated_items =joke_text[joke_text[\"joke_id\"].isin(user_content[pid])]"
   ]
  },
  {
   "cell_type": "code",
   "execution_count": 150,
   "metadata": {},
   "outputs": [
    {
     "data": {
      "text/plain": [
       "array([ 1,  7, 13, 21, 25, 26, 27, 28, 30, 33, 34, 35, 46, 47, 48, 49, 52, 53, 55, 58, 60, 61, 64, 65, 67, 68, 90],\n",
       "      dtype=int64)"
      ]
     },
     "execution_count": 150,
     "metadata": {},
     "output_type": "execute_result"
    }
   ],
   "source": [
    "rated_items_idx = np.array(rated_items.index)\n",
    "rated_items_idx"
   ]
  },
  {
   "cell_type": "code",
   "execution_count": 151,
   "metadata": {},
   "outputs": [],
   "source": [
    "n_index, n_sims = content_based_recommend(joke_mat, user, rated_items_idx, 10)"
   ]
  },
  {
   "cell_type": "code",
   "execution_count": 152,
   "metadata": {},
   "outputs": [
    {
     "data": {
      "text/plain": [
       "array([92, 45, 83, 93,  5, 37, 80, 75, 62, 36], dtype=int64)"
      ]
     },
     "execution_count": 152,
     "metadata": {},
     "output_type": "execute_result"
    }
   ],
   "source": [
    "n_index"
   ]
  },
  {
   "cell_type": "code",
   "execution_count": 157,
   "metadata": {},
   "outputs": [
    {
     "data": {
      "text/html": [
       "<div>\n",
       "<style scoped>\n",
       "    .dataframe tbody tr th:only-of-type {\n",
       "        vertical-align: middle;\n",
       "    }\n",
       "\n",
       "    .dataframe tbody tr th {\n",
       "        vertical-align: top;\n",
       "    }\n",
       "\n",
       "    .dataframe thead th {\n",
       "        text-align: right;\n",
       "    }\n",
       "</style>\n",
       "<table border=\"1\" class=\"dataframe\">\n",
       "  <thead>\n",
       "    <tr style=\"text-align: right;\">\n",
       "      <th></th>\n",
       "      <th>joke_id</th>\n",
       "      <th>Joke Text</th>\n",
       "    </tr>\n",
       "  </thead>\n",
       "  <tbody>\n",
       "    <tr>\n",
       "      <th>92</th>\n",
       "      <td>92</td>\n",
       "      <td>Reaching the end of a job interview the human ...</td>\n",
       "    </tr>\n",
       "    <tr>\n",
       "      <th>45</th>\n",
       "      <td>45</td>\n",
       "      <td>A couple has been married for 75 years. For th...</td>\n",
       "    </tr>\n",
       "    <tr>\n",
       "      <th>83</th>\n",
       "      <td>83</td>\n",
       "      <td>Q: What is the difference between Mechanical E...</td>\n",
       "    </tr>\n",
       "    <tr>\n",
       "      <th>93</th>\n",
       "      <td>93</td>\n",
       "      <td>Two atoms are walking down the street when one...</td>\n",
       "    </tr>\n",
       "    <tr>\n",
       "      <th>5</th>\n",
       "      <td>5</td>\n",
       "      <td>Bill &amp; Hillary are on a trip back to Arkansas....</td>\n",
       "    </tr>\n",
       "    <tr>\n",
       "      <th>37</th>\n",
       "      <td>37</td>\n",
       "      <td>May I take your order? the waiter asked. \"Yes ...</td>\n",
       "    </tr>\n",
       "    <tr>\n",
       "      <th>80</th>\n",
       "      <td>80</td>\n",
       "      <td>An Asian man goes into a New York CityBank to ...</td>\n",
       "    </tr>\n",
       "    <tr>\n",
       "      <th>75</th>\n",
       "      <td>75</td>\n",
       "      <td>There once was a man and a woman that both  go...</td>\n",
       "    </tr>\n",
       "    <tr>\n",
       "      <th>62</th>\n",
       "      <td>62</td>\n",
       "      <td>An engineer a physicist and a mathematician ar...</td>\n",
       "    </tr>\n",
       "    <tr>\n",
       "      <th>36</th>\n",
       "      <td>36</td>\n",
       "      <td>A Jewish young man was seeing a psychiatrist f...</td>\n",
       "    </tr>\n",
       "  </tbody>\n",
       "</table>\n",
       "</div>"
      ],
      "text/plain": [
       "    joke_id                                          Joke Text\n",
       "92       92  Reaching the end of a job interview the human ...\n",
       "45       45  A couple has been married for 75 years. For th...\n",
       "83       83  Q: What is the difference between Mechanical E...\n",
       "93       93  Two atoms are walking down the street when one...\n",
       "5         5  Bill & Hillary are on a trip back to Arkansas....\n",
       "37       37  May I take your order? the waiter asked. \"Yes ...\n",
       "80       80  An Asian man goes into a New York CityBank to ...\n",
       "75       75  There once was a man and a woman that both  go...\n",
       "62       62  An engineer a physicist and a mathematician ar...\n",
       "36       36  A Jewish young man was seeing a psychiatrist f..."
      ]
     },
     "execution_count": 157,
     "metadata": {},
     "output_type": "execute_result"
    }
   ],
   "source": [
    "recs = joke_text.iloc[n_index]\n",
    "recs"
   ]
  },
  {
   "cell_type": "code",
   "execution_count": null,
   "metadata": {},
   "outputs": [],
   "source": []
  },
  {
   "cell_type": "code",
   "execution_count": null,
   "metadata": {},
   "outputs": [],
   "source": []
  }
 ],
 "metadata": {
  "kernelspec": {
   "display_name": "Python 3.7.3 64-bit ('14023': virtualenv)",
   "language": "python",
   "name": "python37364bit14023virtualenv43d760947b1c41cea019d510c4f98b52"
  },
  "language_info": {
   "codemirror_mode": {
    "name": "ipython",
    "version": 3
   },
   "file_extension": ".py",
   "mimetype": "text/x-python",
   "name": "python",
   "nbconvert_exporter": "python",
   "pygments_lexer": "ipython3",
   "version": "3.7.3"
  }
 },
 "nbformat": 4,
 "nbformat_minor": 5
}
